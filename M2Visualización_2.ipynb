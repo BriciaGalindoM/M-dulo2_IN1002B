{
  "nbformat": 4,
  "nbformat_minor": 0,
  "metadata": {
    "colab": {
      "provenance": []
    },
    "kernelspec": {
      "name": "python3",
      "display_name": "Python 3"
    },
    "language_info": {
      "name": "python"
    }
  },
  "cells": [
    {
      "cell_type": "code",
      "source": [
        "from google.colab import drive\n",
        "drive.mount('/content/drive')"
      ],
      "metadata": {
        "colab": {
          "base_uri": "https://localhost:8080/"
        },
        "id": "CY3YBexon7oI",
        "outputId": "4581c7f6-c50a-4168-8a9b-28cd51def9b1"
      },
      "execution_count": 2,
      "outputs": [
        {
          "output_type": "stream",
          "name": "stdout",
          "text": [
            "Drive already mounted at /content/drive; to attempt to forcibly remount, call drive.mount(\"/content/drive\", force_remount=True).\n"
          ]
        }
      ]
    },
    {
      "cell_type": "code",
      "execution_count": 3,
      "metadata": {
        "id": "nRLxoquanxWu"
      },
      "outputs": [],
      "source": [
        "import pandas as pd\n",
        "import numpy as np\n",
        "import seaborn as sns\n",
        "import matplotlib.pyplot as plt\n",
        "\n",
        "import random\n",
        "from datetime import datetime, timedelta\n"
      ]
    },
    {
      "cell_type": "code",
      "source": [
        "data = pd.read_csv('')"
      ],
      "metadata": {
        "id": "SP9voV42n7Uv"
      },
      "execution_count": 4,
      "outputs": []
    },
    {
      "cell_type": "code",
      "source": [
        "data.head()"
      ],
      "metadata": {
        "id": "BLrt5zhen7Mp"
      },
      "execution_count": null,
      "outputs": []
    },
    {
      "cell_type": "markdown",
      "source": [
        "Generar fechas aleatorias"
      ],
      "metadata": {
        "id": "nbXc3KIYtp5u"
      }
    },
    {
      "cell_type": "code",
      "source": [
        "def generar_fechas_aleatorias(inicio, fin, n, semilla):\n",
        "    \"\"\"\n",
        "    Genera una lista de fechas aleatorias entre dos fechas.\n",
        "\n",
        "    inicio: Fecha inicial en formato 'YYYY-MM-DD'\n",
        "    fin: Fecha final en formato 'YYYY-MM-DD'\n",
        "    n: Número de fechas aleatorias a generar\n",
        "    return: Lista de fechas aleatorias\n",
        "    \"\"\"\n",
        "    if semilla is not None:\n",
        "        random.seed(semilla)\n",
        "\n",
        "    # Convertir las fechas de strings a objetos datetime\n",
        "    fecha_inicio = datetime.strptime(inicio, '%Y-%m-%d')\n",
        "    fecha_fin = datetime.strptime(fin, '%Y-%m-%d')\n",
        "\n",
        "    # Calcular la diferencia de días entre las fechas\n",
        "    delta_dias = (fecha_fin - fecha_inicio).days\n",
        "\n",
        "    # Generar fechas aleatorias\n",
        "    fechas_aleatorias = []\n",
        "    for _ in range(n):\n",
        "        dias_aleatorios = random.randint(0, delta_dias)\n",
        "        fecha_random = fecha_inicio + timedelta(days=dias_aleatorios)\n",
        "        fechas_aleatorias.append(fecha_random.strftime('%Y-%m-%d'))\n",
        "\n",
        "    return fechas_aleatorias\n",
        "\n",
        "inicio = '2020-01-01'\n",
        "fin = '2023-12-31'\n",
        "n = len(data.Branch) # largo de una columna del dataframe\n",
        "\n",
        "data['Date'] = generar_fechas_aleatorias(inicio, fin, n, 42)"
      ],
      "metadata": {
        "id": "XwRWxQgAn7DG"
      },
      "execution_count": 6,
      "outputs": []
    },
    {
      "cell_type": "code",
      "source": [
        "data['Date']  = pd.to_datetime(data['Date'])"
      ],
      "metadata": {
        "id": "TcfIzzkCt4uh"
      },
      "execution_count": 7,
      "outputs": []
    },
    {
      "cell_type": "code",
      "source": [
        "# Año\n",
        "\n",
        "data['Year'] = data.Date.dt.year\n",
        "\n",
        "# Mes\n"
      ],
      "metadata": {
        "id": "dG3hHF6tu_2a"
      },
      "execution_count": 8,
      "outputs": []
    },
    {
      "cell_type": "code",
      "source": [
        "sns.lineplot(data=data, y=\"Total\", x=\"Month\", hue = 'Gender', ci = None)\n",
        "plt.xticks(ticks=data['Month'].unique())\n",
        "\n",
        "# Agregamos una línea de guía, mostraremos el promedio de ventas en todos los periodos\n",
        "plt.axhline(y=data.Total.mean(), color='red', linestyle='--', label='Línea Punteada')\n",
        "\n",
        "# Mostrar el gráfico\n",
        "plt.show()"
      ],
      "metadata": {
        "id": "g4_VO6lquZGi"
      },
      "execution_count": null,
      "outputs": []
    },
    {
      "cell_type": "markdown",
      "source": [
        "# **Repaso y Diseño de gráficos**\n",
        "\n",
        "En esta sección, realizaremos un repaso de las primeras dos funciones vistas en la sesi+on anterior: ```sns.histplot()``` y ```sns.boxplot()```\n",
        "\n",
        "Para ello, trabajaremos con la base de datos *Impact_of_Remote_Work_on_Mental_Health.csv*\n"
      ],
      "metadata": {
        "id": "ue9Ov0R85Zbk"
      }
    },
    {
      "cell_type": "code",
      "source": [
        "df = pd.read_csv('')"
      ],
      "metadata": {
        "id": "0Fu29RLc5Yen"
      },
      "execution_count": 22,
      "outputs": []
    },
    {
      "cell_type": "code",
      "source": [
        "#df.shape\n"
      ],
      "metadata": {
        "id": "cm_y0VkK6I3f"
      },
      "execution_count": null,
      "outputs": []
    },
    {
      "cell_type": "code",
      "source": [
        "# head()\n"
      ],
      "metadata": {
        "id": "3fzLoSe451yF"
      },
      "execution_count": null,
      "outputs": []
    },
    {
      "cell_type": "code",
      "source": [
        "# Isnull().sum()\n"
      ],
      "metadata": {
        "id": "tNPMNw8y51sM"
      },
      "execution_count": null,
      "outputs": []
    },
    {
      "cell_type": "markdown",
      "source": [
        "En esta sesión haremos un repaso de algunas de las funciones vistas en la clase anterior, pero ahora trabajaremos tambien en aspectos de diseño.\n",
        "\n",
        "## **Histogramas**\n",
        "\n",
        "Para este ejemplo, coloquen la variable de horas trabajadas por semana en ```x = ```"
      ],
      "metadata": {
        "id": "Z-ej2yTU7ebv"
      }
    },
    {
      "cell_type": "code",
      "source": [
        "sns.histplot(data = df, x = '')"
      ],
      "metadata": {
        "id": "ICQg_eXo7eD8"
      },
      "execution_count": null,
      "outputs": []
    },
    {
      "cell_type": "markdown",
      "source": [
        "Para saber cúal es el número indicado de bins (barras), una forma es con la regla de Sturges que nos indica:\n",
        "\n",
        "$bin = 1 + \\log_2(n)$\n",
        "\n",
        "Donde *n* representa el número de datos:\n",
        "\n",
        "Referencia: https://www.lifeder.com/regla-sturges/\n"
      ],
      "metadata": {
        "id": "tyBW_5Ds7_mg"
      }
    },
    {
      "cell_type": "code",
      "source": [
        "# Aplicando la regla de Sturges\n",
        "\n",
        "bins= int(1 + np.log2(len(df.Hours_Worked_Per_Week)))\n",
        "bins"
      ],
      "metadata": {
        "id": "_3buCmxA7_IZ"
      },
      "execution_count": null,
      "outputs": []
    },
    {
      "cell_type": "markdown",
      "source": [
        "Debido a que la ecuación nos da como resultado 13 bines, vamos a aplicarlo en el código del histograma:"
      ],
      "metadata": {
        "id": "OXLZSwwO9f8y"
      }
    },
    {
      "cell_type": "code",
      "source": [
        "# agregar: bins = bins\n"
      ],
      "metadata": {
        "id": "nd2B7myi9mV6"
      },
      "execution_count": null,
      "outputs": []
    },
    {
      "cell_type": "markdown",
      "source": [
        "Nuestra distribución ahora parece más un estilo uniforme.\n"
      ],
      "metadata": {
        "id": "-hyGKf0a-Lkh"
      }
    },
    {
      "cell_type": "code",
      "source": [
        "# Agregar kde = True\n"
      ],
      "metadata": {
        "id": "2nt-QBih-XMl"
      },
      "execution_count": null,
      "outputs": []
    },
    {
      "cell_type": "markdown",
      "source": [
        "**kde =** Función de densidad de probabilidad\n",
        "\n",
        "La función de densidad de probabilidad ayuda a identificar regiones de mayores y menores probabilidades para valores de una variable aleatoria.\n",
        "\n",
        "En este gráfico, la KDE comienza alta alrededor de las 20 horas trabajadas por semana, baja gradualmente hacia la parte media (alrededor de las 40 horas), y vuelve a subir cerca de las 60 horas. Esto indica que hay una mayor probabilidad de encontrar personas trabajando en esos extremos (20 y 60 horas), mientras que entre 30 y 55 horas hay menos variabilidad en el número de personas.\n",
        "\n",
        "\n",
        "Por último, definamos el estilo y color del gráfico:"
      ],
      "metadata": {
        "id": "Jiksevti_L_y"
      }
    },
    {
      "cell_type": "code",
      "source": [
        "# color = ' '\n"
      ],
      "metadata": {
        "id": "tueGimi2_o_B"
      },
      "execution_count": null,
      "outputs": []
    },
    {
      "cell_type": "markdown",
      "source": [
        "Por último trabajaeremos en las leyendas de eje, para eso llamaremos a ```matplot```."
      ],
      "metadata": {
        "id": "HiyrhY3ZB0g5"
      }
    },
    {
      "cell_type": "code",
      "source": [
        "sns.histplot()\n",
        "plt.title('Distribución de horas trabajadas por semana') # Título del gráfico\n",
        "plt.xlabel('Horas') # Leyenda del eje x\n",
        "plt.ylabel('Frecuencia') # Leyenda del eje y\n",
        "plt.show() # Mostrar el gráfico"
      ],
      "metadata": {
        "id": "wbddLHf6B9jY"
      },
      "execution_count": null,
      "outputs": []
    },
    {
      "cell_type": "markdown",
      "source": [
        "## **Diagrama de caja y bigote**\n",
        "\n",
        "Ahora retomemos el segundo gráfico. En esta ocasión, vamos a hacer el diagrama de caja con la misma variable, pero agregando una segunda para ver información mas detallada.\n"
      ],
      "metadata": {
        "id": "caI3M7PzCiXx"
      }
    },
    {
      "cell_type": "code",
      "source": [
        "sns.boxplot(data = df, x = 'Hours_Worked_Per_Week')"
      ],
      "metadata": {
        "id": "ynHLZd8yDIfN"
      },
      "execution_count": null,
      "outputs": []
    },
    {
      "cell_type": "code",
      "source": [
        "# Cuartil 1\n",
        "df.Hours_Worked_Per_Week.quantile(0.25)"
      ],
      "metadata": {
        "id": "FQi_keKKDd3V"
      },
      "execution_count": null,
      "outputs": []
    },
    {
      "cell_type": "markdown",
      "source": [
        "El gráfico anterior nos indica que el 25% de los encuestados trabajan trabajan hasta 29 horas a la semana.\n",
        "\n"
      ],
      "metadata": {
        "id": "AW-ySaL5DTBO"
      }
    },
    {
      "cell_type": "code",
      "source": [
        "df.Hours_Worked_Per_Week.quantile(0.75)"
      ],
      "metadata": {
        "id": "-0PLajtHD02d"
      },
      "execution_count": null,
      "outputs": []
    },
    {
      "cell_type": "markdown",
      "source": [
        "Y un 75% hasta 50 horas semanales 😞\n",
        "\n",
        "Sigamos trabajando con este mismo código. Ahora agreguen el parámetro ```y = 'Gender```"
      ],
      "metadata": {
        "id": "-dXy-1qPD319"
      }
    },
    {
      "cell_type": "code",
      "source": [
        "sns.boxplot(data = df, x = 'Hours_Worked_Per_Week', y = '')"
      ],
      "metadata": {
        "id": "cEMEY_zYDO1O"
      },
      "execution_count": null,
      "outputs": []
    },
    {
      "cell_type": "markdown",
      "source": [
        "Si comparamos el Q2 (mediana), vemos una gran diferencia.\n",
        "En el caso de las mujeres, un 50% de ellas trabajan hasya 37 horas (aproximadamente), mientras que en el caso de los hombres es hasta 40 horas.\n",
        "\n"
      ],
      "metadata": {
        "id": "mlmRO1wpEKMm"
      }
    },
    {
      "cell_type": "markdown",
      "source": [
        "Para casi finalizar el gráfico, revisen cuantas categorías tiene la columna ```Work_Location```:"
      ],
      "metadata": {
        "id": "IRH1ce6iEpQP"
      }
    },
    {
      "cell_type": "code",
      "source": [
        "# nunique()\n"
      ],
      "metadata": {
        "colab": {
          "base_uri": "https://localhost:8080/"
        },
        "id": "j5wGMzW7Elmm",
        "outputId": "9d44eea9-8a48-43fd-efc1-cd8d70cd3313"
      },
      "execution_count": 97,
      "outputs": [
        {
          "output_type": "execute_result",
          "data": {
            "text/plain": [
              "3"
            ]
          },
          "metadata": {},
          "execution_count": 97
        }
      ]
    },
    {
      "cell_type": "markdown",
      "source": [
        "Ahora agreguen el parametro ```hue = 'Work_Location'``` dentro del código anterior:"
      ],
      "metadata": {
        "id": "W8QmE2sAE0nq"
      }
    },
    {
      "cell_type": "code",
      "source": [
        "# hue\n"
      ],
      "metadata": {
        "id": "8_CfvRXSEofw"
      },
      "execution_count": null,
      "outputs": []
    },
    {
      "cell_type": "markdown",
      "source": [
        "Si solo analizamos a las mujeres, podemos ver que la mediana cambia si el ttrabajo es remoto. Lo que quiere decir que tienden a trabajar más horas en esa modalidad.\n",
        "\n",
        "Finalmente, coloquemos detalles finales en el gráfico."
      ],
      "metadata": {
        "id": "3K20MBv2FE6G"
      }
    },
    {
      "cell_type": "code",
      "source": [
        "plt.figure(figsize=(7, 6))\n",
        "sns.boxplot()\n",
        "plt.title('Distribución de horas trabajadas por semana') # Título del gráfico\n",
        "plt.xlabel('Horas') # Leyenda del eje x\n",
        "plt.legend(loc='upper left', bbox_to_anchor=(1, 1))\n",
        "plt.show() # Mostrar el gráfico"
      ],
      "metadata": {
        "id": "Pe-vJ-9UGQBm"
      },
      "execution_count": null,
      "outputs": []
    },
    {
      "cell_type": "markdown",
      "source": [
        "```sns.boxplot()``` acepta paleta de colores.\n",
        "\n",
        "Revisen este link: y elijan la de su referencia:\n",
        "https://seaborn.pydata.org/tutorial/color_palettes.html"
      ],
      "metadata": {
        "id": "MKiAXU4GHB9w"
      }
    },
    {
      "cell_type": "code",
      "source": [
        "plt.figure(figsize=(7, 6))\n",
        "sns.boxplot()\n",
        "plt.title('Distribución de horas trabajadas por semana') # Título del gráfico\n",
        "plt.xlabel('Horas') # Leyenda del eje x\n",
        "plt.legend(loc='upper left', bbox_to_anchor=(1, 1))\n",
        "plt.show() # Mostrar el gráfico"
      ],
      "metadata": {
        "id": "P5HpG-PvHBi5"
      },
      "execution_count": null,
      "outputs": []
    },
    {
      "cell_type": "markdown",
      "source": [
        "La misma idea se repite en funciones como ```sns.countplot()``` y ```sns.catplot()```. Solo se trata de elegir cuidadosamente sus variables y jugar con los diseños 😀\n",
        "\n",
        "## Gráficos de dispersión\n",
        "\n",
        "Un gráfico de dispersión muestra la relación entre dos variables continuas.\n",
        "\n",
        "Por dicha razón, vamos a cambiar de base de datos a **Iris**.\n",
        "\n",
        "El dataset Iris es un conjunto de datos de clasificación multiclase clásico y muy sencillo. Introducido por el estadístico y biólogo británico Ronald Fisher en su artículo de 1936 \"The use of multiple measurements in taxonomic problems\". El conjunto de datos de Iris contiene cuatro características (longitud y anchura de sépalos y pétalos) de 50 muestras de tres especies de flores Iris (Iris setosa, Iris virginica e Iris versicolor)\n",
        "\n",
        "https://www.kaggle.com/code/joeportilla/analisis-exploratorio-de-datos-dataset-iris\n"
      ],
      "metadata": {
        "id": "jV70ZmnMHzFK"
      }
    },
    {
      "cell_type": "code",
      "source": [
        "# cargar base de datos\n",
        "iris = pd.read_csv('')"
      ],
      "metadata": {
        "id": "B-TJYnpwIjfV"
      },
      "execution_count": 61,
      "outputs": []
    },
    {
      "cell_type": "code",
      "source": [
        "# head()\n",
        "iris.head()"
      ],
      "metadata": {
        "id": "dXBtN4RtLmlV"
      },
      "execution_count": null,
      "outputs": []
    },
    {
      "cell_type": "markdown",
      "source": [
        "Vamos a trabajar con la función ```sns.sctaterplot()``` con las columnas ```'SepalLengthCm'``` y ```'SepalWidthCm'``` en los parámetros **x** y **y** respectivamente."
      ],
      "metadata": {
        "id": "neTzJvT_PYCm"
      }
    },
    {
      "cell_type": "code",
      "source": [
        "sns.scatterplot(data = iris, x = '', y = '')"
      ],
      "metadata": {
        "id": "YNQXZ6AVMZw1"
      },
      "execution_count": null,
      "outputs": []
    },
    {
      "cell_type": "markdown",
      "source": [
        "Agreguemos ```hue = ''``` con la única vriable cuantitativa en el dataset."
      ],
      "metadata": {
        "id": "U2PPUgb2P145"
      }
    },
    {
      "cell_type": "code",
      "source": [
        "# hue = ' '"
      ],
      "metadata": {
        "id": "xp4xm7x1Lmg6"
      },
      "execution_count": null,
      "outputs": []
    },
    {
      "cell_type": "markdown",
      "source": [
        "Ahora lo trtabajaremos con la técnica de \"**burbuja**\".\n",
        "\n",
        "Esta consiste en que el tamaño de la burbuja dependerá del valor de esa variable en el dataset.\n",
        "\n",
        "Por ejemplo:\n",
        "- si X es 10 y Y es 12, Y será ligeramente más grande que X en el scatter plot.  \n",
        "\n",
        "Agreguen el parámetro ```size = 'PetalLengthCm'``` en el código anterior.\n",
        "\n"
      ],
      "metadata": {
        "id": "6l8OKOoMP_ht"
      }
    },
    {
      "cell_type": "code",
      "source": [
        "# size = ' '"
      ],
      "metadata": {
        "id": "6-xu3hOCMkQC"
      },
      "execution_count": null,
      "outputs": []
    },
    {
      "cell_type": "markdown",
      "source": [
        "Finalmente coloquemos el parámetro ```sizes = (10,100)```.\n",
        "Estos valores no son fijos y los podemos adecuar a nuestras necesidades.\n",
        "\n",
        "Lo que indican es el rango de tamaño que tendran las burbujas en el gráfico."
      ],
      "metadata": {
        "id": "Kl3CSAUDQsnR"
      }
    },
    {
      "cell_type": "code",
      "source": [
        "# sizes = (10,100)"
      ],
      "metadata": {
        "id": "giCpda6rM0ga"
      },
      "execution_count": null,
      "outputs": []
    },
    {
      "cell_type": "code",
      "source": [
        "plt.figure(figsize=(10, 8))\n",
        "sns.scatterplot()\n",
        "#plt.title('SepalLengthCm & SepalWidthCm') # Título del gráfico\n",
        "plt.xlabel('Largo del sepalo (cm)') # Leyenda del eje x\n",
        "plt.ylabel('Ancho del sepalo (cm)') # Leyenda del eje y\n",
        "plt.legend(loc='upper right', bbox_to_anchor=(1, 1) )\n",
        "plt.show() # Mostrar el gráfico"
      ],
      "metadata": {
        "id": "I3u-ZoRSNAvb"
      },
      "execution_count": null,
      "outputs": []
    },
    {
      "cell_type": "code",
      "source": [
        "plt.figure(figsize=(10, 8))\n",
        "sns.scatterplot(, palette = 'pastel')\n",
        "#plt.title('SepalLengthCm & SepalWidthCm') # Título del gráfico\n",
        "plt.xlabel('Largo del sepalo (cm)') # Leyenda del eje x\n",
        "plt.ylabel('Ancho del sepalo (cm)') # Leyenda del eje y\n",
        "plt.legend(loc='upper right', bbox_to_anchor=(1, 1) )\n",
        "plt.show() # Mostrar el gráfico"
      ],
      "metadata": {
        "id": "oRpdJdi1OMOl"
      },
      "execution_count": null,
      "outputs": []
    },
    {
      "cell_type": "markdown",
      "source": [
        "## **Estilos y contextos**\n",
        "\n",
        "En lugar de definir un color por gráfico, ```seaborn``` les permite elegir estilos y contextos.\n",
        "\n",
        "El estilo ya contiene un tipo de letra y fondo. Ustedes pueden por función definir su paleta de colores.\n",
        "\n",
        "Es muy recomendable para la realización de reportes o proyectos.\n",
        "\n",
        "https://python-charts.com/seaborn/themes/\n",
        "\n",
        "https://www.codecademy.com/article/seaborn-design-i\n"
      ],
      "metadata": {
        "id": "e9574G9nQ8B8"
      }
    },
    {
      "cell_type": "code",
      "source": [
        "# Definimos el tema\n",
        "\n",
        "sns.set_style(\"dark\") # darkgrid, whitegrid, dark, white, ticks\n",
        "sns.set_context(\"paper\")"
      ],
      "metadata": {
        "id": "BTFb3tA7RZlE"
      },
      "execution_count": 92,
      "outputs": []
    },
    {
      "cell_type": "code",
      "source": [
        "# Histograma\n",
        "\n",
        "sns.histplot(data = df, x = 'Hours_Worked_Per_Week', bins = bins, kde = True)\n"
      ],
      "metadata": {
        "id": "24NUDlpcRaXv"
      },
      "execution_count": null,
      "outputs": []
    },
    {
      "cell_type": "code",
      "source": [
        "# Scatter\n",
        "sns.scatterplot(data = iris, x = 'SepalLengthCm', y = 'SepalWidthCm', hue = 'Species', size = 'PetalLengthCm',\n",
        "                sizes= (5,300))"
      ],
      "metadata": {
        "id": "q0KqqhyxRaFi"
      },
      "execution_count": null,
      "outputs": []
    }
  ]
}