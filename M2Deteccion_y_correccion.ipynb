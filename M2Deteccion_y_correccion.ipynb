{
 "cells": [
  {
   "cell_type": "markdown",
   "id": "c6b9b45c-38db-4e06-9306-8fe955d2f189",
   "metadata": {},
   "source": [
    "# Módulo 2\n",
    "**Desarrollo de proyectos de análisis de datos  IN1002B**\n",
    "\n",
    "### Detección y corrección de inconsistencias. \n",
    "\n"
   ]
  },
  {
   "cell_type": "code",
   "execution_count": null,
   "id": "c5541004-82c7-40ae-a20b-ecb707883f78",
   "metadata": {},
   "outputs": [],
   "source": [
    "import pandas as pd\n",
    "import numpy as np\n",
    "from scipy import stats"
   ]
  },
  {
   "cell_type": "markdown",
   "id": "992dd8f2-4f62-446a-bdcf-ac551321e3da",
   "metadata": {},
   "source": [
    "La base de datos **landslide** contiene información de avalanchas ocurridas en todo el mundo.\n",
    "\n",
    "En esta sesión, exploraremos la base de datos haciendo énfasis sobre que día, mes, año y hora ocurrieron los eventos. Así mismo, realizaremos actividades de limpieza y preparación."
   ]
  },
  {
   "cell_type": "code",
   "execution_count": null,
   "id": "3e7daaea-cdf2-404b-a87e-73eada0d6c89",
   "metadata": {},
   "outputs": [],
   "source": [
    "data = pd.read_csv('landslide.csv')"
   ]
  },
  {
   "cell_type": "code",
   "execution_count": null,
   "id": "c075df96-9883-4280-b9a3-90d47f556256",
   "metadata": {},
   "outputs": [],
   "source": [
    "# info()\n"
   ]
  },
  {
   "cell_type": "code",
   "execution_count": null,
   "id": "8d107328-b197-4f82-8dc9-d86832eef0ef",
   "metadata": {},
   "outputs": [],
   "source": [
    "#shape\n"
   ]
  },
  {
   "cell_type": "code",
   "execution_count": null,
   "id": "acdb02e5-9205-468d-8f2e-5e8f16d110d0",
   "metadata": {},
   "outputs": [],
   "source": [
    "# head()"
   ]
  },
  {
   "cell_type": "markdown",
   "id": "40e5e8ed-d833-4d2f-9a57-07abcfec35d7",
   "metadata": {},
   "source": [
    "## **Ajustes previos**\n",
    "\n",
    "Eliminen las columnas que consideren no relevantes, o bien que no puedan ser sujetas a ajustes de reemplazo:\n",
    "\n"
   ]
  },
  {
   "cell_type": "code",
   "execution_count": null,
   "id": "f89ee7be-1546-40a6-8c77-c7e07144ad45",
   "metadata": {},
   "outputs": [],
   "source": [
    "data.isnull().sum()"
   ]
  },
  {
   "cell_type": "code",
   "execution_count": null,
   "id": "678b1412-56da-4856-b83d-0c179e940f65",
   "metadata": {},
   "outputs": [],
   "source": [
    "# Seleccionar las columnas a eliminar (menos la de time, la usaremos despues)\n",
    "columnas = ['',...]"
   ]
  },
  {
   "cell_type": "code",
   "execution_count": null,
   "id": "d6150193-7910-4728-a5c3-6623605f358a",
   "metadata": {},
   "outputs": [],
   "source": [
    "# Aplicar la función drop()\n",
    "\n",
    "data.drop(columns = columnas, inplace = True)\n",
    "data.info()"
   ]
  },
  {
   "cell_type": "markdown",
   "id": "2c5cb934-5521-435c-82d0-e4ea06c8b2bb",
   "metadata": {},
   "source": [
    "## **Fecha y hora**\n",
    "\n",
    "### Fechas\n",
    "Cuando queremos trabajar con fechas, podemos usar la funcion de ```to_datetime()```, lo unico que debemos revisar es el orden en el que se cargaron los datos, es decir si se encuentra:\n",
    "* dd/mm/aaaa\n",
    "* mm-dd-aaaa\n",
    "* aaaa dd mm\n",
    "* etc\n",
    "\n",
    "En el mismo orden y con los mismos caracteres especiales, le especificaremos a la función que queremos convertir y agregaremos el simbolo de $%$.\n",
    "\n",
    "* ```%d/%m/%y``` - ```%d/%m/%Y```\n",
    "* ```%m-%d-%y``` - ```%m-%d-%Y```\n",
    "* ```%Y %d %m```\n",
    "\n",
    "Realicemos el ajuste en la columna ```date```\n",
    "\n",
    "- Impriman un ```head()``` de la columna **date** para ver el formato de la fecha:\n"
   ]
  },
  {
   "cell_type": "code",
   "execution_count": null,
   "id": "60a5adca-ec8f-4798-9f27-dcac3cf49355",
   "metadata": {},
   "outputs": [],
   "source": [
    "# head()"
   ]
  },
  {
   "cell_type": "code",
   "execution_count": null,
   "id": "146e1fbf-b12d-41ef-9bee-1044519f872d",
   "metadata": {},
   "outputs": [],
   "source": [
    "data['date'] = pd.to_datetime(data['date'], format= '')"
   ]
  },
  {
   "cell_type": "code",
   "execution_count": null,
   "id": "1ff5e348-d768-44a3-b267-d8a0a25c8754",
   "metadata": {},
   "outputs": [],
   "source": [
    "#info()\n",
    "#¿qué tipo de dato es nuestra columna date ahora?\n",
    "\n"
   ]
  },
  {
   "cell_type": "markdown",
   "id": "684c258f-eae0-4126-8f1e-67b70755bc6f",
   "metadata": {},
   "source": [
    "### Horas\n",
    "\n",
    "Ahora realizaremos el ajuste en la columna de ```time```. \n"
   ]
  },
  {
   "cell_type": "code",
   "execution_count": null,
   "id": "62702890-917f-4455-8640-a7cdff6e4668",
   "metadata": {},
   "outputs": [],
   "source": [
    "#unique()\n"
   ]
  },
  {
   "cell_type": "markdown",
   "id": "427b7a9e-e4ec-4815-808a-d1f594d9ad3e",
   "metadata": {},
   "source": [
    "Estos son los valores que requerían un reemplazo.\n",
    "\n",
    "Los números fueron colocados sin un criterio en especifico, pueden ajustarlos si lo desean."
   ]
  },
  {
   "cell_type": "code",
   "execution_count": null,
   "id": "da57aebf-c4a0-46e8-9a7a-96bb13a1f5c1",
   "metadata": {},
   "outputs": [],
   "source": [
    "data['time'].replace({'Night': '22:00','Early morning': '07:00', 'Afternoon':'13:00','Late morning': '10:00',\n",
    "                    'Before dawn':'18:00', 'Late afternoon': '16:00', 'evening':'21:00', '****':0 , 'Unknown': 0, 'overnight':'23:00',\n",
    "                     'Evening':'21:00','Overnight':'01:00', 'Morning':'08:00', ' ':0, 'Late evening': '21:00', 'Late night': '23:00'}, inplace = True)"
   ]
  },
  {
   "cell_type": "code",
   "execution_count": null,
   "id": "2e19880e-f2e9-47de-b2c1-b2e5d31868ae",
   "metadata": {},
   "outputs": [],
   "source": [
    "# unique()\n"
   ]
  },
  {
   "cell_type": "markdown",
   "id": "bfeb5582-4993-4c39-9376-db4339b7ebcf",
   "metadata": {},
   "source": [
    "Como pudieron notar, no existe un formato de **time** en esta ocasión.\n",
    "\n",
    "Lo bueno es que dentro de ```pd.to_datetime()``` existe una opción llamada **mixed** que infiere el estilo y acomoda la hora.\n"
   ]
  },
  {
   "cell_type": "code",
   "execution_count": null,
   "id": "a1f85498-d5fa-4ebb-adc6-d7c14729d87e",
   "metadata": {},
   "outputs": [],
   "source": [
    "data['time'] = pd.to_datetime(data['time'], format='mixed')"
   ]
  },
  {
   "cell_type": "code",
   "execution_count": null,
   "id": "7b7830cc-c4b6-4a15-a6d7-4f463035b9f0",
   "metadata": {},
   "outputs": [],
   "source": [
    "# imrpimir la columna time \n",
    "data.time"
   ]
  },
  {
   "cell_type": "markdown",
   "id": "063dc2f5-0d1d-458f-aa5b-15ca17a51fd2",
   "metadata": {},
   "source": [
    "Ahora, con la función ```isnull()``` veamos cuantos valores faltantes tenemos:"
   ]
  },
  {
   "cell_type": "code",
   "execution_count": null,
   "id": "2b4c1ff3-affe-4b88-b8e5-d461797cbeb7",
   "metadata": {},
   "outputs": [],
   "source": [
    "# isnull()"
   ]
  },
  {
   "cell_type": "markdown",
   "id": "2aa282e8-457e-42d2-94fe-50b0b50a6b4c",
   "metadata": {},
   "source": [
    "Considerando esta situación, ¿que tipo de reemplazo consideran apropiado? ¿cuál debería ser la lógica?\n",
    "\n",
    "Hagamos los pasos necesarios para construir una función. Revisemos cuál es la horá más frecuente:"
   ]
  },
  {
   "cell_type": "code",
   "execution_count": null,
   "id": "4e17fb08-2b2f-41d7-b9fd-4b76f0f12951",
   "metadata": {},
   "outputs": [],
   "source": [
    "data.time.value_counts()"
   ]
  },
  {
   "cell_type": "markdown",
   "id": "34cd7d29-c647-430c-a7b7-be12e0b27670",
   "metadata": {},
   "source": [
    "Debido a que no hay una **tendencia** significativa, utilizaremos otra técnica:\n",
    "\n",
    "### ```groupby()```\n",
    "\n",
    "Esta función de pandas nos permite agrupar los datos respecto a un conjunto de categorías, donde a su vez les aplicamos una función adicional (media, mediana, moda, etc.)\n",
    "\n",
    "1. Obtener las modas por país"
   ]
  },
  {
   "cell_type": "code",
   "execution_count": null,
   "id": "0b6b26b5-0c50-44b5-a8c5-d123cd18a9db",
   "metadata": {},
   "outputs": [],
   "source": [
    "#Veamos cuales es la moda respecto a la hora en que ocurrieron los eventos por país\n",
    "\n",
    "modas = data.groupby('country_name')['time'].agg(\n",
    "    lambda x: x.mode()[0] if not x.mode().empty else None\n",
    ")\n",
    "print(modas)"
   ]
  },
  {
   "cell_type": "markdown",
   "id": "204ab2cc-f3a0-480f-8179-9e035f89710a",
   "metadata": {},
   "source": [
    "2. Reemplzar los valores tipo NaT por una de las modas más recurrentes: ```2024-01-01 10:00:00```"
   ]
  },
  {
   "cell_type": "code",
   "execution_count": null,
   "id": "e37eec27-57b2-40ec-8865-3ef56201ca8e",
   "metadata": {},
   "outputs": [],
   "source": [
    "modas = modas.fillna(pd.Timestamp('2024-01-01 10:00:00'))\n",
    "modas"
   ]
  },
  {
   "cell_type": "markdown",
   "id": "15bbeaa5-4fd0-4347-bed2-97a5b710c3f4",
   "metadata": {},
   "source": [
    "3. Crear una función de reemplzo "
   ]
  },
  {
   "cell_type": "code",
   "execution_count": null,
   "id": "900f7229-942e-4984-9db4-7023416d0ae4",
   "metadata": {},
   "outputs": [],
   "source": [
    "def calcular_moda_y_reemplazar_nan(df, col_x, col_y, hora):\n",
    "    # 1. Agrupar por la columna y calcular la moda de la columna x\n",
    "    modas = df.groupby(col_y)[col_x].agg(\n",
    "        lambda x: x.mode()[0] if not x.mode().empty else None\n",
    "    )\n",
    "    \n",
    "    # 2. Reemplazar cualquier NaT que no se haya reemplazado con un valor específico\n",
    "    df[col_x] = df[col_x].fillna(pd.Timestamp(hora))\n",
    "    \n",
    "    # 3. Reemplazar los NaT en el DataFrame original con las modas\n",
    "    for valor, moda in modas.items():\n",
    "        df.loc[(df[col_y] == valor) & (df[col_x].isna()), col_x] = moda\n",
    "    \n",
    "\n",
    "\n",
    "    return df\n",
    "\n",
    "\n",
    "\n",
    "df = calcular_moda_y_reemplazar_nan(data, 'time', 'country_name', '2024-09-20 10:00:00')"
   ]
  },
  {
   "cell_type": "markdown",
   "id": "758fc5a5-1d1c-4cef-87b6-49c6902afd6d",
   "metadata": {},
   "source": [
    "1) ```df.groupby(col_y)```: Agrupa el DataFrame por la columna ```col_y```, es decir, por los nombres de los países.\n",
    "2) ```[col_x]```: Selecciona la columna ```col_x``` (donde se encuentran los valores que queremos reemplazar).\n",
    "3) ```.agg(...)```: Aplica una función de agregación a cada grupo.\n",
    " \n",
    " ```lambda x: x.mode()[0] if not x.mode().empty else None:```\n",
    "\n",
    "- Calcula la moda de los valores en cada grupo.\n",
    "- ```x.mode()``` devuelve una Serie con los valores más frecuentes.\n",
    "\n",
    "Si hay una moda, toma el primer valor ([0]), y si no hay moda, devuelve None.\n",
    "\n",
    "-----------------------------------------------------------------------------------------------------------------------------------------------------------\n",
    "\n",
    "Ahora, impriman un ```value_counts()``` de la columna **time** para ver como quedo:"
   ]
  },
  {
   "cell_type": "code",
   "execution_count": null,
   "id": "72f22c75-5619-4a2d-b152-c1590fd88018",
   "metadata": {},
   "outputs": [],
   "source": [
    "# value_counts()"
   ]
  },
  {
   "cell_type": "markdown",
   "id": "e93eadeb-6175-4c2b-9fc9-c34f2f404995",
   "metadata": {},
   "source": [
    "Ahora hagamos un ```dropna()``` en toda la base de datos:"
   ]
  },
  {
   "cell_type": "code",
   "execution_count": null,
   "id": "5f0637ea-fd7d-4520-818b-e1abdf32fe6d",
   "metadata": {},
   "outputs": [],
   "source": [
    "df.dropna(inplace = True)\n",
    "df.shape"
   ]
  },
  {
   "cell_type": "markdown",
   "id": "e008a7a7-4772-4b42-9a16-ebba01e9c87e",
   "metadata": {},
   "source": [
    "## **Análisis**\n",
    "\n",
    "Vamos a extraer la información de las columnas de **date** y **time** para responder algunas preguntas de análisis:\n",
    "\n",
    "### Més"
   ]
  },
  {
   "cell_type": "code",
   "execution_count": null,
   "id": "b1d8edbe-38da-47d3-9840-5ea6d96b3783",
   "metadata": {},
   "outputs": [],
   "source": [
    "df['month'] = df['date'].dt.month"
   ]
  },
  {
   "cell_type": "markdown",
   "id": "acc4d9fe-ac9f-4128-aa37-8f6bd7054541",
   "metadata": {},
   "source": [
    "### Año"
   ]
  },
  {
   "cell_type": "code",
   "execution_count": null,
   "id": "2e26f65a-1db4-4d60-b81b-38710cb4eeee",
   "metadata": {},
   "outputs": [],
   "source": [
    "df['year'] = df['date'].dt.year"
   ]
  },
  {
   "cell_type": "markdown",
   "id": "4ba313e3-32f0-45f9-8194-2298f3342ae0",
   "metadata": {},
   "source": [
    "*Las siguientes preguntas aparecerán en su actividad 2.2*\n",
    "\n",
    "a) ¿En que mes se detectaron más avalanchas? (pueden utilizar: ```.value_counts(normalize = True)```)\n",
    "\n",
    "b) ¿En que país se detectaron más muertes promedio? (pueden utilizar: ```groupby()[].agg['mean']```).\n",
    "\n",
    "c) Considerando solo Estados Unidos, ¿en que estado las avalanchas fueron más largas (*distance*) en promedio)?\n",
    "\n",
    "Pueden consultar el siguiente <a href=\"https://www.weforum.org/agenda/2016/04/does-this-explain-why-some-landslides-travel-much-further-than-others/\">artículo</a> para complementar su respuesta.\n",
    "\n"
   ]
  },
  {
   "cell_type": "code",
   "execution_count": null,
   "id": "cfa9f16d-26ce-471a-aa87-e225b07feef5",
   "metadata": {},
   "outputs": [],
   "source": [
    "# a)"
   ]
  },
  {
   "cell_type": "code",
   "execution_count": null,
   "id": "a70a154d-58a5-4ddc-a6ad-90610aef5051",
   "metadata": {},
   "outputs": [],
   "source": [
    "# b)"
   ]
  },
  {
   "cell_type": "code",
   "execution_count": null,
   "id": "3d22d926-cc25-40f4-8b0d-6a29ad40ccfc",
   "metadata": {},
   "outputs": [],
   "source": [
    "# c)"
   ]
  }
 ],
 "metadata": {
  "kernelspec": {
   "display_name": "Python 3 (ipykernel)",
   "language": "python",
   "name": "python3"
  },
  "language_info": {
   "codemirror_mode": {
    "name": "ipython",
    "version": 3
   },
   "file_extension": ".py",
   "mimetype": "text/x-python",
   "name": "python",
   "nbconvert_exporter": "python",
   "pygments_lexer": "ipython3",
   "version": "3.11.7"
  }
 },
 "nbformat": 4,
 "nbformat_minor": 5
}
