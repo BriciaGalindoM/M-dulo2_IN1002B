{
 "cells": [
  {
   "cell_type": "markdown",
   "id": "31b0807a-ece6-4d43-824c-fd83700754da",
   "metadata": {},
   "source": [
    "# Módulo 2\n",
    "**Desarrollo de proyectos de análisis de datos  IN1002B**\n",
    "\n",
    "### Tipos de datos, indexación y datos perdidos. \n",
    "\n",
    "**Librerías**\n",
    "\n",
    "Dependiendo de lo que se requiera (manejo de datos, visualización, modelos), debemos importar las librerías necesarias. \n"
   ]
  },
  {
   "cell_type": "code",
   "execution_count": null,
   "id": "1a56fe72-078a-4f48-bd39-647500e775a5",
   "metadata": {},
   "outputs": [],
   "source": [
    "import pandas as pd\n",
    "import numpy as np"
   ]
  },
  {
   "cell_type": "markdown",
   "id": "1d215933-6de7-430f-a8c1-98e69e91e9c0",
   "metadata": {},
   "source": [
    "**Cargar los datos**\n",
    "\n",
    "Hay diversas formas de llamar a una base de datos,para este curso utilizaremos la función de ``` pd.read_csv('')``` o bien la de ``` pd.read_excel('')``` de pandas.\n",
    "\n",
    "Solo deben de tener la precaución de tener su base de datos dentro de la carpeta donde se este haciendo el notebook."
   ]
  },
  {
   "cell_type": "code",
   "execution_count": null,
   "id": "5e9025b9-5bc9-4e4f-a5b9-8ff731394995",
   "metadata": {},
   "outputs": [],
   "source": [
    "data = pd.read_csv(\"retail.csv\")"
   ]
  },
  {
   "cell_type": "markdown",
   "id": "335ccd9d-97f0-410d-80f7-cfce7200631c",
   "metadata": {},
   "source": [
    "**Información general de los datos**\n",
    "\n",
    "Una parte fundamental es saber como esta estructurada nuestra base de datos, es decir, saber:\n",
    "* ¿Cuántas columnas tiene?\n",
    "* ¿Cuántas filas?\n",
    "* ¿Qué tipo de datos son?\n",
    "* ¿Hay caractéres especiales?\n",
    "* ¿Tenemos faltantes?\n",
    "\n",
    "```info()```\n",
    "\n",
    "Nos da respuesta a gran parte de las preguntas anteriores, podemos ver las dimensiones de la base y tipos de datos."
   ]
  },
  {
   "cell_type": "code",
   "execution_count": null,
   "id": "f3ca68f0-c09b-43ba-b04a-00c3f5c31eca",
   "metadata": {},
   "outputs": [],
   "source": []
  },
  {
   "cell_type": "markdown",
   "id": "2d0b04bf-cf41-4dd7-8eef-6dc0e9fb7b30",
   "metadata": {},
   "source": [
    "```head()```\n",
    "\n",
    "Como dice su nombre, esta función nos permite las primeras filas de la base, es muy importante para saber como estan capturados los registros que tenemos."
   ]
  },
  {
   "cell_type": "code",
   "execution_count": null,
   "id": "8088e37c-7037-44a4-b9de-67c27db1e42d",
   "metadata": {},
   "outputs": [],
   "source": []
  },
  {
   "cell_type": "markdown",
   "id": "1417d88b-e759-43a7-b87b-432643e7c367",
   "metadata": {},
   "source": [
    "```isnull()```\n",
    "\n",
    "Esta función nos ayuda a detectar los faltantes, en conjunto con ```sum()``` la podemos aplicar a la base de datos para ver cuántos valores nos faltan por columna."
   ]
  },
  {
   "cell_type": "code",
   "execution_count": null,
   "id": "1a663ebe-78b1-4bce-bb44-042102e401fa",
   "metadata": {},
   "outputs": [],
   "source": []
  },
  {
   "cell_type": "markdown",
   "id": "9ba0b71e-67dc-4530-bfde-8bc82d8e7631",
   "metadata": {},
   "source": [
    "## **Indexación**  \n",
    "Cuando necesitamos acceder a los elementos de una columna, podemos acerlo de varias formas:\n",
    "\n",
    "### **Columnas**"
   ]
  },
  {
   "cell_type": "code",
   "execution_count": null,
   "id": "92342dac-d6fe-4244-a298-b5b61fc2da78",
   "metadata": {},
   "outputs": [],
   "source": [
    "data.Date"
   ]
  },
  {
   "cell_type": "code",
   "execution_count": null,
   "id": "79f86569-320e-470d-8923-d951370d9d11",
   "metadata": {},
   "outputs": [],
   "source": [
    "data['Store ID']"
   ]
  },
  {
   "cell_type": "code",
   "execution_count": null,
   "id": "c2862e70-c7f3-4463-a8f6-e8faf94bd15a",
   "metadata": {},
   "outputs": [],
   "source": [
    "#elementos de la columna 3\n",
    "data.iloc[:, 3]"
   ]
  },
  {
   "cell_type": "code",
   "execution_count": null,
   "id": "a2be56fa-976d-4278-9110-c98a27714319",
   "metadata": {},
   "outputs": [],
   "source": [
    "# Columnas 4 a la 8\n",
    "data.iloc[:, 4:8]"
   ]
  },
  {
   "cell_type": "markdown",
   "id": "bf1a724b-75e7-4e2f-977b-53443d1962f8",
   "metadata": {},
   "source": [
    "### **Filas**"
   ]
  },
  {
   "cell_type": "code",
   "execution_count": null,
   "id": "5418b2c3-8749-4dcc-b79b-259b113efd47",
   "metadata": {},
   "outputs": [],
   "source": [
    "data[0:10]"
   ]
  },
  {
   "cell_type": "markdown",
   "id": "07360eda-4a2b-4689-8d17-72336f3c5b68",
   "metadata": {},
   "source": [
    "Si necesitan un conjunto de datos más específico, es de utilidad  ```loc```.\n",
    "<br>\n",
    "En el siguiente ejemplo le pedimos que nos muestre los valores de la fila 0 a la 15 de las columnas \"CASE_STATUS\" y \"CASE_RECEIVED_DATE\"."
   ]
  },
  {
   "cell_type": "code",
   "execution_count": null,
   "id": "dea1d113-79a4-48f2-a71e-4d9d3a4049fb",
   "metadata": {},
   "outputs": [],
   "source": [
    "# Filas de la 0 a la 14 y dos columnas\n",
    "data.loc[0:14, [\"Store ID\", \"Date\"]]"
   ]
  },
  {
   "cell_type": "code",
   "execution_count": null,
   "id": "db4b02b5-edfb-46ab-bde2-687b99801cc3",
   "metadata": {},
   "outputs": [],
   "source": [
    "# o por rangos\n",
    "\n",
    "data.loc[1:5,'Product ID': 'Marketing Spend (USD)']"
   ]
  },
  {
   "cell_type": "markdown",
   "id": "d6e71e5a-b2da-40fc-81ac-9d4a1a6e7106",
   "metadata": {},
   "source": [
    "## **Tipos de datos**\n",
    "\n",
    "En python tenemos diferentes tipos de datos, los pueden ver en la función `info()`, algunos de ellos son:\n",
    "\n",
    "    Object\n",
    "    float\n",
    "    int \n",
    "    bool \n",
    "    category\n",
    "\n",
    "Podemos tener más clases de objetos, incluso podemos crear, pero para fines de esta clase trabajaremos solo con estos. \n",
    "\n",
    "### **Datos cualitativos**\n",
    "\n",
    "* Explicación de este tipo de datos\n",
    "\n",
    "Con la estrucutura de base de datos de pandas, podemos identificar este tipo de valores como `object` o `category`. \n",
    "Es importante hacer una impresión de los datos antes, solo para estar completamente seguros.\n",
    "\n",
    "Unas funciones que nos ayudan mucho en este tipo de datos son: `value_counts()` y `unique()`\n",
    "\n",
    "```unique()``` : Nos ayuda a identificar los valores únicos en la columna \n",
    "\n",
    "```value_counts()```: Nos ayuda a identificar las veces que se repite cada categoría\n"
   ]
  },
  {
   "cell_type": "code",
   "execution_count": null,
   "id": "17dd6ad6-8e89-419d-993d-bb3408b6377c",
   "metadata": {},
   "outputs": [],
   "source": []
  },
  {
   "cell_type": "code",
   "execution_count": null,
   "id": "394a40d4-0874-48bc-88e6-f77b7b5720ac",
   "metadata": {},
   "outputs": [],
   "source": [
    "#normalize\n"
   ]
  },
  {
   "cell_type": "code",
   "execution_count": null,
   "id": "330bce9c-8d95-4ab9-9350-6133217d05d6",
   "metadata": {},
   "outputs": [],
   "source": [
    "#unique\n"
   ]
  },
  {
   "cell_type": "markdown",
   "id": "162793ee-9c01-4f8d-b8e6-775775bce7e8",
   "metadata": {},
   "source": [
    "### **Datos cuantitativos**\n",
    "\n",
    "* Explicación de este tipo de datos\n",
    "\n",
    "En comparación con los datos cualitativos, los cuantitativos se reconocen debido a que son del tipo `int` o float`. \n",
    "\n",
    "**Discretos vs Contínuos**\n",
    "\n",
    "Para este tipo de datos nos ayuda la función de `describe()` si los datos son de tipo contínuo. En el caso de que sean discretos nos podemos seguir apoyando de `value_counts()`."
   ]
  },
  {
   "cell_type": "code",
   "execution_count": null,
   "id": "acfc521e-eae9-4c4c-a26e-8fd4c61b1075",
   "metadata": {},
   "outputs": [],
   "source": [
    "# contínuos\n"
   ]
  },
  {
   "cell_type": "code",
   "execution_count": null,
   "id": "be6cca17-8913-4b93-8686-7f8f28d36248",
   "metadata": {},
   "outputs": [],
   "source": [
    "# discretos\n"
   ]
  },
  {
   "cell_type": "markdown",
   "id": "84a28f35-5852-495c-b046-50b47624ebd6",
   "metadata": {},
   "source": [
    "## **Datos perdidos**\n",
    "\n",
    "El trabajo de datos perdidos depende de cada base de datos, por lo que no tenemos una guía que aplique a todo. \n",
    "<br>\n",
    "Antes de remplazar algun valor primero debemos revisar:\n",
    "* ¿Es posible remplazar ese valor con otro?\n",
    "* ¿Cuántos faltantes tenemos?\n",
    "* ¿Qué lógica deberá de seguir el remplazo?\n",
    "\n",
    "\n",
    "En caso de que si puedas hacer un remplazo, la pregunta más importante será la tercera. \n",
    "\n",
    "Para estos ejemplos trabajaremos con la base de datos de `bike_buyers.csv`"
   ]
  },
  {
   "cell_type": "code",
   "execution_count": null,
   "id": "45a0b867-a451-4973-804c-923625949bbd",
   "metadata": {},
   "outputs": [],
   "source": [
    "bike = pd.read_csv('bike_buyers.csv')"
   ]
  },
  {
   "cell_type": "code",
   "execution_count": null,
   "id": "3aeb953e-7847-4260-a89a-b15193a413fb",
   "metadata": {},
   "outputs": [],
   "source": [
    "# info()"
   ]
  },
  {
   "cell_type": "code",
   "execution_count": null,
   "id": "3cede785-1855-4516-891a-e5351898814f",
   "metadata": {},
   "outputs": [],
   "source": [
    "# isnull()\n",
    "\n",
    "bike.isnull().sum()"
   ]
  },
  {
   "cell_type": "markdown",
   "id": "b228f62c-a084-4177-83b2-4d86d4a79a6b",
   "metadata": {},
   "source": [
    "Vamos a hacer una copia de respaldo, para tener los valores originales a la mano en caso de ser necesario. "
   ]
  },
  {
   "cell_type": "code",
   "execution_count": null,
   "id": "186e7711-d71b-439b-8dad-bad23d3f7d64",
   "metadata": {},
   "outputs": [],
   "source": [
    "respaldo = pd.read_csv('bike_buyers.csv')"
   ]
  },
  {
   "cell_type": "markdown",
   "id": "0f3bb4e5-ab65-475d-ab4a-57d09cc95554",
   "metadata": {},
   "source": [
    "Ahora continuemos con la base de `bike`.\n",
    "<br>\n",
    "Nor iremos por orden, la primera columna es `Marital Status`:"
   ]
  },
  {
   "cell_type": "code",
   "execution_count": null,
   "id": "2ea3bee6-3487-4b0d-9215-a02a9b628018",
   "metadata": {},
   "outputs": [],
   "source": [
    "#value_counts()\n"
   ]
  },
  {
   "cell_type": "markdown",
   "id": "48f72729-bb86-4249-bec0-98480a5524e5",
   "metadata": {},
   "source": [
    "`fillna()`\n",
    "\n",
    "Esta función buscará todos los faltantes del conjunto de datos que señales. Solo necesitas declarar como argumento de entrada `()` con que valor remplazaras los faltantes. El valor puede ser **numérico** o tipo **texto**\n",
    "\n",
    "Vamos a remplazar con la leyenda:\n",
    "    \n",
    "    'Sin registro'"
   ]
  },
  {
   "cell_type": "code",
   "execution_count": null,
   "id": "8ab72cff-8f19-4bba-9f1f-94d313c2c6cf",
   "metadata": {},
   "outputs": [],
   "source": [
    "bike['Marital Status'].fillna('Sin registro', inplace = True)\n",
    "\n",
    "#inplace evita esto:\n",
    "# bike['Marital Status'] = bike['Marital Status'].fillna('Sin registro')"
   ]
  },
  {
   "cell_type": "code",
   "execution_count": null,
   "id": "50eaa404-8c1e-4971-8648-3525493a05f8",
   "metadata": {},
   "outputs": [],
   "source": [
    "#value_counts() / unique()\n"
   ]
  },
  {
   "cell_type": "markdown",
   "id": "333cece1-e43a-4af3-b9f2-f62054af2cd0",
   "metadata": {},
   "source": [
    "`replace`\n",
    "\n",
    "La lógica es la misma que `fillna`, solo que `replace` no se enfoca solo a los datos faltantes.\n",
    "\n",
    "Vamos a recuperar la columna original de `Marital Status`:"
   ]
  },
  {
   "cell_type": "code",
   "execution_count": null,
   "id": "b991509f-f1e9-4597-9e02-1554d93cee63",
   "metadata": {},
   "outputs": [],
   "source": [
    "bike['Marital Status'] = respaldo['Marital Status'] \n",
    "#unique()\n"
   ]
  },
  {
   "cell_type": "markdown",
   "id": "e00f235a-1e61-4b3e-8b0d-b16748e73913",
   "metadata": {},
   "source": [
    "Lo que vamos a hacer es apoyarnos de numpy con `np.nan`."
   ]
  },
  {
   "cell_type": "code",
   "execution_count": null,
   "id": "7b570243-e363-4bea-9937-0344ea6906f2",
   "metadata": {},
   "outputs": [],
   "source": [
    "bike['Marital Status'].replace(np.nan,'Sin registro', inplace = True)"
   ]
  },
  {
   "cell_type": "code",
   "execution_count": null,
   "id": "3fb78df5-017e-4c94-9b22-d914bf3e4c6e",
   "metadata": {},
   "outputs": [],
   "source": [
    "#value_counts()\n"
   ]
  },
  {
   "cell_type": "markdown",
   "id": "9ee8edd4-1f0c-4609-ba51-e7ebedd2d999",
   "metadata": {},
   "source": [
    "***loc() - iloc()***\n",
    "\n",
    "`loc` = Acceder a los valores por medio del nombre: CASE_STATUS\n",
    "\n",
    "\n",
    "`iloc` = Acceder a los valores por la ubicación de los valores $data[3]$ "
   ]
  },
  {
   "cell_type": "markdown",
   "id": "aa39b66a-eccb-4e0f-a06f-40bb86502094",
   "metadata": {},
   "source": [
    "`ffill`\n",
    "\n",
    "Este es un método de **propagación** de valores de la función `fillna()` por medio del argumento `method`\n",
    "<br>\n",
    "Lo que hace es tomar el valor inmediato anterior y colocarlo donde hay un faltante:"
   ]
  },
  {
   "cell_type": "code",
   "execution_count": null,
   "id": "80feb58a-1bfe-404d-b278-0a892651d2d2",
   "metadata": {},
   "outputs": [],
   "source": [
    "# Vamos a colocar los datos originales\n",
    "bike['Marital Status'] = respaldo['Marital Status'] "
   ]
  },
  {
   "cell_type": "code",
   "execution_count": null,
   "id": "a093d552-5140-4a47-9b6f-62a86058ef44",
   "metadata": {},
   "outputs": [],
   "source": [
    "#unique()\n"
   ]
  },
  {
   "cell_type": "code",
   "execution_count": null,
   "id": "e76c6245-ccc2-4be3-a05a-df2f7f5a4263",
   "metadata": {},
   "outputs": [],
   "source": [
    "#head(10)\n"
   ]
  },
  {
   "cell_type": "code",
   "execution_count": null,
   "id": "895cc836-9c1b-4d17-845f-3c4497bf914a",
   "metadata": {},
   "outputs": [],
   "source": [
    "#ffill\n",
    "bike['Marital Status'].fillna(method = 'ffill', inplace = True)"
   ]
  },
  {
   "cell_type": "markdown",
   "id": "168f1e6c-afba-4aea-8d90-80b012e32986",
   "metadata": {},
   "source": [
    "**Moda**\n",
    "\n",
    "Por el tipo de dato que tenemos también podemos aplicar la moda, para esto vamos a seguir apoyandonos de la función `fillna()` y tambien de `mode()`"
   ]
  },
  {
   "cell_type": "code",
   "execution_count": null,
   "id": "62c1fed8-d58f-42ba-a8c2-e84417e04b08",
   "metadata": {},
   "outputs": [],
   "source": [
    "# Vamos a colocar los datos originales\n",
    "\n",
    "bike['Marital Status'] = respaldo['Marital Status'] "
   ]
  },
  {
   "cell_type": "code",
   "execution_count": null,
   "id": "6a33e44c-5fc0-41c2-b838-bf38e1188a99",
   "metadata": {},
   "outputs": [],
   "source": [
    "#moda\n",
    "moda = bike['Marital Status'].mode()[0]\n",
    "moda"
   ]
  },
  {
   "cell_type": "markdown",
   "id": "e2627b2d-a8bc-4126-b860-575c4bc07afd",
   "metadata": {},
   "source": [
    "Para obtener el valor de moda directamente, necesitas acceder al primer elemento con [0] porque mode() devuelve una Series"
   ]
  },
  {
   "cell_type": "code",
   "execution_count": null,
   "id": "5a3f5225-a3a4-4892-b549-cb74e9cd97ba",
   "metadata": {},
   "outputs": [],
   "source": [
    "# fillna\n",
    "\n",
    "# head()\n",
    "\n"
   ]
  },
  {
   "cell_type": "markdown",
   "id": "93544039-1a6f-4f6f-ad36-7a83aaa38149",
   "metadata": {},
   "source": [
    "**dropna()**\n",
    "\n",
    "En caso de que no pueda realizarse algun remplazo, se recomienda eliminar los faltantes, esto también lo podemos hacer especificando la columna que estamos analizando:"
   ]
  },
  {
   "cell_type": "code",
   "execution_count": null,
   "id": "242dc785-6dcc-4ff0-8a6c-8299bb7ad6db",
   "metadata": {},
   "outputs": [],
   "source": [
    "bike.shape"
   ]
  },
  {
   "cell_type": "markdown",
   "id": "db42e3cc-c73f-4032-8877-aabec9491f44",
   "metadata": {},
   "source": [
    "Podemos hacer una eliminación **general** de los faltantes."
   ]
  },
  {
   "cell_type": "code",
   "execution_count": null,
   "id": "f11c6785-8cd7-4cce-9d59-609102846571",
   "metadata": {},
   "outputs": [],
   "source": [
    "bike.dropna(inplace = True)"
   ]
  },
  {
   "cell_type": "code",
   "execution_count": null,
   "id": "0ec37fc9-8ee5-4a8a-9634-f1a973851884",
   "metadata": {},
   "outputs": [],
   "source": [
    "bike.shape"
   ]
  },
  {
   "cell_type": "markdown",
   "id": "0a806cf0-eeed-418d-aa68-ca552581ae69",
   "metadata": {},
   "source": [
    "Usemos la copia que teniamos generada"
   ]
  },
  {
   "cell_type": "code",
   "execution_count": null,
   "id": "5cf7dab1-f61e-4beb-8915-cf14fda2e311",
   "metadata": {},
   "outputs": [],
   "source": [
    "bike = respaldo \n",
    "bike.info()"
   ]
  },
  {
   "cell_type": "markdown",
   "id": "713de305-9a31-4355-8e44-78baf81f096e",
   "metadata": {},
   "source": [
    "O bien especificar a que columnas deseamos aplicar la función:"
   ]
  },
  {
   "cell_type": "code",
   "execution_count": null,
   "id": "7b8de277-d4a5-47ce-a31b-aed736264dfc",
   "metadata": {},
   "outputs": [],
   "source": [
    "#bike.dropna(subset = ['Age', 'Cars'], inplace = True)\n",
    "bike.dropna(subset = ['Home Owner', 'Income'], inplace = True)"
   ]
  },
  {
   "cell_type": "code",
   "execution_count": null,
   "id": "12030f00-eaf3-499a-9e3f-3e53511ead0e",
   "metadata": {},
   "outputs": [],
   "source": [
    "bike.shape"
   ]
  },
  {
   "cell_type": "code",
   "execution_count": null,
   "id": "84f6ca3d-2f35-49f4-ad53-94d86ed2849b",
   "metadata": {},
   "outputs": [],
   "source": [
    "#isnull()\n",
    "bike.isnull().sum()"
   ]
  },
  {
   "cell_type": "markdown",
   "id": "269fb366-e767-4619-8ac6-1e7d0dfce72b",
   "metadata": {},
   "source": [
    "* ¿Cuál consideran que es la mejor opción para la columna de estatus marital?\n",
    "\n",
    "* ¿Las técnicas que empleamos anteriormente son igualmente aplicables a `Income`, `Children` y `Age`?"
   ]
  },
  {
   "cell_type": "markdown",
   "id": "37c5272b-d63f-447c-b4b2-fc7b56788ece",
   "metadata": {},
   "source": [
    "**Media**\n",
    "\n",
    "Es una de las formas más utilizadas para hacer el remplazo de valores, la forma en que se aplica es similar a la de la moda (`mode()`).\n",
    "\n",
    "En este ejemplo vamos a trabajar con `Income`:"
   ]
  },
  {
   "cell_type": "code",
   "execution_count": null,
   "id": "ae8811ca-da97-47d7-8d44-7cfa0575e455",
   "metadata": {},
   "outputs": [],
   "source": [
    "mean = bike.Income.mean()\n",
    "mean"
   ]
  },
  {
   "cell_type": "code",
   "execution_count": null,
   "id": "16554e18-2d85-46e1-901a-29b4e0a91b6b",
   "metadata": {},
   "outputs": [],
   "source": [
    "#o bien -> describe()\n",
    "bike.Income.describe()"
   ]
  },
  {
   "cell_type": "code",
   "execution_count": null,
   "id": "86153f46-7115-48c5-9390-baededd8b1af",
   "metadata": {},
   "outputs": [],
   "source": [
    "mean = \n",
    "\n",
    "bike['Income'].fillna(mean, inplace = True)"
   ]
  },
  {
   "cell_type": "markdown",
   "id": "9449ea59-589c-4852-824d-e02559e3272b",
   "metadata": {},
   "source": [
    "También podrían hacer lo siguiente:\n",
    "    \n",
    "    bike['Income'].fillna(bike['Income'].mean(), inplace= True)\n",
    "    \n",
    "Pero ¿que pasaría si intentan aplicar esa misma lógica a la columna de `Children`?"
   ]
  },
  {
   "cell_type": "code",
   "execution_count": null,
   "id": "055057f2-1933-45ce-82ca-ff1f2fab2042",
   "metadata": {},
   "outputs": [],
   "source": [
    "mean2 = bike.Children.mean()\n",
    "mean2"
   ]
  },
  {
   "cell_type": "markdown",
   "id": "8aafbe7d-ebf5-4125-95c4-1953605fbe47",
   "metadata": {},
   "source": [
    "¿Es correcto?\n",
    "\n",
    "Cuando tenemos variables tipo **discretas** no debemos hacer divisiones que nos arrojen valores tipo *float*.\n",
    "<br>\n",
    "En caso de que tengan este tipo de valores y requieran aplicar la media, solo necesitan hacer el siguiente ajuste:"
   ]
  },
  {
   "cell_type": "code",
   "execution_count": null,
   "id": "a0a6d740-153d-4bd5-9d01-3a74604d2520",
   "metadata": {},
   "outputs": [],
   "source": [
    "mean2 = round(mean2)\n",
    "mean2"
   ]
  },
  {
   "cell_type": "code",
   "execution_count": null,
   "id": "9d1244d7-f8c5-4cc7-836f-35faf78be74c",
   "metadata": {},
   "outputs": [],
   "source": [
    "bike['Children'].fillna(mean2, inplace = True)"
   ]
  },
  {
   "cell_type": "markdown",
   "id": "6222c067-90af-478b-867a-4f14b3ba7cef",
   "metadata": {},
   "source": [
    "En caso de que requieran analizar la mediana, la lógica permanece igual:\n",
    "\n",
    "    mediana = bike['Children'].median()\n",
    "\n",
    "Solo asegurense de imprimir el valor con el que estarán haciendo el remplazo para ver que tenga sentido con: formato, valor y estructura de la columna. "
   ]
  }
 ],
 "metadata": {
  "kernelspec": {
   "display_name": "Python 3 (ipykernel)",
   "language": "python",
   "name": "python3"
  },
  "language_info": {
   "codemirror_mode": {
    "name": "ipython",
    "version": 3
   },
   "file_extension": ".py",
   "mimetype": "text/x-python",
   "name": "python",
   "nbconvert_exporter": "python",
   "pygments_lexer": "ipython3",
   "version": "3.11.7"
  }
 },
 "nbformat": 4,
 "nbformat_minor": 5
}
