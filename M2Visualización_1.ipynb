{
  "cells": [
    {
      "cell_type": "markdown",
      "id": "3f824622-8968-4018-8e81-e2d62f98cee4",
      "metadata": {
        "id": "3f824622-8968-4018-8e81-e2d62f98cee4"
      },
      "source": [
        "# Módulo 2\n",
        "**Desarrollo de proyectos de análisis de datos  IN1002B**\n",
        "\n",
        "### Visualización\n",
        "\n",
        "**Librerías**\n",
        "\n",
        "Importaremos las librerías más comunmente utilizadas con pandas para temas de visualización.\n"
      ]
    },
    {
      "cell_type": "code",
      "source": [
        "from google.colab import drive\n",
        "drive.mount('/content/drive')"
      ],
      "metadata": {
        "colab": {
          "base_uri": "https://localhost:8080/"
        },
        "id": "huhtQixm27aC",
        "outputId": "b8a8a80a-509a-4ffa-ba9d-d8fae6aa4225"
      },
      "id": "huhtQixm27aC",
      "execution_count": null,
      "outputs": [
        {
          "output_type": "stream",
          "name": "stdout",
          "text": [
            "Mounted at /content/drive\n"
          ]
        }
      ]
    },
    {
      "cell_type": "code",
      "execution_count": null,
      "id": "272a43dc-6c52-4188-baae-9b5811f5f33b",
      "metadata": {
        "id": "272a43dc-6c52-4188-baae-9b5811f5f33b"
      },
      "outputs": [],
      "source": [
        "import pandas as pd\n",
        "import numpy as np\n",
        "import matplotlib.pyplot as plt\n",
        "import seaborn as sns\n",
        "\n",
        "import warnings\n",
        "warnings.filterwarnings(\"ignore\")"
      ]
    },
    {
      "cell_type": "code",
      "execution_count": null,
      "id": "23270f7a-c0c1-4c99-8bdc-80b56d512a81",
      "metadata": {
        "id": "23270f7a-c0c1-4c99-8bdc-80b56d512a81"
      },
      "outputs": [],
      "source": [
        "data = pd.read_csv('/content/drive/MyDrive/IN1002B_204/treadmill.csv')"
      ]
    },
    {
      "cell_type": "markdown",
      "id": "996797ee-b9fa-43d0-bc3e-00784024581b",
      "metadata": {
        "id": "996797ee-b9fa-43d0-bc3e-00784024581b"
      },
      "source": [
        "## Caso de estudio\n",
        "\n",
        "Parte de estas respuestas serán solicitadas en su actividad 2.3.\n",
        "\n",
        "Se pide hacer un análisis de la siguiente base de datos sobre la venta de maquinas para correr.\n",
        "<br>\n",
        "El objetivo es diseñar campañas que abarquen diferentes segmentos de compradores, lo anterior desarrollando un perfil general de los compradores.\n",
        "<br>\n",
        "Las columnas contienen la siguiente información:\n",
        "\n",
        "- Product - the model no. of the treadmill\n",
        "- Age - in no of years, of the customer\n",
        "- Gender - of the customer\n",
        "- Education - in no. of years, of the customer\n",
        "- Marital Status - of the customer\n",
        "- Usage - Avg. # times the customer wants to use the treadmill every week\n",
        "- Fitness - Self rated fitness score of the customer (5 - very fit, 1 - very unfit)\n",
        "- Income - of the customer\n",
        "- Miles- expected to run\n",
        "\n",
        "\n",
        "Se espera dar respuesta a las siguientes preguntas en su actividad 2.3:\n",
        "\n",
        "1. ¿Que edad promedio tienen los clientes que usan las maquinas para correr?\n",
        "\n",
        "2. ¿Podemos utilizar el promedio como una medida valida?\n",
        "\n",
        "3. ¿Hay alguna diferencia entre el estado físico de hombres y mujeres?\n",
        "\n",
        "4. ¿Existe una relación entre la edad y las millas que corre una persona? Si la respuesta es sí, escribe tus observaciones.\n",
        "\n",
        "5. Relacionado a la pregunta anterior, si lo que se desea es generar una campaña publicitaria que impacte a la mayor parte de los compradores ¿que recomendación de segmentos darías? (Eg. por edad, sexo, estado marital, etc.)\n",
        "\n",
        "Las preguntas serán analizadas al final del código.\n",
        "\n",
        "## **Limpieza**\n",
        "\n",
        "1. **Datos fatantes:**"
      ]
    },
    {
      "cell_type": "code",
      "execution_count": null,
      "id": "3b5349a6-06c4-4a4e-8bb1-c36ed9f3adda",
      "metadata": {
        "id": "3b5349a6-06c4-4a4e-8bb1-c36ed9f3adda"
      },
      "outputs": [],
      "source": [
        "# shape\n"
      ]
    },
    {
      "cell_type": "code",
      "execution_count": null,
      "id": "5682d92b-f827-42c9-92be-b217dd59874e",
      "metadata": {
        "id": "5682d92b-f827-42c9-92be-b217dd59874e"
      },
      "outputs": [],
      "source": [
        "#isnull()\n"
      ]
    },
    {
      "cell_type": "markdown",
      "id": "76c71630-a138-4cc8-b79d-72ebca5e461b",
      "metadata": {
        "id": "76c71630-a138-4cc8-b79d-72ebca5e461b"
      },
      "source": [
        "2. **Identificar el tipo de dato:**"
      ]
    },
    {
      "cell_type": "code",
      "execution_count": null,
      "id": "dcb95cb1-3386-4ee2-8422-89f0b1756425",
      "metadata": {
        "id": "dcb95cb1-3386-4ee2-8422-89f0b1756425"
      },
      "outputs": [],
      "source": [
        "#info()\n"
      ]
    },
    {
      "cell_type": "code",
      "execution_count": null,
      "id": "116ff13f-35a8-4430-acca-e6a297a64f0d",
      "metadata": {
        "id": "116ff13f-35a8-4430-acca-e6a297a64f0d"
      },
      "outputs": [],
      "source": [
        "#head()\n"
      ]
    },
    {
      "cell_type": "markdown",
      "id": "29587ab8-9e1f-4539-be44-24f52f74e419",
      "metadata": {
        "id": "29587ab8-9e1f-4539-be44-24f52f74e419"
      },
      "source": [
        "# **Datos cuantitativos**\n",
        "\n",
        "### **Histogramas**\n",
        "\n",
        "Los histogramas son una de las herramientas más utilizadas para conocer las distribuciones de los datos.\n",
        "\n",
        "```Seaborn```\n",
        "\n",
        "Seaborn es una interfaz de alto nivel para crear gráficos estadísticos. Está construido sobre Matplotlib y proporciona una interfaz más sencilla e intuitiva para crear gráficos estadísticos comunes.\n",
        "\n",
        "```Matplot```\n",
        "\n",
        "Matplotlib es una biblioteca para la generación de gráficos en dos dimensiones, a partir de datos contenidos en listas o arrays\n",
        "\n",
        "- **Income**\n",
        "\n",
        "Este primer valor será analizado con la función de ```Seaborn``` llamada ```histplot``` y en ```Matplot``` se llama ```plt.hist()```.\n",
        "\n",
        "Ambas funciones otorgan resultados similares, el principal cambio se ve en la manera de editar y llamar a las funciones."
      ]
    },
    {
      "cell_type": "code",
      "execution_count": null,
      "id": "59262e53-ffa3-4fa9-96eb-e0586bf13618",
      "metadata": {
        "id": "59262e53-ffa3-4fa9-96eb-e0586bf13618"
      },
      "outputs": [],
      "source": [
        "# info()\n"
      ]
    },
    {
      "cell_type": "code",
      "execution_count": null,
      "id": "582b8e2b-595f-4b54-874b-8f462e5dcff6",
      "metadata": {
        "id": "582b8e2b-595f-4b54-874b-8f462e5dcff6"
      },
      "outputs": [],
      "source": [
        "# Matplot -> plt.hist\n",
        "plt.hist(data.Income)\n",
        "plt.show()"
      ]
    },
    {
      "cell_type": "code",
      "execution_count": null,
      "id": "c91b74eb-3dbe-4f9b-9616-1b35d9e0ea49",
      "metadata": {
        "id": "c91b74eb-3dbe-4f9b-9616-1b35d9e0ea49"
      },
      "outputs": [],
      "source": [
        "# agregar grid(True)\n"
      ]
    },
    {
      "cell_type": "markdown",
      "id": "b405f63f-d087-4fc2-b5bc-e424b9ac55f4",
      "metadata": {
        "id": "b405f63f-d087-4fc2-b5bc-e424b9ac55f4"
      },
      "source": [
        "- **Age**"
      ]
    },
    {
      "cell_type": "code",
      "execution_count": null,
      "id": "580b306d-629c-4539-b590-8771267f309a",
      "metadata": {
        "id": "580b306d-629c-4539-b590-8771267f309a"
      },
      "outputs": [],
      "source": [
        "# lo mismo, pero ahora en seaborn\n",
        "sns.histplot(data = data, x = 'Age')\n"
      ]
    },
    {
      "cell_type": "code",
      "execution_count": null,
      "id": "077c8307-da70-4810-8f99-ce7ddc527ece",
      "metadata": {
        "id": "077c8307-da70-4810-8f99-ce7ddc527ece"
      },
      "outputs": [],
      "source": [
        "# Agreguemos hue = 'Gender' dentro de nuestra función\n"
      ]
    },
    {
      "cell_type": "code",
      "execution_count": null,
      "id": "88b7b1f7-fe10-4671-af82-6ffb6926be65",
      "metadata": {
        "id": "88b7b1f7-fe10-4671-af82-6ffb6926be65"
      },
      "outputs": [],
      "source": [
        "# Se sobreponen, entonces les sugiero agregar tambien element=\"step\"\n"
      ]
    },
    {
      "cell_type": "markdown",
      "source": [
        "## **Diagrama de caja y bigote**\n",
        "\n",
        " Un diagrama de cajas y bigotes es una manera conveniente de mostrar visualmente grupos de datos numéricos a través de sus cuartiles.\n",
        "\n",
        "Las líneas que se extienden paralelas a las cajas se conocen como «**bigotes**», y se usan para indicar variabilidad fuera de los cuartiles superior e inferior.\n",
        "\n",
        " Los **valores atípicos** se representan a veces como puntos individuales que están en línea con los bigotes. Los diagramas de cajas y bigotes se pueden dibujar vertical u horizontalmente."
      ],
      "metadata": {
        "id": "8Pb2NI731Wok"
      },
      "id": "8Pb2NI731Wok"
    },
    {
      "cell_type": "code",
      "execution_count": null,
      "id": "ea97ad59-2cef-4dad-b249-8f97db4e4dd2",
      "metadata": {
        "id": "ea97ad59-2cef-4dad-b249-8f97db4e4dd2"
      },
      "outputs": [],
      "source": [
        "# describe()\n"
      ]
    },
    {
      "cell_type": "code",
      "execution_count": null,
      "id": "a213d558-ff61-4fad-9965-6f2c4d19cf60",
      "metadata": {
        "id": "a213d558-ff61-4fad-9965-6f2c4d19cf60"
      },
      "outputs": [],
      "source": [
        "sns.boxplot(data = data, y = 'Income')"
      ]
    },
    {
      "cell_type": "markdown",
      "id": "de3361b3-a2e9-4e42-b6bf-ceea60a3f5a2",
      "metadata": {
        "id": "de3361b3-a2e9-4e42-b6bf-ceea60a3f5a2"
      },
      "source": [
        "# **Datos cualitativos**\n",
        "\n",
        "### **Gráfico de barras**\n",
        "\n",
        "```countplot()```\n",
        "\n",
        "https://seaborn.pydata.org/generated/seaborn.countplot.html\n",
        "\n",
        "Realicemos un gráfico por cada una de las variables cualitativas:"
      ]
    },
    {
      "cell_type": "code",
      "source": [
        "# head()\n"
      ],
      "metadata": {
        "id": "gTlEchMZ22cd"
      },
      "id": "gTlEchMZ22cd",
      "execution_count": null,
      "outputs": []
    },
    {
      "cell_type": "code",
      "execution_count": null,
      "id": "d0ddcdf8-608c-446f-b0a2-19f1fb10ddf5",
      "metadata": {
        "id": "d0ddcdf8-608c-446f-b0a2-19f1fb10ddf5"
      },
      "outputs": [],
      "source": [
        "# sns.countplot() -> Product\n",
        "sns.countplot(x = data['Product'])"
      ]
    },
    {
      "cell_type": "code",
      "source": [
        "# Variable 2\n"
      ],
      "metadata": {
        "id": "RSHkNyHa2gqV"
      },
      "id": "RSHkNyHa2gqV",
      "execution_count": null,
      "outputs": []
    },
    {
      "cell_type": "code",
      "source": [
        "# Variable 3\n"
      ],
      "metadata": {
        "id": "eNFl9-x42gfG"
      },
      "id": "eNFl9-x42gfG",
      "execution_count": null,
      "outputs": []
    },
    {
      "cell_type": "code",
      "source": [
        "# Variable 4\n"
      ],
      "metadata": {
        "id": "e3_18aUh2gVI"
      },
      "id": "e3_18aUh2gVI",
      "execution_count": null,
      "outputs": []
    },
    {
      "cell_type": "code",
      "source": [
        "# Variable 5\n"
      ],
      "metadata": {
        "id": "9ePaasXu2k20"
      },
      "id": "9ePaasXu2k20",
      "execution_count": null,
      "outputs": []
    },
    {
      "cell_type": "markdown",
      "source": [
        "***¿Consideran que los gráficos anteriores son suficientes para la creación de un reporte?***\n",
        "\n",
        "Vamos a crear con otra función de ```seaborn``` gráficos  con más información. De tal forma que puedan en una imagen resolver multiples preguntas de investigación.\n",
        "\n",
        "\n",
        "\n",
        "```catplot()```\n",
        "\n",
        "https://seaborn.pydata.org/generated/seaborn.catplot.html\n",
        "\n",
        "El siguiente gráfico tendrá las siguientes características:\n",
        "\n",
        "\n",
        "1.   Grafico de barras donde se mostrarán los ingresos respecto al género.\n",
        "2.   Dentro de cada género, se crearán barras inicando el tipo de prodicto. cada barra tendrá un color diferente.\n",
        "\n"
      ],
      "metadata": {
        "id": "Hu7natK42oQq"
      },
      "id": "Hu7natK42oQq"
    },
    {
      "cell_type": "code",
      "execution_count": null,
      "id": "1f6090d3-57a6-413f-a49c-947e44a79e20",
      "metadata": {
        "id": "1f6090d3-57a6-413f-a49c-947e44a79e20"
      },
      "outputs": [],
      "source": [
        "sns.catplot(data=data, y=\"Income\", x=\"Gender\", hue=\"Product\", kind=\"bar\")"
      ]
    },
    {
      "cell_type": "markdown",
      "source": [
        "Realicemos otro gráfico, consideremos las mismas variables ```x``` y ```y```, cambiando el valor de ```hue = ''``` por uno de su interés.\n",
        "\n",
        "Solo recuenden que ```hue = ''``` forzosamente debe de ser una categoría.\n",
        "\n"
      ],
      "metadata": {
        "id": "VF1iHfXh5z7c"
      },
      "id": "VF1iHfXh5z7c"
    },
    {
      "cell_type": "code",
      "source": [
        "sns.catplot(data=data, y=\"Income\", x=\"Gender\", hue=\"\", kind=\"bar\")"
      ],
      "metadata": {
        "id": "ib5bWInz5zN9"
      },
      "id": "ib5bWInz5zN9",
      "execution_count": null,
      "outputs": []
    },
    {
      "cell_type": "markdown",
      "source": [
        "Eliminemos el parámetro de ```kind = ''``` y volvamos a ejecutar ese código en una línea nueva:"
      ],
      "metadata": {
        "id": "EK4zu-p56uBn"
      },
      "id": "EK4zu-p56uBn"
    },
    {
      "cell_type": "code",
      "source": [],
      "metadata": {
        "id": "icn5E8ja6qp2"
      },
      "id": "icn5E8ja6qp2",
      "execution_count": null,
      "outputs": []
    },
    {
      "cell_type": "markdown",
      "source": [
        "## **Tablas**\n",
        "\n",
        "La función ```crosstab()``` nos permite unir dos variables y realizar un conteo de frecuencias o bien alguna otra función (media, mediana, moda, max, min, etc).\n",
        "\n"
      ],
      "metadata": {
        "id": "rmLOuSuK5p6z"
      },
      "id": "rmLOuSuK5p6z"
    },
    {
      "cell_type": "code",
      "execution_count": null,
      "id": "7479765a-f558-465f-95bc-14f86a39014c",
      "metadata": {
        "id": "7479765a-f558-465f-95bc-14f86a39014c"
      },
      "outputs": [],
      "source": [
        "pd.crosstab(data['Product'],data['MaritalStatus'] )"
      ]
    },
    {
      "cell_type": "markdown",
      "source": [
        "### **Tablas pivote**\n",
        "\n",
        "Podemos obtener un resultado similar por medio de tablas pivote, la ventaja es que podemos jugar con más variables.\n",
        "\n",
        "En el siguiente ejemplo, la tabla tendrá la siguiente estructura:\n",
        "\n",
        "\n",
        "\n",
        "*   Índice: producto\n",
        "*   Columnas: género\n",
        "*   Función agregada: promedio de ingresos\n"
      ],
      "metadata": {
        "id": "L-CADkayaL-w"
      },
      "id": "L-CADkayaL-w"
    },
    {
      "cell_type": "code",
      "source": [
        "data.pivot_table(index = \"Product\", columns = \"Gender\", aggfunc = {\"Income\": 'mean'})"
      ],
      "metadata": {
        "id": "XHdVAj3LaLc-"
      },
      "id": "XHdVAj3LaLc-",
      "execution_count": null,
      "outputs": []
    },
    {
      "cell_type": "markdown",
      "source": [
        "### **Gráfico de pay**\n",
        "\n",
        "Actualmente, este gráfico no puede realizarse en ```seaborn```, por lo que utilizaremos ```matplot``` :)\n",
        "\n",
        "La función ```plot.pie()``` nos pide tener un formaro especifico como variable de entrada.\n",
        "\n",
        "Lo que se necesita es una tabla o un dataframe con las variables que deseamos graficas y el conteo de frecuencias de cada una de ellas.\n",
        "\n",
        "Para lograrlo podemos hacer lo siguiente:"
      ],
      "metadata": {
        "id": "NdauXLyLa9zi"
      },
      "id": "NdauXLyLa9zi"
    },
    {
      "cell_type": "code",
      "source": [
        "fitness = data.Fitness.value_counts().rename_axis('unique_values').to_frame('counts')\n",
        "fitness"
      ],
      "metadata": {
        "colab": {
          "base_uri": "https://localhost:8080/",
          "height": 257
        },
        "id": "KMLgG2nzCv8O",
        "outputId": "91ae3703-fc21-40f4-8202-3477948fcae4"
      },
      "id": "KMLgG2nzCv8O",
      "execution_count": null,
      "outputs": [
        {
          "output_type": "execute_result",
          "data": {
            "text/plain": [
              "               counts\n",
              "unique_values        \n",
              "3                  97\n",
              "5                  31\n",
              "2                  26\n",
              "4                  24\n",
              "1                   2"
            ],
            "text/html": [
              "\n",
              "  <div id=\"df-799ae28f-2755-4eae-b54a-af949fc234b4\" class=\"colab-df-container\">\n",
              "    <div>\n",
              "<style scoped>\n",
              "    .dataframe tbody tr th:only-of-type {\n",
              "        vertical-align: middle;\n",
              "    }\n",
              "\n",
              "    .dataframe tbody tr th {\n",
              "        vertical-align: top;\n",
              "    }\n",
              "\n",
              "    .dataframe thead th {\n",
              "        text-align: right;\n",
              "    }\n",
              "</style>\n",
              "<table border=\"1\" class=\"dataframe\">\n",
              "  <thead>\n",
              "    <tr style=\"text-align: right;\">\n",
              "      <th></th>\n",
              "      <th>counts</th>\n",
              "    </tr>\n",
              "    <tr>\n",
              "      <th>unique_values</th>\n",
              "      <th></th>\n",
              "    </tr>\n",
              "  </thead>\n",
              "  <tbody>\n",
              "    <tr>\n",
              "      <th>3</th>\n",
              "      <td>97</td>\n",
              "    </tr>\n",
              "    <tr>\n",
              "      <th>5</th>\n",
              "      <td>31</td>\n",
              "    </tr>\n",
              "    <tr>\n",
              "      <th>2</th>\n",
              "      <td>26</td>\n",
              "    </tr>\n",
              "    <tr>\n",
              "      <th>4</th>\n",
              "      <td>24</td>\n",
              "    </tr>\n",
              "    <tr>\n",
              "      <th>1</th>\n",
              "      <td>2</td>\n",
              "    </tr>\n",
              "  </tbody>\n",
              "</table>\n",
              "</div>\n",
              "    <div class=\"colab-df-buttons\">\n",
              "\n",
              "  <div class=\"colab-df-container\">\n",
              "    <button class=\"colab-df-convert\" onclick=\"convertToInteractive('df-799ae28f-2755-4eae-b54a-af949fc234b4')\"\n",
              "            title=\"Convert this dataframe to an interactive table.\"\n",
              "            style=\"display:none;\">\n",
              "\n",
              "  <svg xmlns=\"http://www.w3.org/2000/svg\" height=\"24px\" viewBox=\"0 -960 960 960\">\n",
              "    <path d=\"M120-120v-720h720v720H120Zm60-500h600v-160H180v160Zm220 220h160v-160H400v160Zm0 220h160v-160H400v160ZM180-400h160v-160H180v160Zm440 0h160v-160H620v160ZM180-180h160v-160H180v160Zm440 0h160v-160H620v160Z\"/>\n",
              "  </svg>\n",
              "    </button>\n",
              "\n",
              "  <style>\n",
              "    .colab-df-container {\n",
              "      display:flex;\n",
              "      gap: 12px;\n",
              "    }\n",
              "\n",
              "    .colab-df-convert {\n",
              "      background-color: #E8F0FE;\n",
              "      border: none;\n",
              "      border-radius: 50%;\n",
              "      cursor: pointer;\n",
              "      display: none;\n",
              "      fill: #1967D2;\n",
              "      height: 32px;\n",
              "      padding: 0 0 0 0;\n",
              "      width: 32px;\n",
              "    }\n",
              "\n",
              "    .colab-df-convert:hover {\n",
              "      background-color: #E2EBFA;\n",
              "      box-shadow: 0px 1px 2px rgba(60, 64, 67, 0.3), 0px 1px 3px 1px rgba(60, 64, 67, 0.15);\n",
              "      fill: #174EA6;\n",
              "    }\n",
              "\n",
              "    .colab-df-buttons div {\n",
              "      margin-bottom: 4px;\n",
              "    }\n",
              "\n",
              "    [theme=dark] .colab-df-convert {\n",
              "      background-color: #3B4455;\n",
              "      fill: #D2E3FC;\n",
              "    }\n",
              "\n",
              "    [theme=dark] .colab-df-convert:hover {\n",
              "      background-color: #434B5C;\n",
              "      box-shadow: 0px 1px 3px 1px rgba(0, 0, 0, 0.15);\n",
              "      filter: drop-shadow(0px 1px 2px rgba(0, 0, 0, 0.3));\n",
              "      fill: #FFFFFF;\n",
              "    }\n",
              "  </style>\n",
              "\n",
              "    <script>\n",
              "      const buttonEl =\n",
              "        document.querySelector('#df-799ae28f-2755-4eae-b54a-af949fc234b4 button.colab-df-convert');\n",
              "      buttonEl.style.display =\n",
              "        google.colab.kernel.accessAllowed ? 'block' : 'none';\n",
              "\n",
              "      async function convertToInteractive(key) {\n",
              "        const element = document.querySelector('#df-799ae28f-2755-4eae-b54a-af949fc234b4');\n",
              "        const dataTable =\n",
              "          await google.colab.kernel.invokeFunction('convertToInteractive',\n",
              "                                                    [key], {});\n",
              "        if (!dataTable) return;\n",
              "\n",
              "        const docLinkHtml = 'Like what you see? Visit the ' +\n",
              "          '<a target=\"_blank\" href=https://colab.research.google.com/notebooks/data_table.ipynb>data table notebook</a>'\n",
              "          + ' to learn more about interactive tables.';\n",
              "        element.innerHTML = '';\n",
              "        dataTable['output_type'] = 'display_data';\n",
              "        await google.colab.output.renderOutput(dataTable, element);\n",
              "        const docLink = document.createElement('div');\n",
              "        docLink.innerHTML = docLinkHtml;\n",
              "        element.appendChild(docLink);\n",
              "      }\n",
              "    </script>\n",
              "  </div>\n",
              "\n",
              "\n",
              "<div id=\"df-3e0cc580-155b-46d6-a105-feb60ab94445\">\n",
              "  <button class=\"colab-df-quickchart\" onclick=\"quickchart('df-3e0cc580-155b-46d6-a105-feb60ab94445')\"\n",
              "            title=\"Suggest charts\"\n",
              "            style=\"display:none;\">\n",
              "\n",
              "<svg xmlns=\"http://www.w3.org/2000/svg\" height=\"24px\"viewBox=\"0 0 24 24\"\n",
              "     width=\"24px\">\n",
              "    <g>\n",
              "        <path d=\"M19 3H5c-1.1 0-2 .9-2 2v14c0 1.1.9 2 2 2h14c1.1 0 2-.9 2-2V5c0-1.1-.9-2-2-2zM9 17H7v-7h2v7zm4 0h-2V7h2v10zm4 0h-2v-4h2v4z\"/>\n",
              "    </g>\n",
              "</svg>\n",
              "  </button>\n",
              "\n",
              "<style>\n",
              "  .colab-df-quickchart {\n",
              "      --bg-color: #E8F0FE;\n",
              "      --fill-color: #1967D2;\n",
              "      --hover-bg-color: #E2EBFA;\n",
              "      --hover-fill-color: #174EA6;\n",
              "      --disabled-fill-color: #AAA;\n",
              "      --disabled-bg-color: #DDD;\n",
              "  }\n",
              "\n",
              "  [theme=dark] .colab-df-quickchart {\n",
              "      --bg-color: #3B4455;\n",
              "      --fill-color: #D2E3FC;\n",
              "      --hover-bg-color: #434B5C;\n",
              "      --hover-fill-color: #FFFFFF;\n",
              "      --disabled-bg-color: #3B4455;\n",
              "      --disabled-fill-color: #666;\n",
              "  }\n",
              "\n",
              "  .colab-df-quickchart {\n",
              "    background-color: var(--bg-color);\n",
              "    border: none;\n",
              "    border-radius: 50%;\n",
              "    cursor: pointer;\n",
              "    display: none;\n",
              "    fill: var(--fill-color);\n",
              "    height: 32px;\n",
              "    padding: 0;\n",
              "    width: 32px;\n",
              "  }\n",
              "\n",
              "  .colab-df-quickchart:hover {\n",
              "    background-color: var(--hover-bg-color);\n",
              "    box-shadow: 0 1px 2px rgba(60, 64, 67, 0.3), 0 1px 3px 1px rgba(60, 64, 67, 0.15);\n",
              "    fill: var(--button-hover-fill-color);\n",
              "  }\n",
              "\n",
              "  .colab-df-quickchart-complete:disabled,\n",
              "  .colab-df-quickchart-complete:disabled:hover {\n",
              "    background-color: var(--disabled-bg-color);\n",
              "    fill: var(--disabled-fill-color);\n",
              "    box-shadow: none;\n",
              "  }\n",
              "\n",
              "  .colab-df-spinner {\n",
              "    border: 2px solid var(--fill-color);\n",
              "    border-color: transparent;\n",
              "    border-bottom-color: var(--fill-color);\n",
              "    animation:\n",
              "      spin 1s steps(1) infinite;\n",
              "  }\n",
              "\n",
              "  @keyframes spin {\n",
              "    0% {\n",
              "      border-color: transparent;\n",
              "      border-bottom-color: var(--fill-color);\n",
              "      border-left-color: var(--fill-color);\n",
              "    }\n",
              "    20% {\n",
              "      border-color: transparent;\n",
              "      border-left-color: var(--fill-color);\n",
              "      border-top-color: var(--fill-color);\n",
              "    }\n",
              "    30% {\n",
              "      border-color: transparent;\n",
              "      border-left-color: var(--fill-color);\n",
              "      border-top-color: var(--fill-color);\n",
              "      border-right-color: var(--fill-color);\n",
              "    }\n",
              "    40% {\n",
              "      border-color: transparent;\n",
              "      border-right-color: var(--fill-color);\n",
              "      border-top-color: var(--fill-color);\n",
              "    }\n",
              "    60% {\n",
              "      border-color: transparent;\n",
              "      border-right-color: var(--fill-color);\n",
              "    }\n",
              "    80% {\n",
              "      border-color: transparent;\n",
              "      border-right-color: var(--fill-color);\n",
              "      border-bottom-color: var(--fill-color);\n",
              "    }\n",
              "    90% {\n",
              "      border-color: transparent;\n",
              "      border-bottom-color: var(--fill-color);\n",
              "    }\n",
              "  }\n",
              "</style>\n",
              "\n",
              "  <script>\n",
              "    async function quickchart(key) {\n",
              "      const quickchartButtonEl =\n",
              "        document.querySelector('#' + key + ' button');\n",
              "      quickchartButtonEl.disabled = true;  // To prevent multiple clicks.\n",
              "      quickchartButtonEl.classList.add('colab-df-spinner');\n",
              "      try {\n",
              "        const charts = await google.colab.kernel.invokeFunction(\n",
              "            'suggestCharts', [key], {});\n",
              "      } catch (error) {\n",
              "        console.error('Error during call to suggestCharts:', error);\n",
              "      }\n",
              "      quickchartButtonEl.classList.remove('colab-df-spinner');\n",
              "      quickchartButtonEl.classList.add('colab-df-quickchart-complete');\n",
              "    }\n",
              "    (() => {\n",
              "      let quickchartButtonEl =\n",
              "        document.querySelector('#df-3e0cc580-155b-46d6-a105-feb60ab94445 button');\n",
              "      quickchartButtonEl.style.display =\n",
              "        google.colab.kernel.accessAllowed ? 'block' : 'none';\n",
              "    })();\n",
              "  </script>\n",
              "</div>\n",
              "\n",
              "  <div id=\"id_77de2019-8be0-4ccc-b34a-b228f723128a\">\n",
              "    <style>\n",
              "      .colab-df-generate {\n",
              "        background-color: #E8F0FE;\n",
              "        border: none;\n",
              "        border-radius: 50%;\n",
              "        cursor: pointer;\n",
              "        display: none;\n",
              "        fill: #1967D2;\n",
              "        height: 32px;\n",
              "        padding: 0 0 0 0;\n",
              "        width: 32px;\n",
              "      }\n",
              "\n",
              "      .colab-df-generate:hover {\n",
              "        background-color: #E2EBFA;\n",
              "        box-shadow: 0px 1px 2px rgba(60, 64, 67, 0.3), 0px 1px 3px 1px rgba(60, 64, 67, 0.15);\n",
              "        fill: #174EA6;\n",
              "      }\n",
              "\n",
              "      [theme=dark] .colab-df-generate {\n",
              "        background-color: #3B4455;\n",
              "        fill: #D2E3FC;\n",
              "      }\n",
              "\n",
              "      [theme=dark] .colab-df-generate:hover {\n",
              "        background-color: #434B5C;\n",
              "        box-shadow: 0px 1px 3px 1px rgba(0, 0, 0, 0.15);\n",
              "        filter: drop-shadow(0px 1px 2px rgba(0, 0, 0, 0.3));\n",
              "        fill: #FFFFFF;\n",
              "      }\n",
              "    </style>\n",
              "    <button class=\"colab-df-generate\" onclick=\"generateWithVariable('fitness')\"\n",
              "            title=\"Generate code using this dataframe.\"\n",
              "            style=\"display:none;\">\n",
              "\n",
              "  <svg xmlns=\"http://www.w3.org/2000/svg\" height=\"24px\"viewBox=\"0 0 24 24\"\n",
              "       width=\"24px\">\n",
              "    <path d=\"M7,19H8.4L18.45,9,17,7.55,7,17.6ZM5,21V16.75L18.45,3.32a2,2,0,0,1,2.83,0l1.4,1.43a1.91,1.91,0,0,1,.58,1.4,1.91,1.91,0,0,1-.58,1.4L9.25,21ZM18.45,9,17,7.55Zm-12,3A5.31,5.31,0,0,0,4.9,8.1,5.31,5.31,0,0,0,1,6.5,5.31,5.31,0,0,0,4.9,4.9,5.31,5.31,0,0,0,6.5,1,5.31,5.31,0,0,0,8.1,4.9,5.31,5.31,0,0,0,12,6.5,5.46,5.46,0,0,0,6.5,12Z\"/>\n",
              "  </svg>\n",
              "    </button>\n",
              "    <script>\n",
              "      (() => {\n",
              "      const buttonEl =\n",
              "        document.querySelector('#id_77de2019-8be0-4ccc-b34a-b228f723128a button.colab-df-generate');\n",
              "      buttonEl.style.display =\n",
              "        google.colab.kernel.accessAllowed ? 'block' : 'none';\n",
              "\n",
              "      buttonEl.onclick = () => {\n",
              "        google.colab.notebook.generateWithVariable('fitness');\n",
              "      }\n",
              "      })();\n",
              "    </script>\n",
              "  </div>\n",
              "\n",
              "    </div>\n",
              "  </div>\n"
            ],
            "application/vnd.google.colaboratory.intrinsic+json": {
              "type": "dataframe",
              "variable_name": "fitness",
              "summary": "{\n  \"name\": \"fitness\",\n  \"rows\": 5,\n  \"fields\": [\n    {\n      \"column\": \"unique_values\",\n      \"properties\": {\n        \"dtype\": \"number\",\n        \"std\": 1,\n        \"min\": 1,\n        \"max\": 5,\n        \"num_unique_values\": 5,\n        \"samples\": [\n          5,\n          1,\n          2\n        ],\n        \"semantic_type\": \"\",\n        \"description\": \"\"\n      }\n    },\n    {\n      \"column\": \"counts\",\n      \"properties\": {\n        \"dtype\": \"number\",\n        \"std\": 35,\n        \"min\": 2,\n        \"max\": 97,\n        \"num_unique_values\": 5,\n        \"samples\": [\n          31,\n          2,\n          26\n        ],\n        \"semantic_type\": \"\",\n        \"description\": \"\"\n      }\n    }\n  ]\n}"
            }
          },
          "metadata": {},
          "execution_count": 46
        }
      ]
    },
    {
      "cell_type": "code",
      "source": [
        "fitness.plot.pie(y = 'counts')"
      ],
      "metadata": {
        "id": "2D6GtjdIaLYA"
      },
      "id": "2D6GtjdIaLYA",
      "execution_count": null,
      "outputs": []
    },
    {
      "cell_type": "markdown",
      "source": [
        "Ahora, seleccionen una variable de su interes que siga las características del ejemplo anterior.\n",
        "\n",
        "Recuerden crear el mini dataframe previo a llamar ```plot.pie()```"
      ],
      "metadata": {
        "id": "C0JdI0WorEfN"
      },
      "id": "C0JdI0WorEfN"
    },
    {
      "cell_type": "code",
      "source": [
        "# dataframe\n",
        "\n",
        "\n",
        "\n",
        "#plot.pie()"
      ],
      "metadata": {
        "id": "Qm7jdSrnaLRu"
      },
      "id": "Qm7jdSrnaLRu",
      "execution_count": null,
      "outputs": []
    },
    {
      "cell_type": "markdown",
      "source": [
        "## **Gráficos de tendencia**\n",
        "\n",
        "### **Gráficos de línea**\n",
        "\n",
        "Para el siguiente ejemeplo utilizaremos la base de datos de supermarket_sales en conjunto con la función ```lineplot()```.\n",
        "\n",
        "\n",
        "https://seaborn.pydata.org/generated/seaborn.lineplot.html"
      ],
      "metadata": {
        "id": "bNzHQse6a1fG"
      },
      "id": "bNzHQse6a1fG"
    },
    {
      "cell_type": "code",
      "source": [
        "# cargar el archivo\n",
        "sales = pd.read_csv('/content/drive/MyDrive/IN1002B_204/supermarket_sales - Sheet1.csv')"
      ],
      "metadata": {
        "id": "Tej6q07GbJ6o"
      },
      "id": "Tej6q07GbJ6o",
      "execution_count": 22,
      "outputs": []
    },
    {
      "cell_type": "code",
      "source": [
        "# head()"
      ],
      "metadata": {
        "id": "UwigQSzVuBqN"
      },
      "id": "UwigQSzVuBqN",
      "execution_count": null,
      "outputs": []
    },
    {
      "cell_type": "code",
      "source": [
        "# isnull()\n"
      ],
      "metadata": {
        "id": "HNHtrPHhuwoY"
      },
      "id": "HNHtrPHhuwoY",
      "execution_count": null,
      "outputs": []
    },
    {
      "cell_type": "code",
      "source": [
        "# ajustes de fecha\n",
        "\n",
        "sales['Date'] = pd.to_datetime(sales['date'], format= '%m/%d/%Y')"
      ],
      "metadata": {
        "id": "IMOm2LaCuwcw"
      },
      "id": "IMOm2LaCuwcw",
      "execution_count": 33,
      "outputs": []
    },
    {
      "cell_type": "markdown",
      "source": [
        "Vamos ahora a crear dos columnas nuevas, una será por año y la otra por mes."
      ],
      "metadata": {
        "id": "x4NKRqGSvNbu"
      },
      "id": "x4NKRqGSvNbu"
    },
    {
      "cell_type": "code",
      "source": [
        "# Año\n",
        "\n",
        "sales['Year'] = sales.Date.dt.year\n",
        "\n",
        "# Mes\n",
        "sales['Month'] = sales.Date.dt.month"
      ],
      "metadata": {
        "id": "ep2imGKLvNpV"
      },
      "id": "ep2imGKLvNpV",
      "execution_count": 34,
      "outputs": []
    },
    {
      "cell_type": "markdown",
      "source": [
        "Ahora podemos hacer un gráfico de línea con la función ```lineplot()``` de ```seaborn```."
      ],
      "metadata": {
        "id": "oLW_Ka_2vm1L"
      },
      "id": "oLW_Ka_2vm1L"
    },
    {
      "cell_type": "code",
      "source": [
        "sns.lineplot(data=sales, y=\"Total\", x=\"Month\", ci = None)\n",
        "# Ajustar las leyendas de eje para que aparezcan todos los meses\n",
        "plt.xticks(ticks=sales['Month'].unique())\n",
        "\n",
        "# Mostrar el gráfico\n",
        "plt.show()"
      ],
      "metadata": {
        "id": "-2npK-2OvOiH"
      },
      "id": "-2npK-2OvOiH",
      "execution_count": null,
      "outputs": []
    },
    {
      "cell_type": "code",
      "source": [
        "# Agregamos el argumento \"hue\" con el valor = Gender para ver la tendencia por género.\n"
      ],
      "metadata": {
        "id": "iOXR-E2nwsdi"
      },
      "id": "iOXR-E2nwsdi",
      "execution_count": null,
      "outputs": []
    },
    {
      "cell_type": "code",
      "source": [
        "sns.lineplot(data=sales, y=\"Total\", x=\"Month\", hue = 'Gender', ci = None)\n",
        "plt.xticks(ticks=sales['Month'].unique())\n",
        "\n",
        "# Agregamos una línea de guía, mostraremos el promedio de ventas en todos los periodos\n",
        "plt.axhline(y=sales.Total.mean(), color='red', linestyle='--', label='Línea Punteada')\n",
        "\n",
        "# Mostrar el gráfico\n",
        "plt.show()"
      ],
      "metadata": {
        "id": "QKz6zKhCxqAj"
      },
      "id": "QKz6zKhCxqAj",
      "execution_count": null,
      "outputs": []
    }
  ],
  "metadata": {
    "kernelspec": {
      "display_name": "Python 3 (ipykernel)",
      "language": "python",
      "name": "python3"
    },
    "language_info": {
      "codemirror_mode": {
        "name": "ipython",
        "version": 3
      },
      "file_extension": ".py",
      "mimetype": "text/x-python",
      "name": "python",
      "nbconvert_exporter": "python",
      "pygments_lexer": "ipython3",
      "version": "3.11.7"
    },
    "colab": {
      "provenance": []
    }
  },
  "nbformat": 4,
  "nbformat_minor": 5
}