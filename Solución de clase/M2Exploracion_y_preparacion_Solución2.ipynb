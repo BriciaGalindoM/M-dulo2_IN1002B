{
  "cells": [
    {
      "cell_type": "markdown",
      "id": "31b0807a-ece6-4d43-824c-fd83700754da",
      "metadata": {
        "id": "31b0807a-ece6-4d43-824c-fd83700754da"
      },
      "source": [
        "# Módulo 2\n",
        "**Desarrollo de proyectos de análisis de datos  IN1002B**\n",
        "\n",
        "### Tipos de datos, indexación y datos perdidos.\n",
        "\n",
        "**Librerías**\n",
        "\n",
        "Dependiendo de lo que se requiera (manejo de datos, visualización, modelos), debemos importar las librerías necesarias.\n"
      ]
    },
    {
      "cell_type": "code",
      "source": [
        "from google.colab import drive\n",
        "drive.mount('/content/drive')"
      ],
      "metadata": {
        "colab": {
          "base_uri": "https://localhost:8080/"
        },
        "id": "kq7KXyYvNUPD",
        "outputId": "210c9b9b-6786-4d29-b558-0986696745fd"
      },
      "id": "kq7KXyYvNUPD",
      "execution_count": 6,
      "outputs": [
        {
          "output_type": "stream",
          "name": "stdout",
          "text": [
            "Drive already mounted at /content/drive; to attempt to forcibly remount, call drive.mount(\"/content/drive\", force_remount=True).\n"
          ]
        }
      ]
    },
    {
      "cell_type": "code",
      "execution_count": 3,
      "id": "1a56fe72-078a-4f48-bd39-647500e775a5",
      "metadata": {
        "id": "1a56fe72-078a-4f48-bd39-647500e775a5"
      },
      "outputs": [],
      "source": [
        "import pandas as pd\n",
        "import numpy as np"
      ]
    },
    {
      "cell_type": "markdown",
      "id": "1d215933-6de7-430f-a8c1-98e69e91e9c0",
      "metadata": {
        "id": "1d215933-6de7-430f-a8c1-98e69e91e9c0"
      },
      "source": [
        "**Cargar los datos**\n",
        "\n",
        "Hay diversas formas de llamar a una base de datos,para este curso utilizaremos la función de ``` pd.read_csv('')``` o bien la de ``` pd.read_excel('')``` de pandas.\n",
        "\n",
        "Solo deben de tener la precaución de tener su base de datos dentro de la carpeta donde se este haciendo el notebook."
      ]
    },
    {
      "cell_type": "code",
      "execution_count": 5,
      "id": "5e9025b9-5bc9-4e4f-a5b9-8ff731394995",
      "metadata": {
        "id": "5e9025b9-5bc9-4e4f-a5b9-8ff731394995"
      },
      "outputs": [],
      "source": [
        "data = pd.read_csv(\"/content/drive/MyDrive/IN1002B.204/M2/retail.csv\")"
      ]
    },
    {
      "cell_type": "markdown",
      "id": "335ccd9d-97f0-410d-80f7-cfce7200631c",
      "metadata": {
        "id": "335ccd9d-97f0-410d-80f7-cfce7200631c"
      },
      "source": [
        "**Información general de los datos**\n",
        "\n",
        "Una parte fundamental es saber como esta estructurada nuestra base de datos, es decir, saber:\n",
        "* ¿Cuántas columnas tiene?\n",
        "* ¿Cuántas filas?\n",
        "* ¿Qué tipo de datos son?\n",
        "* ¿Hay caractéres especiales?\n",
        "* ¿Tenemos faltantes?\n",
        "\n",
        "```info()```\n",
        "\n",
        "Nos da respuesta a gran parte de las preguntas anteriores, podemos ver las dimensiones de la base y tipos de datos."
      ]
    },
    {
      "cell_type": "code",
      "execution_count": null,
      "id": "f3ca68f0-c09b-43ba-b04a-00c3f5c31eca",
      "metadata": {
        "id": "f3ca68f0-c09b-43ba-b04a-00c3f5c31eca"
      },
      "outputs": [],
      "source": []
    },
    {
      "cell_type": "markdown",
      "id": "2d0b04bf-cf41-4dd7-8eef-6dc0e9fb7b30",
      "metadata": {
        "id": "2d0b04bf-cf41-4dd7-8eef-6dc0e9fb7b30"
      },
      "source": [
        "```head()```\n",
        "\n",
        "Como dice su nombre, esta función nos permite las primeras filas de la base, es muy importante para saber como estan capturados los registros que tenemos."
      ]
    },
    {
      "cell_type": "code",
      "execution_count": null,
      "id": "8088e37c-7037-44a4-b9de-67c27db1e42d",
      "metadata": {
        "id": "8088e37c-7037-44a4-b9de-67c27db1e42d"
      },
      "outputs": [],
      "source": []
    },
    {
      "cell_type": "markdown",
      "id": "1417d88b-e759-43a7-b87b-432643e7c367",
      "metadata": {
        "id": "1417d88b-e759-43a7-b87b-432643e7c367"
      },
      "source": [
        "```isnull()```\n",
        "\n",
        "Esta función nos ayuda a detectar los faltantes, en conjunto con ```sum()``` la podemos aplicar a la base de datos para ver cuántos valores nos faltan por columna."
      ]
    },
    {
      "cell_type": "code",
      "execution_count": null,
      "id": "1a663ebe-78b1-4bce-bb44-042102e401fa",
      "metadata": {
        "id": "1a663ebe-78b1-4bce-bb44-042102e401fa"
      },
      "outputs": [],
      "source": []
    },
    {
      "cell_type": "markdown",
      "id": "9ba0b71e-67dc-4530-bfde-8bc82d8e7631",
      "metadata": {
        "id": "9ba0b71e-67dc-4530-bfde-8bc82d8e7631"
      },
      "source": [
        "## **Indexación**  \n",
        "Cuando necesitamos acceder a los elementos de una columna, podemos acerlo de varias formas:\n",
        "\n",
        "### **Columnas**"
      ]
    },
    {
      "cell_type": "code",
      "execution_count": null,
      "id": "92342dac-d6fe-4244-a298-b5b61fc2da78",
      "metadata": {
        "id": "92342dac-d6fe-4244-a298-b5b61fc2da78"
      },
      "outputs": [],
      "source": [
        "data.Date"
      ]
    },
    {
      "cell_type": "code",
      "execution_count": null,
      "id": "79f86569-320e-470d-8923-d951370d9d11",
      "metadata": {
        "id": "79f86569-320e-470d-8923-d951370d9d11"
      },
      "outputs": [],
      "source": [
        "data['Store ID']"
      ]
    },
    {
      "cell_type": "code",
      "execution_count": null,
      "id": "c2862e70-c7f3-4463-a8f6-e8faf94bd15a",
      "metadata": {
        "id": "c2862e70-c7f3-4463-a8f6-e8faf94bd15a"
      },
      "outputs": [],
      "source": [
        "#elementos de la columna 3\n",
        "data.iloc[:, 3]"
      ]
    },
    {
      "cell_type": "code",
      "execution_count": null,
      "id": "a2be56fa-976d-4278-9110-c98a27714319",
      "metadata": {
        "id": "a2be56fa-976d-4278-9110-c98a27714319"
      },
      "outputs": [],
      "source": [
        "# Columnas 4 a la 8\n",
        "data.iloc[:, 4:8]"
      ]
    },
    {
      "cell_type": "markdown",
      "id": "bf1a724b-75e7-4e2f-977b-53443d1962f8",
      "metadata": {
        "id": "bf1a724b-75e7-4e2f-977b-53443d1962f8"
      },
      "source": [
        "### **Filas**"
      ]
    },
    {
      "cell_type": "code",
      "execution_count": null,
      "id": "5418b2c3-8749-4dcc-b79b-259b113efd47",
      "metadata": {
        "id": "5418b2c3-8749-4dcc-b79b-259b113efd47"
      },
      "outputs": [],
      "source": [
        "data[0:10]"
      ]
    },
    {
      "cell_type": "markdown",
      "id": "07360eda-4a2b-4689-8d17-72336f3c5b68",
      "metadata": {
        "id": "07360eda-4a2b-4689-8d17-72336f3c5b68"
      },
      "source": [
        "Si necesitan un conjunto de datos más específico, es de utilidad  ```loc```.\n",
        "<br>\n",
        "En el siguiente ejemplo le pedimos que nos muestre los valores de la fila 0 a la 15 de las columnas \"CASE_STATUS\" y \"CASE_RECEIVED_DATE\"."
      ]
    },
    {
      "cell_type": "code",
      "execution_count": null,
      "id": "dea1d113-79a4-48f2-a71e-4d9d3a4049fb",
      "metadata": {
        "id": "dea1d113-79a4-48f2-a71e-4d9d3a4049fb"
      },
      "outputs": [],
      "source": [
        "# Filas de la 0 a la 14 y dos columnas\n",
        "data.loc[0:14, [\"Store ID\", \"Date\"]]"
      ]
    },
    {
      "cell_type": "code",
      "execution_count": null,
      "id": "db4b02b5-edfb-46ab-bde2-687b99801cc3",
      "metadata": {
        "id": "db4b02b5-edfb-46ab-bde2-687b99801cc3"
      },
      "outputs": [],
      "source": [
        "# o por rangos\n",
        "\n",
        "data.loc[1:5,'Product ID': 'Marketing Spend (USD)']"
      ]
    },
    {
      "cell_type": "markdown",
      "id": "d6e71e5a-b2da-40fc-81ac-9d4a1a6e7106",
      "metadata": {
        "id": "d6e71e5a-b2da-40fc-81ac-9d4a1a6e7106"
      },
      "source": [
        "## **Tipos de datos**\n",
        "\n",
        "En python tenemos diferentes tipos de datos, los pueden ver en la función `info()`, algunos de ellos son:\n",
        "\n",
        "    Object\n",
        "    float\n",
        "    int\n",
        "    bool\n",
        "    category\n",
        "\n",
        "Podemos tener más clases de objetos, incluso podemos crear, pero para fines de esta clase trabajaremos solo con estos.\n",
        "\n",
        "### **Datos cualitativos**\n",
        "\n",
        "* Explicación de este tipo de datos\n",
        "\n",
        "Con la estrucutura de base de datos de pandas, podemos identificar este tipo de valores como `object` o `category`.\n",
        "Es importante hacer una impresión de los datos antes, solo para estar completamente seguros.\n",
        "\n",
        "Unas funciones que nos ayudan mucho en este tipo de datos son: `value_counts()` y `unique()`\n",
        "\n",
        "```unique()``` : Nos ayuda a identificar los valores únicos en la columna\n",
        "\n",
        "```value_counts()```: Nos ayuda a identificar las veces que se repite cada categoría\n"
      ]
    },
    {
      "cell_type": "code",
      "execution_count": null,
      "id": "17dd6ad6-8e89-419d-993d-bb3408b6377c",
      "metadata": {
        "id": "17dd6ad6-8e89-419d-993d-bb3408b6377c"
      },
      "outputs": [],
      "source": []
    },
    {
      "cell_type": "code",
      "execution_count": null,
      "id": "394a40d4-0874-48bc-88e6-f77b7b5720ac",
      "metadata": {
        "id": "394a40d4-0874-48bc-88e6-f77b7b5720ac"
      },
      "outputs": [],
      "source": [
        "#normalize\n"
      ]
    },
    {
      "cell_type": "code",
      "execution_count": null,
      "id": "330bce9c-8d95-4ab9-9350-6133217d05d6",
      "metadata": {
        "id": "330bce9c-8d95-4ab9-9350-6133217d05d6"
      },
      "outputs": [],
      "source": [
        "#unique\n"
      ]
    },
    {
      "cell_type": "markdown",
      "id": "162793ee-9c01-4f8d-b8e6-775775bce7e8",
      "metadata": {
        "id": "162793ee-9c01-4f8d-b8e6-775775bce7e8"
      },
      "source": [
        "### **Datos cuantitativos**\n",
        "\n",
        "* Explicación de este tipo de datos\n",
        "\n",
        "En comparación con los datos cualitativos, los cuantitativos se reconocen debido a que son del tipo `int` o float`.\n",
        "\n",
        "**Discretos vs Contínuos**\n",
        "\n",
        "Para este tipo de datos nos ayuda la función de `describe()` si los datos son de tipo contínuo. En el caso de que sean discretos nos podemos seguir apoyando de `value_counts()`."
      ]
    },
    {
      "cell_type": "code",
      "execution_count": null,
      "id": "acfc521e-eae9-4c4c-a26e-8fd4c61b1075",
      "metadata": {
        "id": "acfc521e-eae9-4c4c-a26e-8fd4c61b1075"
      },
      "outputs": [],
      "source": [
        "# contínuos\n"
      ]
    },
    {
      "cell_type": "code",
      "execution_count": null,
      "id": "be6cca17-8913-4b93-8686-7f8f28d36248",
      "metadata": {
        "id": "be6cca17-8913-4b93-8686-7f8f28d36248"
      },
      "outputs": [],
      "source": [
        "# discretos\n"
      ]
    },
    {
      "cell_type": "markdown",
      "id": "84a28f35-5852-495c-b046-50b47624ebd6",
      "metadata": {
        "id": "84a28f35-5852-495c-b046-50b47624ebd6"
      },
      "source": [
        "## **Datos perdidos**\n",
        "\n",
        "El trabajo de datos perdidos depende de cada base de datos, por lo que no tenemos una guía que aplique a todo.\n",
        "<br>\n",
        "Antes de remplazar algun valor primero debemos revisar:\n",
        "* ¿Es posible remplazar ese valor con otro?\n",
        "* ¿Cuántos faltantes tenemos?\n",
        "* ¿Qué lógica deberá de seguir el remplazo?\n",
        "\n",
        "\n",
        "En caso de que si puedas hacer un remplazo, la pregunta más importante será la tercera.\n",
        "\n",
        "Para estos ejemplos trabajaremos con la base de datos de `bike_buyers.csv`"
      ]
    },
    {
      "cell_type": "code",
      "execution_count": 7,
      "id": "45a0b867-a451-4973-804c-923625949bbd",
      "metadata": {
        "id": "45a0b867-a451-4973-804c-923625949bbd"
      },
      "outputs": [],
      "source": [
        "bike = pd.read_csv('/content/drive/MyDrive/IN1002B.204/M2/bike_buyers.csv')"
      ]
    },
    {
      "cell_type": "code",
      "execution_count": null,
      "id": "3aeb953e-7847-4260-a89a-b15193a413fb",
      "metadata": {
        "id": "3aeb953e-7847-4260-a89a-b15193a413fb"
      },
      "outputs": [],
      "source": [
        "# info()"
      ]
    },
    {
      "cell_type": "code",
      "execution_count": null,
      "id": "3cede785-1855-4516-891a-e5351898814f",
      "metadata": {
        "id": "3cede785-1855-4516-891a-e5351898814f"
      },
      "outputs": [],
      "source": [
        "# isnull()\n",
        "\n",
        "bike.isnull().sum()"
      ]
    },
    {
      "cell_type": "markdown",
      "id": "b228f62c-a084-4177-83b2-4d86d4a79a6b",
      "metadata": {
        "id": "b228f62c-a084-4177-83b2-4d86d4a79a6b"
      },
      "source": [
        "Vamos a hacer una copia de respaldo, para tener los valores originales a la mano en caso de ser necesario."
      ]
    },
    {
      "cell_type": "code",
      "execution_count": null,
      "id": "186e7711-d71b-439b-8dad-bad23d3f7d64",
      "metadata": {
        "id": "186e7711-d71b-439b-8dad-bad23d3f7d64"
      },
      "outputs": [],
      "source": [
        "respaldo = pd.read_csv('bike_buyers.csv')"
      ]
    },
    {
      "cell_type": "markdown",
      "id": "0f3bb4e5-ab65-475d-ab4a-57d09cc95554",
      "metadata": {
        "id": "0f3bb4e5-ab65-475d-ab4a-57d09cc95554"
      },
      "source": [
        "Ahora continuemos con la base de `bike`.\n",
        "<br>\n",
        "Nor iremos por orden, la primera columna es `Marital Status`:"
      ]
    },
    {
      "cell_type": "code",
      "execution_count": null,
      "id": "2ea3bee6-3487-4b0d-9215-a02a9b628018",
      "metadata": {
        "id": "2ea3bee6-3487-4b0d-9215-a02a9b628018"
      },
      "outputs": [],
      "source": [
        "#value_counts()\n"
      ]
    },
    {
      "cell_type": "markdown",
      "id": "48f72729-bb86-4249-bec0-98480a5524e5",
      "metadata": {
        "id": "48f72729-bb86-4249-bec0-98480a5524e5"
      },
      "source": [
        "`fillna()`\n",
        "\n",
        "Esta función buscará todos los faltantes del conjunto de datos que señales. Solo necesitas declarar como argumento de entrada `()` con que valor remplazaras los faltantes. El valor puede ser **numérico** o tipo **texto**\n",
        "\n",
        "Vamos a remplazar con la leyenda:\n",
        "    \n",
        "    'Sin registro'"
      ]
    },
    {
      "cell_type": "code",
      "execution_count": null,
      "id": "8ab72cff-8f19-4bba-9f1f-94d313c2c6cf",
      "metadata": {
        "id": "8ab72cff-8f19-4bba-9f1f-94d313c2c6cf"
      },
      "outputs": [],
      "source": [
        "bike['Marital Status'].fillna('Sin registro', inplace = True)\n",
        "\n",
        "#inplace evita esto:\n",
        "# bike['Marital Status'] = bike['Marital Status'].fillna('Sin registro')"
      ]
    },
    {
      "cell_type": "code",
      "execution_count": null,
      "id": "50eaa404-8c1e-4971-8648-3525493a05f8",
      "metadata": {
        "id": "50eaa404-8c1e-4971-8648-3525493a05f8"
      },
      "outputs": [],
      "source": [
        "#value_counts() / unique()\n"
      ]
    },
    {
      "cell_type": "markdown",
      "id": "333cece1-e43a-4af3-b9f2-f62054af2cd0",
      "metadata": {
        "id": "333cece1-e43a-4af3-b9f2-f62054af2cd0"
      },
      "source": [
        "`replace`\n",
        "\n",
        "La lógica es la misma que `fillna`, solo que `replace` no se enfoca solo a los datos faltantes.\n",
        "\n",
        "Vamos a recuperar la columna original de `Marital Status`:"
      ]
    },
    {
      "cell_type": "code",
      "execution_count": null,
      "id": "b991509f-f1e9-4597-9e02-1554d93cee63",
      "metadata": {
        "id": "b991509f-f1e9-4597-9e02-1554d93cee63"
      },
      "outputs": [],
      "source": [
        "bike['Marital Status'] = respaldo['Marital Status']\n",
        "#unique()\n"
      ]
    },
    {
      "cell_type": "markdown",
      "id": "e00f235a-1e61-4b3e-8b0d-b16748e73913",
      "metadata": {
        "id": "e00f235a-1e61-4b3e-8b0d-b16748e73913"
      },
      "source": [
        "Lo que vamos a hacer es apoyarnos de numpy con `np.nan`."
      ]
    },
    {
      "cell_type": "code",
      "execution_count": null,
      "id": "7b570243-e363-4bea-9937-0344ea6906f2",
      "metadata": {
        "id": "7b570243-e363-4bea-9937-0344ea6906f2"
      },
      "outputs": [],
      "source": [
        "bike['Marital Status'].replace(np.nan,'Sin registro', inplace = True)"
      ]
    },
    {
      "cell_type": "code",
      "execution_count": null,
      "id": "3fb78df5-017e-4c94-9b22-d914bf3e4c6e",
      "metadata": {
        "id": "3fb78df5-017e-4c94-9b22-d914bf3e4c6e"
      },
      "outputs": [],
      "source": [
        "#value_counts()\n"
      ]
    },
    {
      "cell_type": "markdown",
      "id": "9ee8edd4-1f0c-4609-ba51-e7ebedd2d999",
      "metadata": {
        "id": "9ee8edd4-1f0c-4609-ba51-e7ebedd2d999"
      },
      "source": [
        "***loc() - iloc()***\n",
        "\n",
        "`loc` = Acceder a los valores por medio del nombre: CASE_STATUS\n",
        "\n",
        "\n",
        "`iloc` = Acceder a los valores por la ubicación de los valores $data[3]$"
      ]
    },
    {
      "cell_type": "markdown",
      "id": "aa39b66a-eccb-4e0f-a06f-40bb86502094",
      "metadata": {
        "id": "aa39b66a-eccb-4e0f-a06f-40bb86502094"
      },
      "source": [
        "`ffill`\n",
        "\n",
        "Este es un método de **propagación** de valores de la función `fillna()` por medio del argumento `method`\n",
        "<br>\n",
        "Lo que hace es tomar el valor inmediato anterior y colocarlo donde hay un faltante:"
      ]
    },
    {
      "cell_type": "code",
      "execution_count": null,
      "id": "80feb58a-1bfe-404d-b278-0a892651d2d2",
      "metadata": {
        "id": "80feb58a-1bfe-404d-b278-0a892651d2d2"
      },
      "outputs": [],
      "source": [
        "# Vamos a colocar los datos originales\n",
        "bike['Marital Status'] = respaldo['Marital Status']"
      ]
    },
    {
      "cell_type": "code",
      "execution_count": null,
      "id": "a093d552-5140-4a47-9b6f-62a86058ef44",
      "metadata": {
        "id": "a093d552-5140-4a47-9b6f-62a86058ef44"
      },
      "outputs": [],
      "source": [
        "#unique()\n"
      ]
    },
    {
      "cell_type": "code",
      "execution_count": null,
      "id": "e76c6245-ccc2-4be3-a05a-df2f7f5a4263",
      "metadata": {
        "id": "e76c6245-ccc2-4be3-a05a-df2f7f5a4263"
      },
      "outputs": [],
      "source": [
        "#head(10)\n"
      ]
    },
    {
      "cell_type": "code",
      "execution_count": null,
      "id": "895cc836-9c1b-4d17-845f-3c4497bf914a",
      "metadata": {
        "id": "895cc836-9c1b-4d17-845f-3c4497bf914a"
      },
      "outputs": [],
      "source": [
        "#ffill\n",
        "bike['Marital Status'].fillna(method = 'ffill', inplace = True)"
      ]
    },
    {
      "cell_type": "markdown",
      "id": "168f1e6c-afba-4aea-8d90-80b012e32986",
      "metadata": {
        "id": "168f1e6c-afba-4aea-8d90-80b012e32986"
      },
      "source": [
        "**Moda**\n",
        "\n",
        "Por el tipo de dato que tenemos también podemos aplicar la moda, para esto vamos a seguir apoyandonos de la función `fillna()` y tambien de `mode()`"
      ]
    },
    {
      "cell_type": "code",
      "execution_count": null,
      "id": "62c1fed8-d58f-42ba-a8c2-e84417e04b08",
      "metadata": {
        "id": "62c1fed8-d58f-42ba-a8c2-e84417e04b08"
      },
      "outputs": [],
      "source": [
        "# Vamos a colocar los datos originales\n",
        "\n",
        "#bike['Marital Status'] = respaldo['Marital Status']"
      ]
    },
    {
      "cell_type": "code",
      "execution_count": 19,
      "id": "6a33e44c-5fc0-41c2-b838-bf38e1188a99",
      "metadata": {
        "colab": {
          "base_uri": "https://localhost:8080/",
          "height": 115
        },
        "id": "6a33e44c-5fc0-41c2-b838-bf38e1188a99",
        "outputId": "cd824ab8-8874-4d83-f6d4-96c09319ad42"
      },
      "outputs": [
        {
          "output_type": "execute_result",
          "data": {
            "text/plain": [
              "0    Married\n",
              "Name: Marital Status, dtype: object"
            ],
            "text/html": [
              "<div>\n",
              "<style scoped>\n",
              "    .dataframe tbody tr th:only-of-type {\n",
              "        vertical-align: middle;\n",
              "    }\n",
              "\n",
              "    .dataframe tbody tr th {\n",
              "        vertical-align: top;\n",
              "    }\n",
              "\n",
              "    .dataframe thead th {\n",
              "        text-align: right;\n",
              "    }\n",
              "</style>\n",
              "<table border=\"1\" class=\"dataframe\">\n",
              "  <thead>\n",
              "    <tr style=\"text-align: right;\">\n",
              "      <th></th>\n",
              "      <th>Marital Status</th>\n",
              "    </tr>\n",
              "  </thead>\n",
              "  <tbody>\n",
              "    <tr>\n",
              "      <th>0</th>\n",
              "      <td>Married</td>\n",
              "    </tr>\n",
              "  </tbody>\n",
              "</table>\n",
              "</div><br><label><b>dtype:</b> object</label>"
            ]
          },
          "metadata": {},
          "execution_count": 19
        }
      ],
      "source": [
        "#moda\n",
        "moda = bike['Marital Status'].mode()[0]\n",
        "moda"
      ]
    },
    {
      "cell_type": "markdown",
      "id": "e2627b2d-a8bc-4126-b860-575c4bc07afd",
      "metadata": {
        "id": "e2627b2d-a8bc-4126-b860-575c4bc07afd"
      },
      "source": [
        "Para obtener el valor de moda directamente, necesitas acceder al primer elemento con [0] porque mode() devuelve una Series"
      ]
    },
    {
      "cell_type": "code",
      "execution_count": null,
      "id": "5a3f5225-a3a4-4892-b549-cb74e9cd97ba",
      "metadata": {
        "id": "5a3f5225-a3a4-4892-b549-cb74e9cd97ba"
      },
      "outputs": [],
      "source": [
        "# fillna\n",
        "\n",
        "# head()\n",
        "\n"
      ]
    },
    {
      "cell_type": "markdown",
      "id": "93544039-1a6f-4f6f-ad36-7a83aaa38149",
      "metadata": {
        "id": "93544039-1a6f-4f6f-ad36-7a83aaa38149"
      },
      "source": [
        "**dropna()**\n",
        "\n",
        "En caso de que no pueda realizarse algun remplazo, se recomienda eliminar los faltantes, esto también lo podemos hacer especificando la columna que estamos analizando:"
      ]
    },
    {
      "cell_type": "code",
      "execution_count": 9,
      "id": "242dc785-6dcc-4ff0-8a6c-8299bb7ad6db",
      "metadata": {
        "colab": {
          "base_uri": "https://localhost:8080/"
        },
        "id": "242dc785-6dcc-4ff0-8a6c-8299bb7ad6db",
        "outputId": "c3aa8c90-8af2-442c-b2b0-70849f49a83e"
      },
      "outputs": [
        {
          "output_type": "execute_result",
          "data": {
            "text/plain": [
              "(1000, 13)"
            ]
          },
          "metadata": {},
          "execution_count": 9
        }
      ],
      "source": [
        "bike.shape"
      ]
    },
    {
      "cell_type": "markdown",
      "id": "db42e3cc-c73f-4032-8877-aabec9491f44",
      "metadata": {
        "id": "db42e3cc-c73f-4032-8877-aabec9491f44"
      },
      "source": [
        "Podemos hacer una eliminación **general** de los faltantes."
      ]
    },
    {
      "cell_type": "code",
      "source": [
        "respaldo = bike"
      ],
      "metadata": {
        "id": "567dS6xoi3L5"
      },
      "id": "567dS6xoi3L5",
      "execution_count": 10,
      "outputs": []
    },
    {
      "cell_type": "code",
      "execution_count": 11,
      "id": "f11c6785-8cd7-4cce-9d59-609102846571",
      "metadata": {
        "id": "f11c6785-8cd7-4cce-9d59-609102846571"
      },
      "outputs": [],
      "source": [
        "bike.dropna(inplace = True)"
      ]
    },
    {
      "cell_type": "code",
      "execution_count": 12,
      "id": "0ec37fc9-8ee5-4a8a-9634-f1a973851884",
      "metadata": {
        "colab": {
          "base_uri": "https://localhost:8080/"
        },
        "id": "0ec37fc9-8ee5-4a8a-9634-f1a973851884",
        "outputId": "51a18ad1-0f41-408e-9734-f5493b499222"
      },
      "outputs": [
        {
          "output_type": "execute_result",
          "data": {
            "text/plain": [
              "(952, 13)"
            ]
          },
          "metadata": {},
          "execution_count": 12
        }
      ],
      "source": [
        "bike.shape"
      ]
    },
    {
      "cell_type": "markdown",
      "id": "0a806cf0-eeed-418d-aa68-ca552581ae69",
      "metadata": {
        "id": "0a806cf0-eeed-418d-aa68-ca552581ae69"
      },
      "source": [
        "Usemos la copia que teniamos generada"
      ]
    },
    {
      "cell_type": "code",
      "execution_count": 16,
      "id": "5cf7dab1-f61e-4beb-8915-cf14fda2e311",
      "metadata": {
        "colab": {
          "base_uri": "https://localhost:8080/"
        },
        "id": "5cf7dab1-f61e-4beb-8915-cf14fda2e311",
        "outputId": "566c3d4b-eb8f-4287-eec3-385307acb333"
      },
      "outputs": [
        {
          "output_type": "stream",
          "name": "stdout",
          "text": [
            "<class 'pandas.core.frame.DataFrame'>\n",
            "RangeIndex: 1000 entries, 0 to 999\n",
            "Data columns (total 13 columns):\n",
            " #   Column            Non-Null Count  Dtype  \n",
            "---  ------            --------------  -----  \n",
            " 0   ID                1000 non-null   int64  \n",
            " 1   Marital Status    993 non-null    object \n",
            " 2   Gender            989 non-null    object \n",
            " 3   Income            994 non-null    float64\n",
            " 4   Children          992 non-null    float64\n",
            " 5   Education         1000 non-null   object \n",
            " 6   Occupation        1000 non-null   object \n",
            " 7   Home Owner        996 non-null    object \n",
            " 8   Cars              991 non-null    float64\n",
            " 9   Commute Distance  1000 non-null   object \n",
            " 10  Region            1000 non-null   object \n",
            " 11  Age               992 non-null    float64\n",
            " 12  Purchased Bike    1000 non-null   object \n",
            "dtypes: float64(4), int64(1), object(8)\n",
            "memory usage: 101.7+ KB\n"
          ]
        }
      ],
      "source": [
        "bike = pd.read_csv('/content/drive/MyDrive/IN1002B.204/M2/bike_buyers.csv')\n",
        "bike.info()"
      ]
    },
    {
      "cell_type": "markdown",
      "id": "713de305-9a31-4355-8e44-78baf81f096e",
      "metadata": {
        "id": "713de305-9a31-4355-8e44-78baf81f096e"
      },
      "source": [
        "O bien especificar a que columnas deseamos aplicar la función:"
      ]
    },
    {
      "cell_type": "code",
      "execution_count": 17,
      "id": "7b8de277-d4a5-47ce-a31b-aed736264dfc",
      "metadata": {
        "id": "7b8de277-d4a5-47ce-a31b-aed736264dfc"
      },
      "outputs": [],
      "source": [
        "#bike.dropna(subset = ['Age', 'Cars'], inplace = True)\n",
        "bike.dropna(subset = ['Home Owner', 'Income'], inplace = True)"
      ]
    },
    {
      "cell_type": "code",
      "execution_count": 18,
      "id": "12030f00-eaf3-499a-9e3f-3e53511ead0e",
      "metadata": {
        "colab": {
          "base_uri": "https://localhost:8080/"
        },
        "id": "12030f00-eaf3-499a-9e3f-3e53511ead0e",
        "outputId": "d2f24692-ba2b-40f2-a57c-320db1c3c6ba"
      },
      "outputs": [
        {
          "output_type": "execute_result",
          "data": {
            "text/plain": [
              "(990, 13)"
            ]
          },
          "metadata": {},
          "execution_count": 18
        }
      ],
      "source": [
        "bike.shape"
      ]
    },
    {
      "cell_type": "code",
      "execution_count": null,
      "id": "84f6ca3d-2f35-49f4-ad53-94d86ed2849b",
      "metadata": {
        "id": "84f6ca3d-2f35-49f4-ad53-94d86ed2849b"
      },
      "outputs": [],
      "source": [
        "#isnull()\n",
        "bike.isnull().sum()"
      ]
    },
    {
      "cell_type": "markdown",
      "id": "269fb366-e767-4619-8ac6-1e7d0dfce72b",
      "metadata": {
        "id": "269fb366-e767-4619-8ac6-1e7d0dfce72b"
      },
      "source": [
        "* ¿Cuál consideran que es la mejor opción para la columna de estatus marital?\n",
        "\n",
        "* ¿Las técnicas que empleamos anteriormente son igualmente aplicables a `Income`, `Children` y `Age`?"
      ]
    },
    {
      "cell_type": "markdown",
      "id": "37c5272b-d63f-447c-b4b2-fc7b56788ece",
      "metadata": {
        "id": "37c5272b-d63f-447c-b4b2-fc7b56788ece"
      },
      "source": [
        "**Media**\n",
        "\n",
        "Es una de las formas más utilizadas para hacer el remplazo de valores, la forma en que se aplica es similar a la de la moda (`mode()`).\n",
        "\n",
        "En este ejemplo vamos a trabajar con `Income`:"
      ]
    },
    {
      "cell_type": "code",
      "execution_count": 20,
      "id": "ae8811ca-da97-47d7-8d44-7cfa0575e455",
      "metadata": {
        "colab": {
          "base_uri": "https://localhost:8080/"
        },
        "id": "ae8811ca-da97-47d7-8d44-7cfa0575e455",
        "outputId": "2335f125-4f1b-40b2-f421-531e4e22c952"
      },
      "outputs": [
        {
          "output_type": "execute_result",
          "data": {
            "text/plain": [
              "56171.71717171717"
            ]
          },
          "metadata": {},
          "execution_count": 20
        }
      ],
      "source": [
        "mean = bike.Income.mean() # no necesita indexar con [0]\n",
        "mean"
      ]
    },
    {
      "cell_type": "code",
      "execution_count": 21,
      "id": "16554e18-2d85-46e1-901a-29b4e0a91b6b",
      "metadata": {
        "colab": {
          "base_uri": "https://localhost:8080/",
          "height": 335
        },
        "id": "16554e18-2d85-46e1-901a-29b4e0a91b6b",
        "outputId": "cca3dc45-31d8-4b20-f945-aa9ab4568a76"
      },
      "outputs": [
        {
          "output_type": "execute_result",
          "data": {
            "text/plain": [
              "count       990.000000\n",
              "mean      56171.717172\n",
              "std       30950.412215\n",
              "min       10000.000000\n",
              "25%       30000.000000\n",
              "50%       60000.000000\n",
              "75%       70000.000000\n",
              "max      170000.000000\n",
              "Name: Income, dtype: float64"
            ],
            "text/html": [
              "<div>\n",
              "<style scoped>\n",
              "    .dataframe tbody tr th:only-of-type {\n",
              "        vertical-align: middle;\n",
              "    }\n",
              "\n",
              "    .dataframe tbody tr th {\n",
              "        vertical-align: top;\n",
              "    }\n",
              "\n",
              "    .dataframe thead th {\n",
              "        text-align: right;\n",
              "    }\n",
              "</style>\n",
              "<table border=\"1\" class=\"dataframe\">\n",
              "  <thead>\n",
              "    <tr style=\"text-align: right;\">\n",
              "      <th></th>\n",
              "      <th>Income</th>\n",
              "    </tr>\n",
              "  </thead>\n",
              "  <tbody>\n",
              "    <tr>\n",
              "      <th>count</th>\n",
              "      <td>990.000000</td>\n",
              "    </tr>\n",
              "    <tr>\n",
              "      <th>mean</th>\n",
              "      <td>56171.717172</td>\n",
              "    </tr>\n",
              "    <tr>\n",
              "      <th>std</th>\n",
              "      <td>30950.412215</td>\n",
              "    </tr>\n",
              "    <tr>\n",
              "      <th>min</th>\n",
              "      <td>10000.000000</td>\n",
              "    </tr>\n",
              "    <tr>\n",
              "      <th>25%</th>\n",
              "      <td>30000.000000</td>\n",
              "    </tr>\n",
              "    <tr>\n",
              "      <th>50%</th>\n",
              "      <td>60000.000000</td>\n",
              "    </tr>\n",
              "    <tr>\n",
              "      <th>75%</th>\n",
              "      <td>70000.000000</td>\n",
              "    </tr>\n",
              "    <tr>\n",
              "      <th>max</th>\n",
              "      <td>170000.000000</td>\n",
              "    </tr>\n",
              "  </tbody>\n",
              "</table>\n",
              "</div><br><label><b>dtype:</b> float64</label>"
            ]
          },
          "metadata": {},
          "execution_count": 21
        }
      ],
      "source": [
        "#o bien -> describe()\n",
        "bike.Income.describe()"
      ]
    },
    {
      "cell_type": "code",
      "execution_count": 22,
      "id": "86153f46-7115-48c5-9390-baededd8b1af",
      "metadata": {
        "id": "86153f46-7115-48c5-9390-baededd8b1af"
      },
      "outputs": [],
      "source": [
        "mean = 56171.71\n",
        "\n",
        "bike['Income'].fillna(mean, inplace = True)"
      ]
    },
    {
      "cell_type": "markdown",
      "id": "9449ea59-589c-4852-824d-e02559e3272b",
      "metadata": {
        "id": "9449ea59-589c-4852-824d-e02559e3272b"
      },
      "source": [
        "También podrían hacer lo siguiente:\n",
        "    \n",
        "    bike['Income'].fillna(bike['Income'].mean(), inplace= True)\n",
        "    \n",
        "Pero ¿que pasaría si intentan aplicar esa misma lógica a la columna de `Children`?"
      ]
    },
    {
      "cell_type": "code",
      "execution_count": 23,
      "id": "055057f2-1933-45ce-82ca-ff1f2fab2042",
      "metadata": {
        "colab": {
          "base_uri": "https://localhost:8080/"
        },
        "id": "055057f2-1933-45ce-82ca-ff1f2fab2042",
        "outputId": "31543570-522a-4dd8-f24d-004530408523"
      },
      "outputs": [
        {
          "output_type": "execute_result",
          "data": {
            "text/plain": [
              "1.9093686354378818"
            ]
          },
          "metadata": {},
          "execution_count": 23
        }
      ],
      "source": [
        "mean2 = bike.Children.mean()\n",
        "mean2"
      ]
    },
    {
      "cell_type": "markdown",
      "id": "8aafbe7d-ebf5-4125-95c4-1953605fbe47",
      "metadata": {
        "id": "8aafbe7d-ebf5-4125-95c4-1953605fbe47"
      },
      "source": [
        "¿Es correcto?\n",
        "\n",
        "Cuando tenemos variables tipo **discretas** no debemos hacer divisiones que nos arrojen valores tipo *float*.\n",
        "<br>\n",
        "En caso de que tengan este tipo de valores y requieran aplicar la media, solo necesitan hacer el siguiente ajuste:"
      ]
    },
    {
      "cell_type": "code",
      "execution_count": 24,
      "id": "a0a6d740-153d-4bd5-9d01-3a74604d2520",
      "metadata": {
        "colab": {
          "base_uri": "https://localhost:8080/"
        },
        "id": "a0a6d740-153d-4bd5-9d01-3a74604d2520",
        "outputId": "7e31310f-0d0e-4a3a-a1cb-0fe50cc5ef90"
      },
      "outputs": [
        {
          "output_type": "execute_result",
          "data": {
            "text/plain": [
              "2"
            ]
          },
          "metadata": {},
          "execution_count": 24
        }
      ],
      "source": [
        "mean2 = round(mean2)\n",
        "mean2"
      ]
    },
    {
      "cell_type": "code",
      "execution_count": 25,
      "id": "9d1244d7-f8c5-4cc7-836f-35faf78be74c",
      "metadata": {
        "id": "9d1244d7-f8c5-4cc7-836f-35faf78be74c"
      },
      "outputs": [],
      "source": [
        "bike['Children'].fillna(mean2, inplace = True)"
      ]
    },
    {
      "cell_type": "markdown",
      "id": "6222c067-90af-478b-867a-4f14b3ba7cef",
      "metadata": {
        "id": "6222c067-90af-478b-867a-4f14b3ba7cef"
      },
      "source": [
        "En caso de que requieran analizar la mediana, la lógica permanece igual:\n",
        "\n",
        "    mediana = bike['Children'].median()\n",
        "\n",
        "Solo asegurense de imprimir el valor con el que estarán haciendo el remplazo para ver que tenga sentido con: formato, valor y estructura de la columna."
      ]
    },
    {
      "cell_type": "markdown",
      "id": "1c63ac0b-43e6-4e95-bc19-564f6f32d622",
      "metadata": {
        "id": "1c63ac0b-43e6-4e95-bc19-564f6f32d622"
      },
      "source": [
        "## **Tipo de dato**\n",
        "\n",
        "En esta últia sección, vamos a eliminar los faltantes de toda la base de datos como primer paso:"
      ]
    },
    {
      "cell_type": "code",
      "execution_count": 28,
      "id": "6bdf3998-d26c-485c-9f3c-a019931f6b78",
      "metadata": {
        "colab": {
          "base_uri": "https://localhost:8080/"
        },
        "id": "6bdf3998-d26c-485c-9f3c-a019931f6b78",
        "outputId": "ad4f0c7d-4968-41db-8043-5d9d3eb971f0"
      },
      "outputs": [
        {
          "output_type": "stream",
          "name": "stdout",
          "text": [
            "<class 'pandas.core.frame.DataFrame'>\n",
            "RangeIndex: 1000 entries, 0 to 999\n",
            "Data columns (total 13 columns):\n",
            " #   Column            Non-Null Count  Dtype  \n",
            "---  ------            --------------  -----  \n",
            " 0   ID                1000 non-null   int64  \n",
            " 1   Marital Status    993 non-null    object \n",
            " 2   Gender            989 non-null    object \n",
            " 3   Income            994 non-null    float64\n",
            " 4   Children          992 non-null    float64\n",
            " 5   Education         1000 non-null   object \n",
            " 6   Occupation        1000 non-null   object \n",
            " 7   Home Owner        996 non-null    object \n",
            " 8   Cars              991 non-null    float64\n",
            " 9   Commute Distance  1000 non-null   object \n",
            " 10  Region            1000 non-null   object \n",
            " 11  Age               992 non-null    float64\n",
            " 12  Purchased Bike    1000 non-null   object \n",
            "dtypes: float64(4), int64(1), object(8)\n",
            "memory usage: 101.7+ KB\n"
          ]
        }
      ],
      "source": [
        "df = pd.read_csv(\"/content/drive/MyDrive/IN1002B.204/M2/bike_buyers.csv\") # Binder Data/mi_csv.csv\n",
        "df.info()"
      ]
    },
    {
      "cell_type": "code",
      "execution_count": 27,
      "id": "6aed01c9-7c18-4a75-a044-c7369bbfa7d8",
      "metadata": {
        "colab": {
          "base_uri": "https://localhost:8080/",
          "height": 492
        },
        "id": "6aed01c9-7c18-4a75-a044-c7369bbfa7d8",
        "outputId": "5c78e4ec-69c8-41de-b1b3-04c192921ffa"
      },
      "outputs": [
        {
          "output_type": "execute_result",
          "data": {
            "text/plain": [
              "ID                   0\n",
              "Marital Status       7\n",
              "Gender              11\n",
              "Income               6\n",
              "Children             8\n",
              "Education            0\n",
              "Occupation           0\n",
              "Home Owner           4\n",
              "Cars                 9\n",
              "Commute Distance     0\n",
              "Region               0\n",
              "Age                  8\n",
              "Purchased Bike       0\n",
              "dtype: int64"
            ],
            "text/html": [
              "<div>\n",
              "<style scoped>\n",
              "    .dataframe tbody tr th:only-of-type {\n",
              "        vertical-align: middle;\n",
              "    }\n",
              "\n",
              "    .dataframe tbody tr th {\n",
              "        vertical-align: top;\n",
              "    }\n",
              "\n",
              "    .dataframe thead th {\n",
              "        text-align: right;\n",
              "    }\n",
              "</style>\n",
              "<table border=\"1\" class=\"dataframe\">\n",
              "  <thead>\n",
              "    <tr style=\"text-align: right;\">\n",
              "      <th></th>\n",
              "      <th>0</th>\n",
              "    </tr>\n",
              "  </thead>\n",
              "  <tbody>\n",
              "    <tr>\n",
              "      <th>ID</th>\n",
              "      <td>0</td>\n",
              "    </tr>\n",
              "    <tr>\n",
              "      <th>Marital Status</th>\n",
              "      <td>7</td>\n",
              "    </tr>\n",
              "    <tr>\n",
              "      <th>Gender</th>\n",
              "      <td>11</td>\n",
              "    </tr>\n",
              "    <tr>\n",
              "      <th>Income</th>\n",
              "      <td>6</td>\n",
              "    </tr>\n",
              "    <tr>\n",
              "      <th>Children</th>\n",
              "      <td>8</td>\n",
              "    </tr>\n",
              "    <tr>\n",
              "      <th>Education</th>\n",
              "      <td>0</td>\n",
              "    </tr>\n",
              "    <tr>\n",
              "      <th>Occupation</th>\n",
              "      <td>0</td>\n",
              "    </tr>\n",
              "    <tr>\n",
              "      <th>Home Owner</th>\n",
              "      <td>4</td>\n",
              "    </tr>\n",
              "    <tr>\n",
              "      <th>Cars</th>\n",
              "      <td>9</td>\n",
              "    </tr>\n",
              "    <tr>\n",
              "      <th>Commute Distance</th>\n",
              "      <td>0</td>\n",
              "    </tr>\n",
              "    <tr>\n",
              "      <th>Region</th>\n",
              "      <td>0</td>\n",
              "    </tr>\n",
              "    <tr>\n",
              "      <th>Age</th>\n",
              "      <td>8</td>\n",
              "    </tr>\n",
              "    <tr>\n",
              "      <th>Purchased Bike</th>\n",
              "      <td>0</td>\n",
              "    </tr>\n",
              "  </tbody>\n",
              "</table>\n",
              "</div><br><label><b>dtype:</b> int64</label>"
            ]
          },
          "metadata": {},
          "execution_count": 27
        }
      ],
      "source": [
        "#isnull\n",
        "\n",
        "df.isnull().sum()"
      ]
    },
    {
      "cell_type": "code",
      "execution_count": 29,
      "id": "9ca457eb-f68d-403a-a2d5-f0b692c46129",
      "metadata": {
        "colab": {
          "base_uri": "https://localhost:8080/"
        },
        "id": "9ca457eb-f68d-403a-a2d5-f0b692c46129",
        "outputId": "82ce34f4-78a1-4b88-fbee-b196684c6d92"
      },
      "outputs": [
        {
          "output_type": "execute_result",
          "data": {
            "text/plain": [
              "(952, 13)"
            ]
          },
          "metadata": {},
          "execution_count": 29
        }
      ],
      "source": [
        "df.dropna(inplace=True)\n",
        "df.shape"
      ]
    },
    {
      "cell_type": "code",
      "execution_count": 30,
      "id": "031ee7c6-b2a5-4d50-b2f8-1fad4303afa8",
      "metadata": {
        "colab": {
          "base_uri": "https://localhost:8080/",
          "height": 206
        },
        "id": "031ee7c6-b2a5-4d50-b2f8-1fad4303afa8",
        "outputId": "8b4ec5f9-53b9-4747-d21a-6d03be79cae8"
      },
      "outputs": [
        {
          "output_type": "execute_result",
          "data": {
            "text/plain": [
              "      ID Marital Status  Gender   Income  Children        Education  \\\n",
              "0  12496        Married  Female  40000.0       1.0        Bachelors   \n",
              "1  24107        Married    Male  30000.0       3.0  Partial College   \n",
              "2  14177        Married    Male  80000.0       5.0  Partial College   \n",
              "4  25597         Single    Male  30000.0       0.0        Bachelors   \n",
              "5  13507        Married  Female  10000.0       2.0  Partial College   \n",
              "\n",
              "       Occupation Home Owner  Cars Commute Distance  Region   Age  \\\n",
              "0  Skilled Manual        Yes   0.0        0-1 Miles  Europe  42.0   \n",
              "1        Clerical        Yes   1.0        0-1 Miles  Europe  43.0   \n",
              "2    Professional         No   2.0        2-5 Miles  Europe  60.0   \n",
              "4        Clerical         No   0.0        0-1 Miles  Europe  36.0   \n",
              "5          Manual        Yes   0.0        1-2 Miles  Europe  50.0   \n",
              "\n",
              "  Purchased Bike  \n",
              "0             No  \n",
              "1             No  \n",
              "2             No  \n",
              "4            Yes  \n",
              "5             No  "
            ],
            "text/html": [
              "\n",
              "  <div id=\"df-3e160bc5-b952-4317-8bd4-59da2f2b2249\" class=\"colab-df-container\">\n",
              "    <div>\n",
              "<style scoped>\n",
              "    .dataframe tbody tr th:only-of-type {\n",
              "        vertical-align: middle;\n",
              "    }\n",
              "\n",
              "    .dataframe tbody tr th {\n",
              "        vertical-align: top;\n",
              "    }\n",
              "\n",
              "    .dataframe thead th {\n",
              "        text-align: right;\n",
              "    }\n",
              "</style>\n",
              "<table border=\"1\" class=\"dataframe\">\n",
              "  <thead>\n",
              "    <tr style=\"text-align: right;\">\n",
              "      <th></th>\n",
              "      <th>ID</th>\n",
              "      <th>Marital Status</th>\n",
              "      <th>Gender</th>\n",
              "      <th>Income</th>\n",
              "      <th>Children</th>\n",
              "      <th>Education</th>\n",
              "      <th>Occupation</th>\n",
              "      <th>Home Owner</th>\n",
              "      <th>Cars</th>\n",
              "      <th>Commute Distance</th>\n",
              "      <th>Region</th>\n",
              "      <th>Age</th>\n",
              "      <th>Purchased Bike</th>\n",
              "    </tr>\n",
              "  </thead>\n",
              "  <tbody>\n",
              "    <tr>\n",
              "      <th>0</th>\n",
              "      <td>12496</td>\n",
              "      <td>Married</td>\n",
              "      <td>Female</td>\n",
              "      <td>40000.0</td>\n",
              "      <td>1.0</td>\n",
              "      <td>Bachelors</td>\n",
              "      <td>Skilled Manual</td>\n",
              "      <td>Yes</td>\n",
              "      <td>0.0</td>\n",
              "      <td>0-1 Miles</td>\n",
              "      <td>Europe</td>\n",
              "      <td>42.0</td>\n",
              "      <td>No</td>\n",
              "    </tr>\n",
              "    <tr>\n",
              "      <th>1</th>\n",
              "      <td>24107</td>\n",
              "      <td>Married</td>\n",
              "      <td>Male</td>\n",
              "      <td>30000.0</td>\n",
              "      <td>3.0</td>\n",
              "      <td>Partial College</td>\n",
              "      <td>Clerical</td>\n",
              "      <td>Yes</td>\n",
              "      <td>1.0</td>\n",
              "      <td>0-1 Miles</td>\n",
              "      <td>Europe</td>\n",
              "      <td>43.0</td>\n",
              "      <td>No</td>\n",
              "    </tr>\n",
              "    <tr>\n",
              "      <th>2</th>\n",
              "      <td>14177</td>\n",
              "      <td>Married</td>\n",
              "      <td>Male</td>\n",
              "      <td>80000.0</td>\n",
              "      <td>5.0</td>\n",
              "      <td>Partial College</td>\n",
              "      <td>Professional</td>\n",
              "      <td>No</td>\n",
              "      <td>2.0</td>\n",
              "      <td>2-5 Miles</td>\n",
              "      <td>Europe</td>\n",
              "      <td>60.0</td>\n",
              "      <td>No</td>\n",
              "    </tr>\n",
              "    <tr>\n",
              "      <th>4</th>\n",
              "      <td>25597</td>\n",
              "      <td>Single</td>\n",
              "      <td>Male</td>\n",
              "      <td>30000.0</td>\n",
              "      <td>0.0</td>\n",
              "      <td>Bachelors</td>\n",
              "      <td>Clerical</td>\n",
              "      <td>No</td>\n",
              "      <td>0.0</td>\n",
              "      <td>0-1 Miles</td>\n",
              "      <td>Europe</td>\n",
              "      <td>36.0</td>\n",
              "      <td>Yes</td>\n",
              "    </tr>\n",
              "    <tr>\n",
              "      <th>5</th>\n",
              "      <td>13507</td>\n",
              "      <td>Married</td>\n",
              "      <td>Female</td>\n",
              "      <td>10000.0</td>\n",
              "      <td>2.0</td>\n",
              "      <td>Partial College</td>\n",
              "      <td>Manual</td>\n",
              "      <td>Yes</td>\n",
              "      <td>0.0</td>\n",
              "      <td>1-2 Miles</td>\n",
              "      <td>Europe</td>\n",
              "      <td>50.0</td>\n",
              "      <td>No</td>\n",
              "    </tr>\n",
              "  </tbody>\n",
              "</table>\n",
              "</div>\n",
              "    <div class=\"colab-df-buttons\">\n",
              "\n",
              "  <div class=\"colab-df-container\">\n",
              "    <button class=\"colab-df-convert\" onclick=\"convertToInteractive('df-3e160bc5-b952-4317-8bd4-59da2f2b2249')\"\n",
              "            title=\"Convert this dataframe to an interactive table.\"\n",
              "            style=\"display:none;\">\n",
              "\n",
              "  <svg xmlns=\"http://www.w3.org/2000/svg\" height=\"24px\" viewBox=\"0 -960 960 960\">\n",
              "    <path d=\"M120-120v-720h720v720H120Zm60-500h600v-160H180v160Zm220 220h160v-160H400v160Zm0 220h160v-160H400v160ZM180-400h160v-160H180v160Zm440 0h160v-160H620v160ZM180-180h160v-160H180v160Zm440 0h160v-160H620v160Z\"/>\n",
              "  </svg>\n",
              "    </button>\n",
              "\n",
              "  <style>\n",
              "    .colab-df-container {\n",
              "      display:flex;\n",
              "      gap: 12px;\n",
              "    }\n",
              "\n",
              "    .colab-df-convert {\n",
              "      background-color: #E8F0FE;\n",
              "      border: none;\n",
              "      border-radius: 50%;\n",
              "      cursor: pointer;\n",
              "      display: none;\n",
              "      fill: #1967D2;\n",
              "      height: 32px;\n",
              "      padding: 0 0 0 0;\n",
              "      width: 32px;\n",
              "    }\n",
              "\n",
              "    .colab-df-convert:hover {\n",
              "      background-color: #E2EBFA;\n",
              "      box-shadow: 0px 1px 2px rgba(60, 64, 67, 0.3), 0px 1px 3px 1px rgba(60, 64, 67, 0.15);\n",
              "      fill: #174EA6;\n",
              "    }\n",
              "\n",
              "    .colab-df-buttons div {\n",
              "      margin-bottom: 4px;\n",
              "    }\n",
              "\n",
              "    [theme=dark] .colab-df-convert {\n",
              "      background-color: #3B4455;\n",
              "      fill: #D2E3FC;\n",
              "    }\n",
              "\n",
              "    [theme=dark] .colab-df-convert:hover {\n",
              "      background-color: #434B5C;\n",
              "      box-shadow: 0px 1px 3px 1px rgba(0, 0, 0, 0.15);\n",
              "      filter: drop-shadow(0px 1px 2px rgba(0, 0, 0, 0.3));\n",
              "      fill: #FFFFFF;\n",
              "    }\n",
              "  </style>\n",
              "\n",
              "    <script>\n",
              "      const buttonEl =\n",
              "        document.querySelector('#df-3e160bc5-b952-4317-8bd4-59da2f2b2249 button.colab-df-convert');\n",
              "      buttonEl.style.display =\n",
              "        google.colab.kernel.accessAllowed ? 'block' : 'none';\n",
              "\n",
              "      async function convertToInteractive(key) {\n",
              "        const element = document.querySelector('#df-3e160bc5-b952-4317-8bd4-59da2f2b2249');\n",
              "        const dataTable =\n",
              "          await google.colab.kernel.invokeFunction('convertToInteractive',\n",
              "                                                    [key], {});\n",
              "        if (!dataTable) return;\n",
              "\n",
              "        const docLinkHtml = 'Like what you see? Visit the ' +\n",
              "          '<a target=\"_blank\" href=https://colab.research.google.com/notebooks/data_table.ipynb>data table notebook</a>'\n",
              "          + ' to learn more about interactive tables.';\n",
              "        element.innerHTML = '';\n",
              "        dataTable['output_type'] = 'display_data';\n",
              "        await google.colab.output.renderOutput(dataTable, element);\n",
              "        const docLink = document.createElement('div');\n",
              "        docLink.innerHTML = docLinkHtml;\n",
              "        element.appendChild(docLink);\n",
              "      }\n",
              "    </script>\n",
              "  </div>\n",
              "\n",
              "\n",
              "<div id=\"df-a22849b8-5d07-419d-9442-a6ef451e6635\">\n",
              "  <button class=\"colab-df-quickchart\" onclick=\"quickchart('df-a22849b8-5d07-419d-9442-a6ef451e6635')\"\n",
              "            title=\"Suggest charts\"\n",
              "            style=\"display:none;\">\n",
              "\n",
              "<svg xmlns=\"http://www.w3.org/2000/svg\" height=\"24px\"viewBox=\"0 0 24 24\"\n",
              "     width=\"24px\">\n",
              "    <g>\n",
              "        <path d=\"M19 3H5c-1.1 0-2 .9-2 2v14c0 1.1.9 2 2 2h14c1.1 0 2-.9 2-2V5c0-1.1-.9-2-2-2zM9 17H7v-7h2v7zm4 0h-2V7h2v10zm4 0h-2v-4h2v4z\"/>\n",
              "    </g>\n",
              "</svg>\n",
              "  </button>\n",
              "\n",
              "<style>\n",
              "  .colab-df-quickchart {\n",
              "      --bg-color: #E8F0FE;\n",
              "      --fill-color: #1967D2;\n",
              "      --hover-bg-color: #E2EBFA;\n",
              "      --hover-fill-color: #174EA6;\n",
              "      --disabled-fill-color: #AAA;\n",
              "      --disabled-bg-color: #DDD;\n",
              "  }\n",
              "\n",
              "  [theme=dark] .colab-df-quickchart {\n",
              "      --bg-color: #3B4455;\n",
              "      --fill-color: #D2E3FC;\n",
              "      --hover-bg-color: #434B5C;\n",
              "      --hover-fill-color: #FFFFFF;\n",
              "      --disabled-bg-color: #3B4455;\n",
              "      --disabled-fill-color: #666;\n",
              "  }\n",
              "\n",
              "  .colab-df-quickchart {\n",
              "    background-color: var(--bg-color);\n",
              "    border: none;\n",
              "    border-radius: 50%;\n",
              "    cursor: pointer;\n",
              "    display: none;\n",
              "    fill: var(--fill-color);\n",
              "    height: 32px;\n",
              "    padding: 0;\n",
              "    width: 32px;\n",
              "  }\n",
              "\n",
              "  .colab-df-quickchart:hover {\n",
              "    background-color: var(--hover-bg-color);\n",
              "    box-shadow: 0 1px 2px rgba(60, 64, 67, 0.3), 0 1px 3px 1px rgba(60, 64, 67, 0.15);\n",
              "    fill: var(--button-hover-fill-color);\n",
              "  }\n",
              "\n",
              "  .colab-df-quickchart-complete:disabled,\n",
              "  .colab-df-quickchart-complete:disabled:hover {\n",
              "    background-color: var(--disabled-bg-color);\n",
              "    fill: var(--disabled-fill-color);\n",
              "    box-shadow: none;\n",
              "  }\n",
              "\n",
              "  .colab-df-spinner {\n",
              "    border: 2px solid var(--fill-color);\n",
              "    border-color: transparent;\n",
              "    border-bottom-color: var(--fill-color);\n",
              "    animation:\n",
              "      spin 1s steps(1) infinite;\n",
              "  }\n",
              "\n",
              "  @keyframes spin {\n",
              "    0% {\n",
              "      border-color: transparent;\n",
              "      border-bottom-color: var(--fill-color);\n",
              "      border-left-color: var(--fill-color);\n",
              "    }\n",
              "    20% {\n",
              "      border-color: transparent;\n",
              "      border-left-color: var(--fill-color);\n",
              "      border-top-color: var(--fill-color);\n",
              "    }\n",
              "    30% {\n",
              "      border-color: transparent;\n",
              "      border-left-color: var(--fill-color);\n",
              "      border-top-color: var(--fill-color);\n",
              "      border-right-color: var(--fill-color);\n",
              "    }\n",
              "    40% {\n",
              "      border-color: transparent;\n",
              "      border-right-color: var(--fill-color);\n",
              "      border-top-color: var(--fill-color);\n",
              "    }\n",
              "    60% {\n",
              "      border-color: transparent;\n",
              "      border-right-color: var(--fill-color);\n",
              "    }\n",
              "    80% {\n",
              "      border-color: transparent;\n",
              "      border-right-color: var(--fill-color);\n",
              "      border-bottom-color: var(--fill-color);\n",
              "    }\n",
              "    90% {\n",
              "      border-color: transparent;\n",
              "      border-bottom-color: var(--fill-color);\n",
              "    }\n",
              "  }\n",
              "</style>\n",
              "\n",
              "  <script>\n",
              "    async function quickchart(key) {\n",
              "      const quickchartButtonEl =\n",
              "        document.querySelector('#' + key + ' button');\n",
              "      quickchartButtonEl.disabled = true;  // To prevent multiple clicks.\n",
              "      quickchartButtonEl.classList.add('colab-df-spinner');\n",
              "      try {\n",
              "        const charts = await google.colab.kernel.invokeFunction(\n",
              "            'suggestCharts', [key], {});\n",
              "      } catch (error) {\n",
              "        console.error('Error during call to suggestCharts:', error);\n",
              "      }\n",
              "      quickchartButtonEl.classList.remove('colab-df-spinner');\n",
              "      quickchartButtonEl.classList.add('colab-df-quickchart-complete');\n",
              "    }\n",
              "    (() => {\n",
              "      let quickchartButtonEl =\n",
              "        document.querySelector('#df-a22849b8-5d07-419d-9442-a6ef451e6635 button');\n",
              "      quickchartButtonEl.style.display =\n",
              "        google.colab.kernel.accessAllowed ? 'block' : 'none';\n",
              "    })();\n",
              "  </script>\n",
              "</div>\n",
              "\n",
              "    </div>\n",
              "  </div>\n"
            ],
            "application/vnd.google.colaboratory.intrinsic+json": {
              "type": "dataframe",
              "variable_name": "df",
              "summary": "{\n  \"name\": \"df\",\n  \"rows\": 952,\n  \"fields\": [\n    {\n      \"column\": \"ID\",\n      \"properties\": {\n        \"dtype\": \"number\",\n        \"std\": 5334,\n        \"min\": 11000,\n        \"max\": 29447,\n        \"num_unique_values\": 952,\n        \"samples\": [\n          25553,\n          25307,\n          22220\n        ],\n        \"semantic_type\": \"\",\n        \"description\": \"\"\n      }\n    },\n    {\n      \"column\": \"Marital Status\",\n      \"properties\": {\n        \"dtype\": \"category\",\n        \"num_unique_values\": 2,\n        \"samples\": [\n          \"Single\",\n          \"Married\"\n        ],\n        \"semantic_type\": \"\",\n        \"description\": \"\"\n      }\n    },\n    {\n      \"column\": \"Gender\",\n      \"properties\": {\n        \"dtype\": \"category\",\n        \"num_unique_values\": 2,\n        \"samples\": [\n          \"Male\",\n          \"Female\"\n        ],\n        \"semantic_type\": \"\",\n        \"description\": \"\"\n      }\n    },\n    {\n      \"column\": \"Income\",\n      \"properties\": {\n        \"dtype\": \"number\",\n        \"std\": 30845.483596475155,\n        \"min\": 10000.0,\n        \"max\": 170000.0,\n        \"num_unique_values\": 16,\n        \"samples\": [\n          40000.0,\n          30000.0\n        ],\n        \"semantic_type\": \"\",\n        \"description\": \"\"\n      }\n    },\n    {\n      \"column\": \"Children\",\n      \"properties\": {\n        \"dtype\": \"number\",\n        \"std\": 1.6204258104557008,\n        \"min\": 0.0,\n        \"max\": 5.0,\n        \"num_unique_values\": 6,\n        \"samples\": [\n          1.0,\n          3.0\n        ],\n        \"semantic_type\": \"\",\n        \"description\": \"\"\n      }\n    },\n    {\n      \"column\": \"Education\",\n      \"properties\": {\n        \"dtype\": \"category\",\n        \"num_unique_values\": 5,\n        \"samples\": [\n          \"Partial College\",\n          \"Graduate Degree\"\n        ],\n        \"semantic_type\": \"\",\n        \"description\": \"\"\n      }\n    },\n    {\n      \"column\": \"Occupation\",\n      \"properties\": {\n        \"dtype\": \"category\",\n        \"num_unique_values\": 5,\n        \"samples\": [\n          \"Clerical\",\n          \"Management\"\n        ],\n        \"semantic_type\": \"\",\n        \"description\": \"\"\n      }\n    },\n    {\n      \"column\": \"Home Owner\",\n      \"properties\": {\n        \"dtype\": \"category\",\n        \"num_unique_values\": 2,\n        \"samples\": [\n          \"No\",\n          \"Yes\"\n        ],\n        \"semantic_type\": \"\",\n        \"description\": \"\"\n      }\n    },\n    {\n      \"column\": \"Cars\",\n      \"properties\": {\n        \"dtype\": \"number\",\n        \"std\": 1.1119619643956027,\n        \"min\": 0.0,\n        \"max\": 4.0,\n        \"num_unique_values\": 5,\n        \"samples\": [\n          1.0,\n          3.0\n        ],\n        \"semantic_type\": \"\",\n        \"description\": \"\"\n      }\n    },\n    {\n      \"column\": \"Commute Distance\",\n      \"properties\": {\n        \"dtype\": \"category\",\n        \"num_unique_values\": 5,\n        \"samples\": [\n          \"2-5 Miles\",\n          \"5-10 Miles\"\n        ],\n        \"semantic_type\": \"\",\n        \"description\": \"\"\n      }\n    },\n    {\n      \"column\": \"Region\",\n      \"properties\": {\n        \"dtype\": \"category\",\n        \"num_unique_values\": 3,\n        \"samples\": [\n          \"Europe\",\n          \"Pacific\"\n        ],\n        \"semantic_type\": \"\",\n        \"description\": \"\"\n      }\n    },\n    {\n      \"column\": \"Age\",\n      \"properties\": {\n        \"dtype\": \"number\",\n        \"std\": 11.428167379686121,\n        \"min\": 25.0,\n        \"max\": 89.0,\n        \"num_unique_values\": 52,\n        \"samples\": [\n          31.0,\n          67.0\n        ],\n        \"semantic_type\": \"\",\n        \"description\": \"\"\n      }\n    },\n    {\n      \"column\": \"Purchased Bike\",\n      \"properties\": {\n        \"dtype\": \"category\",\n        \"num_unique_values\": 2,\n        \"samples\": [\n          \"Yes\",\n          \"No\"\n        ],\n        \"semantic_type\": \"\",\n        \"description\": \"\"\n      }\n    }\n  ]\n}"
            }
          },
          "metadata": {},
          "execution_count": 30
        }
      ],
      "source": [
        "df.head()"
      ]
    },
    {
      "cell_type": "markdown",
      "id": "d4f85b8b-880a-47e2-8a1c-0d64e10f82df",
      "metadata": {
        "id": "d4f85b8b-880a-47e2-8a1c-0d64e10f82df"
      },
      "source": [
        "### **Cambio de tipo de dato**\n"
      ]
    },
    {
      "cell_type": "code",
      "execution_count": 36,
      "id": "9ef72e1c-48b8-47e6-aa2e-c94e18679a70",
      "metadata": {
        "id": "9ef72e1c-48b8-47e6-aa2e-c94e18679a70"
      },
      "outputs": [],
      "source": [
        "df.Children = df.Children.astype('int')"
      ]
    },
    {
      "cell_type": "code",
      "execution_count": 33,
      "id": "cdc431e1-b241-4d66-914f-dad3cbbf25ca",
      "metadata": {
        "colab": {
          "base_uri": "https://localhost:8080/",
          "height": 206
        },
        "id": "cdc431e1-b241-4d66-914f-dad3cbbf25ca",
        "outputId": "c581ed82-7306-4ab0-979b-c19a7b6d10f4"
      },
      "outputs": [
        {
          "output_type": "execute_result",
          "data": {
            "text/plain": [
              "      ID Marital Status  Gender   Income  Children        Education  \\\n",
              "0  12496        Married  Female  40000.0         1        Bachelors   \n",
              "1  24107        Married    Male  30000.0         3  Partial College   \n",
              "2  14177        Married    Male  80000.0         5  Partial College   \n",
              "4  25597         Single    Male  30000.0         0        Bachelors   \n",
              "5  13507        Married  Female  10000.0         2  Partial College   \n",
              "\n",
              "       Occupation Home Owner  Cars Commute Distance  Region   Age  \\\n",
              "0  Skilled Manual        Yes   0.0        0-1 Miles  Europe  42.0   \n",
              "1        Clerical        Yes   1.0        0-1 Miles  Europe  43.0   \n",
              "2    Professional         No   2.0        2-5 Miles  Europe  60.0   \n",
              "4        Clerical         No   0.0        0-1 Miles  Europe  36.0   \n",
              "5          Manual        Yes   0.0        1-2 Miles  Europe  50.0   \n",
              "\n",
              "  Purchased Bike  \n",
              "0             No  \n",
              "1             No  \n",
              "2             No  \n",
              "4            Yes  \n",
              "5             No  "
            ],
            "text/html": [
              "\n",
              "  <div id=\"df-2f5ff1f9-efe3-446a-9510-e7c6b7d707d1\" class=\"colab-df-container\">\n",
              "    <div>\n",
              "<style scoped>\n",
              "    .dataframe tbody tr th:only-of-type {\n",
              "        vertical-align: middle;\n",
              "    }\n",
              "\n",
              "    .dataframe tbody tr th {\n",
              "        vertical-align: top;\n",
              "    }\n",
              "\n",
              "    .dataframe thead th {\n",
              "        text-align: right;\n",
              "    }\n",
              "</style>\n",
              "<table border=\"1\" class=\"dataframe\">\n",
              "  <thead>\n",
              "    <tr style=\"text-align: right;\">\n",
              "      <th></th>\n",
              "      <th>ID</th>\n",
              "      <th>Marital Status</th>\n",
              "      <th>Gender</th>\n",
              "      <th>Income</th>\n",
              "      <th>Children</th>\n",
              "      <th>Education</th>\n",
              "      <th>Occupation</th>\n",
              "      <th>Home Owner</th>\n",
              "      <th>Cars</th>\n",
              "      <th>Commute Distance</th>\n",
              "      <th>Region</th>\n",
              "      <th>Age</th>\n",
              "      <th>Purchased Bike</th>\n",
              "    </tr>\n",
              "  </thead>\n",
              "  <tbody>\n",
              "    <tr>\n",
              "      <th>0</th>\n",
              "      <td>12496</td>\n",
              "      <td>Married</td>\n",
              "      <td>Female</td>\n",
              "      <td>40000.0</td>\n",
              "      <td>1</td>\n",
              "      <td>Bachelors</td>\n",
              "      <td>Skilled Manual</td>\n",
              "      <td>Yes</td>\n",
              "      <td>0.0</td>\n",
              "      <td>0-1 Miles</td>\n",
              "      <td>Europe</td>\n",
              "      <td>42.0</td>\n",
              "      <td>No</td>\n",
              "    </tr>\n",
              "    <tr>\n",
              "      <th>1</th>\n",
              "      <td>24107</td>\n",
              "      <td>Married</td>\n",
              "      <td>Male</td>\n",
              "      <td>30000.0</td>\n",
              "      <td>3</td>\n",
              "      <td>Partial College</td>\n",
              "      <td>Clerical</td>\n",
              "      <td>Yes</td>\n",
              "      <td>1.0</td>\n",
              "      <td>0-1 Miles</td>\n",
              "      <td>Europe</td>\n",
              "      <td>43.0</td>\n",
              "      <td>No</td>\n",
              "    </tr>\n",
              "    <tr>\n",
              "      <th>2</th>\n",
              "      <td>14177</td>\n",
              "      <td>Married</td>\n",
              "      <td>Male</td>\n",
              "      <td>80000.0</td>\n",
              "      <td>5</td>\n",
              "      <td>Partial College</td>\n",
              "      <td>Professional</td>\n",
              "      <td>No</td>\n",
              "      <td>2.0</td>\n",
              "      <td>2-5 Miles</td>\n",
              "      <td>Europe</td>\n",
              "      <td>60.0</td>\n",
              "      <td>No</td>\n",
              "    </tr>\n",
              "    <tr>\n",
              "      <th>4</th>\n",
              "      <td>25597</td>\n",
              "      <td>Single</td>\n",
              "      <td>Male</td>\n",
              "      <td>30000.0</td>\n",
              "      <td>0</td>\n",
              "      <td>Bachelors</td>\n",
              "      <td>Clerical</td>\n",
              "      <td>No</td>\n",
              "      <td>0.0</td>\n",
              "      <td>0-1 Miles</td>\n",
              "      <td>Europe</td>\n",
              "      <td>36.0</td>\n",
              "      <td>Yes</td>\n",
              "    </tr>\n",
              "    <tr>\n",
              "      <th>5</th>\n",
              "      <td>13507</td>\n",
              "      <td>Married</td>\n",
              "      <td>Female</td>\n",
              "      <td>10000.0</td>\n",
              "      <td>2</td>\n",
              "      <td>Partial College</td>\n",
              "      <td>Manual</td>\n",
              "      <td>Yes</td>\n",
              "      <td>0.0</td>\n",
              "      <td>1-2 Miles</td>\n",
              "      <td>Europe</td>\n",
              "      <td>50.0</td>\n",
              "      <td>No</td>\n",
              "    </tr>\n",
              "  </tbody>\n",
              "</table>\n",
              "</div>\n",
              "    <div class=\"colab-df-buttons\">\n",
              "\n",
              "  <div class=\"colab-df-container\">\n",
              "    <button class=\"colab-df-convert\" onclick=\"convertToInteractive('df-2f5ff1f9-efe3-446a-9510-e7c6b7d707d1')\"\n",
              "            title=\"Convert this dataframe to an interactive table.\"\n",
              "            style=\"display:none;\">\n",
              "\n",
              "  <svg xmlns=\"http://www.w3.org/2000/svg\" height=\"24px\" viewBox=\"0 -960 960 960\">\n",
              "    <path d=\"M120-120v-720h720v720H120Zm60-500h600v-160H180v160Zm220 220h160v-160H400v160Zm0 220h160v-160H400v160ZM180-400h160v-160H180v160Zm440 0h160v-160H620v160ZM180-180h160v-160H180v160Zm440 0h160v-160H620v160Z\"/>\n",
              "  </svg>\n",
              "    </button>\n",
              "\n",
              "  <style>\n",
              "    .colab-df-container {\n",
              "      display:flex;\n",
              "      gap: 12px;\n",
              "    }\n",
              "\n",
              "    .colab-df-convert {\n",
              "      background-color: #E8F0FE;\n",
              "      border: none;\n",
              "      border-radius: 50%;\n",
              "      cursor: pointer;\n",
              "      display: none;\n",
              "      fill: #1967D2;\n",
              "      height: 32px;\n",
              "      padding: 0 0 0 0;\n",
              "      width: 32px;\n",
              "    }\n",
              "\n",
              "    .colab-df-convert:hover {\n",
              "      background-color: #E2EBFA;\n",
              "      box-shadow: 0px 1px 2px rgba(60, 64, 67, 0.3), 0px 1px 3px 1px rgba(60, 64, 67, 0.15);\n",
              "      fill: #174EA6;\n",
              "    }\n",
              "\n",
              "    .colab-df-buttons div {\n",
              "      margin-bottom: 4px;\n",
              "    }\n",
              "\n",
              "    [theme=dark] .colab-df-convert {\n",
              "      background-color: #3B4455;\n",
              "      fill: #D2E3FC;\n",
              "    }\n",
              "\n",
              "    [theme=dark] .colab-df-convert:hover {\n",
              "      background-color: #434B5C;\n",
              "      box-shadow: 0px 1px 3px 1px rgba(0, 0, 0, 0.15);\n",
              "      filter: drop-shadow(0px 1px 2px rgba(0, 0, 0, 0.3));\n",
              "      fill: #FFFFFF;\n",
              "    }\n",
              "  </style>\n",
              "\n",
              "    <script>\n",
              "      const buttonEl =\n",
              "        document.querySelector('#df-2f5ff1f9-efe3-446a-9510-e7c6b7d707d1 button.colab-df-convert');\n",
              "      buttonEl.style.display =\n",
              "        google.colab.kernel.accessAllowed ? 'block' : 'none';\n",
              "\n",
              "      async function convertToInteractive(key) {\n",
              "        const element = document.querySelector('#df-2f5ff1f9-efe3-446a-9510-e7c6b7d707d1');\n",
              "        const dataTable =\n",
              "          await google.colab.kernel.invokeFunction('convertToInteractive',\n",
              "                                                    [key], {});\n",
              "        if (!dataTable) return;\n",
              "\n",
              "        const docLinkHtml = 'Like what you see? Visit the ' +\n",
              "          '<a target=\"_blank\" href=https://colab.research.google.com/notebooks/data_table.ipynb>data table notebook</a>'\n",
              "          + ' to learn more about interactive tables.';\n",
              "        element.innerHTML = '';\n",
              "        dataTable['output_type'] = 'display_data';\n",
              "        await google.colab.output.renderOutput(dataTable, element);\n",
              "        const docLink = document.createElement('div');\n",
              "        docLink.innerHTML = docLinkHtml;\n",
              "        element.appendChild(docLink);\n",
              "      }\n",
              "    </script>\n",
              "  </div>\n",
              "\n",
              "\n",
              "<div id=\"df-9dbde6aa-db6f-4967-80db-b74c8b106731\">\n",
              "  <button class=\"colab-df-quickchart\" onclick=\"quickchart('df-9dbde6aa-db6f-4967-80db-b74c8b106731')\"\n",
              "            title=\"Suggest charts\"\n",
              "            style=\"display:none;\">\n",
              "\n",
              "<svg xmlns=\"http://www.w3.org/2000/svg\" height=\"24px\"viewBox=\"0 0 24 24\"\n",
              "     width=\"24px\">\n",
              "    <g>\n",
              "        <path d=\"M19 3H5c-1.1 0-2 .9-2 2v14c0 1.1.9 2 2 2h14c1.1 0 2-.9 2-2V5c0-1.1-.9-2-2-2zM9 17H7v-7h2v7zm4 0h-2V7h2v10zm4 0h-2v-4h2v4z\"/>\n",
              "    </g>\n",
              "</svg>\n",
              "  </button>\n",
              "\n",
              "<style>\n",
              "  .colab-df-quickchart {\n",
              "      --bg-color: #E8F0FE;\n",
              "      --fill-color: #1967D2;\n",
              "      --hover-bg-color: #E2EBFA;\n",
              "      --hover-fill-color: #174EA6;\n",
              "      --disabled-fill-color: #AAA;\n",
              "      --disabled-bg-color: #DDD;\n",
              "  }\n",
              "\n",
              "  [theme=dark] .colab-df-quickchart {\n",
              "      --bg-color: #3B4455;\n",
              "      --fill-color: #D2E3FC;\n",
              "      --hover-bg-color: #434B5C;\n",
              "      --hover-fill-color: #FFFFFF;\n",
              "      --disabled-bg-color: #3B4455;\n",
              "      --disabled-fill-color: #666;\n",
              "  }\n",
              "\n",
              "  .colab-df-quickchart {\n",
              "    background-color: var(--bg-color);\n",
              "    border: none;\n",
              "    border-radius: 50%;\n",
              "    cursor: pointer;\n",
              "    display: none;\n",
              "    fill: var(--fill-color);\n",
              "    height: 32px;\n",
              "    padding: 0;\n",
              "    width: 32px;\n",
              "  }\n",
              "\n",
              "  .colab-df-quickchart:hover {\n",
              "    background-color: var(--hover-bg-color);\n",
              "    box-shadow: 0 1px 2px rgba(60, 64, 67, 0.3), 0 1px 3px 1px rgba(60, 64, 67, 0.15);\n",
              "    fill: var(--button-hover-fill-color);\n",
              "  }\n",
              "\n",
              "  .colab-df-quickchart-complete:disabled,\n",
              "  .colab-df-quickchart-complete:disabled:hover {\n",
              "    background-color: var(--disabled-bg-color);\n",
              "    fill: var(--disabled-fill-color);\n",
              "    box-shadow: none;\n",
              "  }\n",
              "\n",
              "  .colab-df-spinner {\n",
              "    border: 2px solid var(--fill-color);\n",
              "    border-color: transparent;\n",
              "    border-bottom-color: var(--fill-color);\n",
              "    animation:\n",
              "      spin 1s steps(1) infinite;\n",
              "  }\n",
              "\n",
              "  @keyframes spin {\n",
              "    0% {\n",
              "      border-color: transparent;\n",
              "      border-bottom-color: var(--fill-color);\n",
              "      border-left-color: var(--fill-color);\n",
              "    }\n",
              "    20% {\n",
              "      border-color: transparent;\n",
              "      border-left-color: var(--fill-color);\n",
              "      border-top-color: var(--fill-color);\n",
              "    }\n",
              "    30% {\n",
              "      border-color: transparent;\n",
              "      border-left-color: var(--fill-color);\n",
              "      border-top-color: var(--fill-color);\n",
              "      border-right-color: var(--fill-color);\n",
              "    }\n",
              "    40% {\n",
              "      border-color: transparent;\n",
              "      border-right-color: var(--fill-color);\n",
              "      border-top-color: var(--fill-color);\n",
              "    }\n",
              "    60% {\n",
              "      border-color: transparent;\n",
              "      border-right-color: var(--fill-color);\n",
              "    }\n",
              "    80% {\n",
              "      border-color: transparent;\n",
              "      border-right-color: var(--fill-color);\n",
              "      border-bottom-color: var(--fill-color);\n",
              "    }\n",
              "    90% {\n",
              "      border-color: transparent;\n",
              "      border-bottom-color: var(--fill-color);\n",
              "    }\n",
              "  }\n",
              "</style>\n",
              "\n",
              "  <script>\n",
              "    async function quickchart(key) {\n",
              "      const quickchartButtonEl =\n",
              "        document.querySelector('#' + key + ' button');\n",
              "      quickchartButtonEl.disabled = true;  // To prevent multiple clicks.\n",
              "      quickchartButtonEl.classList.add('colab-df-spinner');\n",
              "      try {\n",
              "        const charts = await google.colab.kernel.invokeFunction(\n",
              "            'suggestCharts', [key], {});\n",
              "      } catch (error) {\n",
              "        console.error('Error during call to suggestCharts:', error);\n",
              "      }\n",
              "      quickchartButtonEl.classList.remove('colab-df-spinner');\n",
              "      quickchartButtonEl.classList.add('colab-df-quickchart-complete');\n",
              "    }\n",
              "    (() => {\n",
              "      let quickchartButtonEl =\n",
              "        document.querySelector('#df-9dbde6aa-db6f-4967-80db-b74c8b106731 button');\n",
              "      quickchartButtonEl.style.display =\n",
              "        google.colab.kernel.accessAllowed ? 'block' : 'none';\n",
              "    })();\n",
              "  </script>\n",
              "</div>\n",
              "\n",
              "    </div>\n",
              "  </div>\n"
            ],
            "application/vnd.google.colaboratory.intrinsic+json": {
              "type": "dataframe",
              "variable_name": "df",
              "summary": "{\n  \"name\": \"df\",\n  \"rows\": 952,\n  \"fields\": [\n    {\n      \"column\": \"ID\",\n      \"properties\": {\n        \"dtype\": \"number\",\n        \"std\": 5334,\n        \"min\": 11000,\n        \"max\": 29447,\n        \"num_unique_values\": 952,\n        \"samples\": [\n          25553,\n          25307,\n          22220\n        ],\n        \"semantic_type\": \"\",\n        \"description\": \"\"\n      }\n    },\n    {\n      \"column\": \"Marital Status\",\n      \"properties\": {\n        \"dtype\": \"category\",\n        \"num_unique_values\": 2,\n        \"samples\": [\n          \"Single\",\n          \"Married\"\n        ],\n        \"semantic_type\": \"\",\n        \"description\": \"\"\n      }\n    },\n    {\n      \"column\": \"Gender\",\n      \"properties\": {\n        \"dtype\": \"category\",\n        \"num_unique_values\": 2,\n        \"samples\": [\n          \"Male\",\n          \"Female\"\n        ],\n        \"semantic_type\": \"\",\n        \"description\": \"\"\n      }\n    },\n    {\n      \"column\": \"Income\",\n      \"properties\": {\n        \"dtype\": \"number\",\n        \"std\": 30845.483596475155,\n        \"min\": 10000.0,\n        \"max\": 170000.0,\n        \"num_unique_values\": 16,\n        \"samples\": [\n          40000.0,\n          30000.0\n        ],\n        \"semantic_type\": \"\",\n        \"description\": \"\"\n      }\n    },\n    {\n      \"column\": \"Children\",\n      \"properties\": {\n        \"dtype\": \"number\",\n        \"std\": 1,\n        \"min\": 0,\n        \"max\": 5,\n        \"num_unique_values\": 6,\n        \"samples\": [\n          1,\n          3\n        ],\n        \"semantic_type\": \"\",\n        \"description\": \"\"\n      }\n    },\n    {\n      \"column\": \"Education\",\n      \"properties\": {\n        \"dtype\": \"category\",\n        \"num_unique_values\": 5,\n        \"samples\": [\n          \"Partial College\",\n          \"Graduate Degree\"\n        ],\n        \"semantic_type\": \"\",\n        \"description\": \"\"\n      }\n    },\n    {\n      \"column\": \"Occupation\",\n      \"properties\": {\n        \"dtype\": \"category\",\n        \"num_unique_values\": 5,\n        \"samples\": [\n          \"Clerical\",\n          \"Management\"\n        ],\n        \"semantic_type\": \"\",\n        \"description\": \"\"\n      }\n    },\n    {\n      \"column\": \"Home Owner\",\n      \"properties\": {\n        \"dtype\": \"category\",\n        \"num_unique_values\": 2,\n        \"samples\": [\n          \"No\",\n          \"Yes\"\n        ],\n        \"semantic_type\": \"\",\n        \"description\": \"\"\n      }\n    },\n    {\n      \"column\": \"Cars\",\n      \"properties\": {\n        \"dtype\": \"number\",\n        \"std\": 1.1119619643956027,\n        \"min\": 0.0,\n        \"max\": 4.0,\n        \"num_unique_values\": 5,\n        \"samples\": [\n          1.0,\n          3.0\n        ],\n        \"semantic_type\": \"\",\n        \"description\": \"\"\n      }\n    },\n    {\n      \"column\": \"Commute Distance\",\n      \"properties\": {\n        \"dtype\": \"category\",\n        \"num_unique_values\": 5,\n        \"samples\": [\n          \"2-5 Miles\",\n          \"5-10 Miles\"\n        ],\n        \"semantic_type\": \"\",\n        \"description\": \"\"\n      }\n    },\n    {\n      \"column\": \"Region\",\n      \"properties\": {\n        \"dtype\": \"category\",\n        \"num_unique_values\": 3,\n        \"samples\": [\n          \"Europe\",\n          \"Pacific\"\n        ],\n        \"semantic_type\": \"\",\n        \"description\": \"\"\n      }\n    },\n    {\n      \"column\": \"Age\",\n      \"properties\": {\n        \"dtype\": \"number\",\n        \"std\": 11.428167379686121,\n        \"min\": 25.0,\n        \"max\": 89.0,\n        \"num_unique_values\": 52,\n        \"samples\": [\n          31.0,\n          67.0\n        ],\n        \"semantic_type\": \"\",\n        \"description\": \"\"\n      }\n    },\n    {\n      \"column\": \"Purchased Bike\",\n      \"properties\": {\n        \"dtype\": \"category\",\n        \"num_unique_values\": 2,\n        \"samples\": [\n          \"Yes\",\n          \"No\"\n        ],\n        \"semantic_type\": \"\",\n        \"description\": \"\"\n      }\n    }\n  ]\n}"
            }
          },
          "metadata": {},
          "execution_count": 33
        }
      ],
      "source": [
        "#head()\n",
        "df.head()"
      ]
    },
    {
      "cell_type": "markdown",
      "id": "21fa2ff5-435a-4518-bcd6-1bad5f4d7847",
      "metadata": {
        "id": "21fa2ff5-435a-4518-bcd6-1bad5f4d7847"
      },
      "source": [
        "**Multiples columnas**"
      ]
    },
    {
      "cell_type": "code",
      "execution_count": 34,
      "id": "ebb96d27-22ae-40ab-8009-26c737798348",
      "metadata": {
        "colab": {
          "base_uri": "https://localhost:8080/",
          "height": 267
        },
        "id": "ebb96d27-22ae-40ab-8009-26c737798348",
        "outputId": "f34f5296-e45e-4520-e92e-4f3eea754910"
      },
      "outputs": [
        {
          "output_type": "error",
          "ename": "KeyError",
          "evalue": "\"Only a column name can be used for the key in a dtype mappings argument. '' not found in columns.\"",
          "traceback": [
            "\u001b[0;31m---------------------------------------------------------------------------\u001b[0m",
            "\u001b[0;31mKeyError\u001b[0m                                  Traceback (most recent call last)",
            "\u001b[0;32m<ipython-input-34-b00e34340c7e>\u001b[0m in \u001b[0;36m<cell line: 1>\u001b[0;34m()\u001b[0m\n\u001b[0;32m----> 1\u001b[0;31m \u001b[0mdf\u001b[0m \u001b[0;34m=\u001b[0m \u001b[0mdf\u001b[0m\u001b[0;34m.\u001b[0m\u001b[0mastype\u001b[0m\u001b[0;34m(\u001b[0m\u001b[0;34m{\u001b[0m\u001b[0;34m''\u001b[0m\u001b[0;34m:\u001b[0m \u001b[0;34m'int32'\u001b[0m\u001b[0;34m,\u001b[0m \u001b[0;34m''\u001b[0m\u001b[0;34m:\u001b[0m \u001b[0;34m'float64'\u001b[0m\u001b[0;34m}\u001b[0m\u001b[0;34m)\u001b[0m\u001b[0;34m\u001b[0m\u001b[0;34m\u001b[0m\u001b[0m\n\u001b[0m",
            "\u001b[0;32m/usr/local/lib/python3.10/dist-packages/pandas/core/generic.py\u001b[0m in \u001b[0;36mastype\u001b[0;34m(self, dtype, copy, errors)\u001b[0m\n\u001b[1;32m   6496\u001b[0m             \u001b[0;32mfor\u001b[0m \u001b[0mcol_name\u001b[0m \u001b[0;32min\u001b[0m \u001b[0mdtype_ser\u001b[0m\u001b[0;34m.\u001b[0m\u001b[0mindex\u001b[0m\u001b[0;34m:\u001b[0m\u001b[0;34m\u001b[0m\u001b[0;34m\u001b[0m\u001b[0m\n\u001b[1;32m   6497\u001b[0m                 \u001b[0;32mif\u001b[0m \u001b[0mcol_name\u001b[0m \u001b[0;32mnot\u001b[0m \u001b[0;32min\u001b[0m \u001b[0mself\u001b[0m\u001b[0;34m:\u001b[0m\u001b[0;34m\u001b[0m\u001b[0;34m\u001b[0m\u001b[0m\n\u001b[0;32m-> 6498\u001b[0;31m                     raise KeyError(\n\u001b[0m\u001b[1;32m   6499\u001b[0m                         \u001b[0;34m\"Only a column name can be used for the \"\u001b[0m\u001b[0;34m\u001b[0m\u001b[0;34m\u001b[0m\u001b[0m\n\u001b[1;32m   6500\u001b[0m                         \u001b[0;34m\"key in a dtype mappings argument. \"\u001b[0m\u001b[0;34m\u001b[0m\u001b[0;34m\u001b[0m\u001b[0m\n",
            "\u001b[0;31mKeyError\u001b[0m: \"Only a column name can be used for the key in a dtype mappings argument. '' not found in columns.\""
          ]
        }
      ],
      "source": [
        "# df = df.astype({'columna_A': 'int32', 'columna_B': 'float64'})"
      ]
    },
    {
      "cell_type": "code",
      "execution_count": null,
      "id": "76b87338-f720-4f12-942f-d3e20cd78494",
      "metadata": {
        "id": "76b87338-f720-4f12-942f-d3e20cd78494"
      },
      "outputs": [],
      "source": [
        "# head()\n"
      ]
    },
    {
      "cell_type": "markdown",
      "id": "02dc6e33-cf7f-4710-9e84-8266d781c918",
      "metadata": {
        "id": "02dc6e33-cf7f-4710-9e84-8266d781c918"
      },
      "source": [
        "**Otros casos**\n",
        "\n",
        "En algunas ocasiones, la columa puede tener un dato erroneo o mal capturado.\n",
        "Imaginemos que tenemos la siguiente lista:\n",
        "\n",
        "```Age = [24.0, 25.0. 'treinta', 30.0]```\n",
        "\n",
        "Al aplicar la función, python detectara un error debido a que 'treinta' no es un valor que se pueda convertir directamente a entero.\n",
        "\n",
        "En esos casos podemos aplicar lo siguiente:\n"
      ]
    },
    {
      "cell_type": "code",
      "execution_count": 35,
      "id": "fc4fb2b1-6783-4290-8f7b-6d51e5350ae0",
      "metadata": {
        "colab": {
          "base_uri": "https://localhost:8080/"
        },
        "id": "fc4fb2b1-6783-4290-8f7b-6d51e5350ae0",
        "outputId": "b8bb3ae6-c957-4aed-e835-eff033687603"
      },
      "outputs": [
        {
          "output_type": "stream",
          "name": "stdout",
          "text": [
            "0    24\n",
            "1    25\n",
            "2     0\n",
            "3    30\n",
            "dtype: int64\n"
          ]
        }
      ],
      "source": [
        "Age = [24.0, 25.0, 'treinta', 30.0]\n",
        "Age = pd.Series(Age) # por temas de ejecución de la función pd._to_numeric\n",
        "\n",
        "Age = pd.to_numeric(Age, errors='coerce').fillna(0).astype(int)\n",
        "\n",
        "print(Age)"
      ]
    },
    {
      "cell_type": "markdown",
      "id": "49081791-b66b-487a-839e-0697448268aa",
      "metadata": {
        "id": "49081791-b66b-487a-839e-0697448268aa"
      },
      "source": [
        "```to_numeric``` es una función de **inferencia**, la cual determina el mejor tipo númerico para los datos a analizar.\n",
        "\n",
        "En este caso **coerce** pide forzar una conversión a otro tipo de dato que permita continuar con el proceso, de esta forma \"treinta\" se convierte en NaN (Not a number), luego aplicamos ```fillna(0)``` y esos valores son ahora igual a 0.\n"
      ]
    },
    {
      "cell_type": "markdown",
      "id": "8a64df4b-996c-4bb0-9df0-b40339a1c2c6",
      "metadata": {
        "id": "8a64df4b-996c-4bb0-9df0-b40339a1c2c6"
      },
      "source": [
        "### **Categorías no utilizadas**\n",
        "\n",
        "Relevante al momento de realizar modelos de machine learning.\n",
        "\n",
        "En estos casos, utilizaremos ```value_counts()```, despues trabajaremos con funciones que lo hagan más rápido:"
      ]
    },
    {
      "cell_type": "code",
      "execution_count": 43,
      "id": "7430f444-8a28-4662-b1e8-18e72a1ec469",
      "metadata": {
        "colab": {
          "base_uri": "https://localhost:8080/"
        },
        "id": "7430f444-8a28-4662-b1e8-18e72a1ec469",
        "outputId": "0d58dde4-39df-476a-b895-31fb50793d37"
      },
      "outputs": [
        {
          "output_type": "execute_result",
          "data": {
            "text/plain": [
              "(952, 13)"
            ]
          },
          "metadata": {},
          "execution_count": 43
        }
      ],
      "source": [
        "# head()\n",
        "df.shape\n",
        "#df.head()"
      ]
    },
    {
      "cell_type": "code",
      "execution_count": 38,
      "id": "f2a2b55c-2f30-45ca-a4e2-6656947ebeeb",
      "metadata": {
        "colab": {
          "base_uri": "https://localhost:8080/",
          "height": 178
        },
        "id": "f2a2b55c-2f30-45ca-a4e2-6656947ebeeb",
        "outputId": "f2c8e26b-b800-4536-a119-e35151ffa64c"
      },
      "outputs": [
        {
          "output_type": "execute_result",
          "data": {
            "text/plain": [
              "Marital Status\n",
              "Married    518\n",
              "Single     434\n",
              "Name: count, dtype: int64"
            ],
            "text/html": [
              "<div>\n",
              "<style scoped>\n",
              "    .dataframe tbody tr th:only-of-type {\n",
              "        vertical-align: middle;\n",
              "    }\n",
              "\n",
              "    .dataframe tbody tr th {\n",
              "        vertical-align: top;\n",
              "    }\n",
              "\n",
              "    .dataframe thead th {\n",
              "        text-align: right;\n",
              "    }\n",
              "</style>\n",
              "<table border=\"1\" class=\"dataframe\">\n",
              "  <thead>\n",
              "    <tr style=\"text-align: right;\">\n",
              "      <th></th>\n",
              "      <th>count</th>\n",
              "    </tr>\n",
              "    <tr>\n",
              "      <th>Marital Status</th>\n",
              "      <th></th>\n",
              "    </tr>\n",
              "  </thead>\n",
              "  <tbody>\n",
              "    <tr>\n",
              "      <th>Married</th>\n",
              "      <td>518</td>\n",
              "    </tr>\n",
              "    <tr>\n",
              "      <th>Single</th>\n",
              "      <td>434</td>\n",
              "    </tr>\n",
              "  </tbody>\n",
              "</table>\n",
              "</div><br><label><b>dtype:</b> int64</label>"
            ]
          },
          "metadata": {},
          "execution_count": 38
        }
      ],
      "source": [
        "# 'Marital Status'\n",
        "\n",
        "df['Marital Status'].value_counts()\n"
      ]
    },
    {
      "cell_type": "markdown",
      "source": [],
      "metadata": {
        "id": "9X8GuK6BpnXf"
      },
      "id": "9X8GuK6BpnXf"
    },
    {
      "cell_type": "code",
      "execution_count": 39,
      "id": "30a7e2fb-841b-44ca-9af5-48077d5fc286",
      "metadata": {
        "colab": {
          "base_uri": "https://localhost:8080/",
          "height": 272
        },
        "id": "30a7e2fb-841b-44ca-9af5-48077d5fc286",
        "outputId": "64fad94d-4ece-4c47-a6ab-c6e3bebf5021"
      },
      "outputs": [
        {
          "output_type": "execute_result",
          "data": {
            "text/plain": [
              "Education\n",
              "Bachelors              292\n",
              "Partial College        252\n",
              "High School            173\n",
              "Graduate Degree        163\n",
              "Partial High School     72\n",
              "Name: count, dtype: int64"
            ],
            "text/html": [
              "<div>\n",
              "<style scoped>\n",
              "    .dataframe tbody tr th:only-of-type {\n",
              "        vertical-align: middle;\n",
              "    }\n",
              "\n",
              "    .dataframe tbody tr th {\n",
              "        vertical-align: top;\n",
              "    }\n",
              "\n",
              "    .dataframe thead th {\n",
              "        text-align: right;\n",
              "    }\n",
              "</style>\n",
              "<table border=\"1\" class=\"dataframe\">\n",
              "  <thead>\n",
              "    <tr style=\"text-align: right;\">\n",
              "      <th></th>\n",
              "      <th>count</th>\n",
              "    </tr>\n",
              "    <tr>\n",
              "      <th>Education</th>\n",
              "      <th></th>\n",
              "    </tr>\n",
              "  </thead>\n",
              "  <tbody>\n",
              "    <tr>\n",
              "      <th>Bachelors</th>\n",
              "      <td>292</td>\n",
              "    </tr>\n",
              "    <tr>\n",
              "      <th>Partial College</th>\n",
              "      <td>252</td>\n",
              "    </tr>\n",
              "    <tr>\n",
              "      <th>High School</th>\n",
              "      <td>173</td>\n",
              "    </tr>\n",
              "    <tr>\n",
              "      <th>Graduate Degree</th>\n",
              "      <td>163</td>\n",
              "    </tr>\n",
              "    <tr>\n",
              "      <th>Partial High School</th>\n",
              "      <td>72</td>\n",
              "    </tr>\n",
              "  </tbody>\n",
              "</table>\n",
              "</div><br><label><b>dtype:</b> int64</label>"
            ]
          },
          "metadata": {},
          "execution_count": 39
        }
      ],
      "source": [
        "# 'Education'\n",
        "df['Education'].value_counts()"
      ]
    },
    {
      "cell_type": "markdown",
      "id": "dd09f262-9aa7-469b-badc-c1429dee3cde",
      "metadata": {
        "id": "dd09f262-9aa7-469b-badc-c1429dee3cde"
      },
      "source": [
        "Hay diferentes métodos para eliminar estos valores:\n",
        "\n",
        "1. Se genera una serie boleana donde *\"Partial High School\"* es igual a **False** y el resto de las categorías es igual a **True**, así que\n",
        "lo que pedimos es que solo considere aquellas filas donde el valor sea **True**."
      ]
    },
    {
      "cell_type": "code",
      "execution_count": 42,
      "id": "cbf28201-b75f-4af8-b900-a5d49f97faa1",
      "metadata": {
        "id": "cbf28201-b75f-4af8-b900-a5d49f97faa1"
      },
      "outputs": [],
      "source": [
        "df_cleaned = df[df['Education'] != 'Partial High School']"
      ]
    },
    {
      "cell_type": "code",
      "source": [
        "df_cleaned.shape"
      ],
      "metadata": {
        "colab": {
          "base_uri": "https://localhost:8080/"
        },
        "id": "Ix-0ooSwrNZs",
        "outputId": "2258cad4-b4b0-4e64-fb51-64113e156d36"
      },
      "id": "Ix-0ooSwrNZs",
      "execution_count": 41,
      "outputs": [
        {
          "output_type": "execute_result",
          "data": {
            "text/plain": [
              "(880, 13)"
            ]
          },
          "metadata": {},
          "execution_count": 41
        }
      ]
    },
    {
      "cell_type": "markdown",
      "id": "4429e0e2-56f4-46be-9193-2d3701d1e53f",
      "metadata": {
        "id": "4429e0e2-56f4-46be-9193-2d3701d1e53f"
      },
      "source": [
        "2. Con la función ```drop()``` somos un poco más especificos y pedimos que elimine todos los valores *'Partial High School'¨* de la columa *Education*.\n"
      ]
    },
    {
      "cell_type": "code",
      "execution_count": null,
      "id": "a0e5cb52-1955-432a-88ff-e13d179e8e70",
      "metadata": {
        "id": "a0e5cb52-1955-432a-88ff-e13d179e8e70"
      },
      "outputs": [],
      "source": [
        "# df.drop(df[df['Education'] == 'Partial High School'].index, inplace=True)"
      ]
    },
    {
      "cell_type": "markdown",
      "id": "7113fb79-d602-44fe-9540-86e6196969ff",
      "metadata": {
        "id": "7113fb79-d602-44fe-9540-86e6196969ff"
      },
      "source": [
        "Por último, impriman un ```shape```, ```info()``` o ```head()``` y vean su bas de datos final:\n"
      ]
    }
  ],
  "metadata": {
    "kernelspec": {
      "display_name": "Python 3 (ipykernel)",
      "language": "python",
      "name": "python3"
    },
    "language_info": {
      "codemirror_mode": {
        "name": "ipython",
        "version": 3
      },
      "file_extension": ".py",
      "mimetype": "text/x-python",
      "name": "python",
      "nbconvert_exporter": "python",
      "pygments_lexer": "ipython3",
      "version": "3.11.7"
    },
    "colab": {
      "provenance": []
    }
  },
  "nbformat": 4,
  "nbformat_minor": 5
}