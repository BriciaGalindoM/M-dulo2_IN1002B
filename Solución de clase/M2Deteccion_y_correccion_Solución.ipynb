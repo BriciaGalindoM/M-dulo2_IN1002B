{
  "cells": [
    {
      "cell_type": "markdown",
      "id": "c6b9b45c-38db-4e06-9306-8fe955d2f189",
      "metadata": {
        "id": "c6b9b45c-38db-4e06-9306-8fe955d2f189"
      },
      "source": [
        "# Módulo 2\n",
        "**Desarrollo de proyectos de análisis de datos  IN1002B**\n",
        "\n",
        "### Detección y corrección de inconsistencias.\n",
        "\n"
      ]
    },
    {
      "cell_type": "code",
      "source": [
        "from google.colab import drive\n",
        "drive.mount('/content/drive')"
      ],
      "metadata": {
        "colab": {
          "base_uri": "https://localhost:8080/"
        },
        "id": "_hP409feOZL1",
        "outputId": "cf98e6cf-b5bb-4e54-a97d-c400805796e8"
      },
      "id": "_hP409feOZL1",
      "execution_count": 1,
      "outputs": [
        {
          "output_type": "stream",
          "name": "stdout",
          "text": [
            "Drive already mounted at /content/drive; to attempt to forcibly remount, call drive.mount(\"/content/drive\", force_remount=True).\n"
          ]
        }
      ]
    },
    {
      "cell_type": "code",
      "execution_count": 2,
      "id": "c5541004-82c7-40ae-a20b-ecb707883f78",
      "metadata": {
        "id": "c5541004-82c7-40ae-a20b-ecb707883f78"
      },
      "outputs": [],
      "source": [
        "import pandas as pd\n",
        "import numpy as np\n",
        "from scipy import stats"
      ]
    },
    {
      "cell_type": "markdown",
      "id": "992dd8f2-4f62-446a-bdcf-ac551321e3da",
      "metadata": {
        "id": "992dd8f2-4f62-446a-bdcf-ac551321e3da"
      },
      "source": [
        "La base de datos **landslide** contiene información de avalanchas ocurridas en todo el mundo.\n",
        "\n",
        "En esta sesión, exploraremos la base de datos haciendo énfasis sobre que día, mes, año y hora ocurrieron los eventos. Así mismo, realizaremos actividades de limpieza y preparación."
      ]
    },
    {
      "cell_type": "code",
      "execution_count": 3,
      "id": "3e7daaea-cdf2-404b-a87e-73eada0d6c89",
      "metadata": {
        "id": "3e7daaea-cdf2-404b-a87e-73eada0d6c89"
      },
      "outputs": [],
      "source": [
        "data = pd.read_csv('/content/drive/MyDrive/IN1002B_204/landslide.csv')  # Binder -> Data/landslide.csv"
      ]
    },
    {
      "cell_type": "code",
      "execution_count": 4,
      "id": "c075df96-9883-4280-b9a3-90d47f556256",
      "metadata": {
        "id": "c075df96-9883-4280-b9a3-90d47f556256",
        "colab": {
          "base_uri": "https://localhost:8080/"
        },
        "outputId": "6ded0848-fd3d-46c9-fbdc-b345f657d900"
      },
      "outputs": [
        {
          "output_type": "stream",
          "name": "stdout",
          "text": [
            "<class 'pandas.core.frame.DataFrame'>\n",
            "RangeIndex: 1693 entries, 0 to 1692\n",
            "Data columns (total 23 columns):\n",
            " #   Column                Non-Null Count  Dtype  \n",
            "---  ------                --------------  -----  \n",
            " 0   id                    1693 non-null   int64  \n",
            " 1   date                  1690 non-null   object \n",
            " 2   time                  629 non-null    object \n",
            " 3   continent_code        164 non-null    object \n",
            " 4   country_name          1693 non-null   object \n",
            " 5   country_code          1693 non-null   object \n",
            " 6   state/province        1692 non-null   object \n",
            " 7   population            1693 non-null   int64  \n",
            " 8   city/town             1689 non-null   object \n",
            " 9   distance              1692 non-null   float64\n",
            " 10  location_description  551 non-null    object \n",
            " 11  latitude              1692 non-null   float64\n",
            " 12  longitude             1692 non-null   float64\n",
            " 13  geolocation           1692 non-null   object \n",
            " 14  hazard_type           1693 non-null   object \n",
            " 15  landslide_type        1692 non-null   object \n",
            " 16  landslide_size        1692 non-null   object \n",
            " 17  trigger               1691 non-null   object \n",
            " 18  storm_name            132 non-null    object \n",
            " 19  injuries              515 non-null    float64\n",
            " 20  fatalities            1446 non-null   float64\n",
            " 21  source_name           872 non-null    object \n",
            " 22  source_link           1593 non-null   object \n",
            "dtypes: float64(5), int64(2), object(16)\n",
            "memory usage: 304.3+ KB\n"
          ]
        }
      ],
      "source": [
        "# info()\n",
        "data.info()"
      ]
    },
    {
      "cell_type": "code",
      "execution_count": 5,
      "id": "8d107328-b197-4f82-8dc9-d86832eef0ef",
      "metadata": {
        "id": "8d107328-b197-4f82-8dc9-d86832eef0ef",
        "colab": {
          "base_uri": "https://localhost:8080/"
        },
        "outputId": "e89e97ac-a107-4555-e39b-4ffdb6509686"
      },
      "outputs": [
        {
          "output_type": "execute_result",
          "data": {
            "text/plain": [
              "(1693, 23)"
            ]
          },
          "metadata": {},
          "execution_count": 5
        }
      ],
      "source": [
        "#shape\n",
        "data.shape"
      ]
    },
    {
      "cell_type": "code",
      "execution_count": 6,
      "id": "acdb02e5-9205-468d-8f2e-5e8f16d110d0",
      "metadata": {
        "id": "acdb02e5-9205-468d-8f2e-5e8f16d110d0",
        "colab": {
          "base_uri": "https://localhost:8080/",
          "height": 199
        },
        "outputId": "d6b2ed8f-623a-44df-c485-1087c17a41eb"
      },
      "outputs": [
        {
          "output_type": "execute_result",
          "data": {
            "text/plain": [
              "   id    date   time continent_code   country_name country_code  \\\n",
              "0  34  3/2/07  Night            NaN  United States           US   \n",
              "\n",
              "  state/province  population    city/town  distance  ...  \\\n",
              "0       Virginia       16000  Cherry Hill   3.40765  ...   \n",
              "\n",
              "                                 geolocation  hazard_type  landslide_type  \\\n",
              "0  (38.600900000000003, -77.268199999999993)    Landslide       Landslide   \n",
              "\n",
              "  landslide_size trigger storm_name injuries fatalities source_name  \\\n",
              "0          Small    Rain        NaN      NaN        NaN  NBC 4 news   \n",
              "\n",
              "                                     source_link  \n",
              "0  http://www.nbc4.com/news/11186871/detail.html  \n",
              "\n",
              "[1 rows x 23 columns]"
            ],
            "text/html": [
              "\n",
              "  <div id=\"df-bbfd9447-a4d4-4b24-99ec-3c24f2aec7e2\" class=\"colab-df-container\">\n",
              "    <div>\n",
              "<style scoped>\n",
              "    .dataframe tbody tr th:only-of-type {\n",
              "        vertical-align: middle;\n",
              "    }\n",
              "\n",
              "    .dataframe tbody tr th {\n",
              "        vertical-align: top;\n",
              "    }\n",
              "\n",
              "    .dataframe thead th {\n",
              "        text-align: right;\n",
              "    }\n",
              "</style>\n",
              "<table border=\"1\" class=\"dataframe\">\n",
              "  <thead>\n",
              "    <tr style=\"text-align: right;\">\n",
              "      <th></th>\n",
              "      <th>id</th>\n",
              "      <th>date</th>\n",
              "      <th>time</th>\n",
              "      <th>continent_code</th>\n",
              "      <th>country_name</th>\n",
              "      <th>country_code</th>\n",
              "      <th>state/province</th>\n",
              "      <th>population</th>\n",
              "      <th>city/town</th>\n",
              "      <th>distance</th>\n",
              "      <th>...</th>\n",
              "      <th>geolocation</th>\n",
              "      <th>hazard_type</th>\n",
              "      <th>landslide_type</th>\n",
              "      <th>landslide_size</th>\n",
              "      <th>trigger</th>\n",
              "      <th>storm_name</th>\n",
              "      <th>injuries</th>\n",
              "      <th>fatalities</th>\n",
              "      <th>source_name</th>\n",
              "      <th>source_link</th>\n",
              "    </tr>\n",
              "  </thead>\n",
              "  <tbody>\n",
              "    <tr>\n",
              "      <th>0</th>\n",
              "      <td>34</td>\n",
              "      <td>3/2/07</td>\n",
              "      <td>Night</td>\n",
              "      <td>NaN</td>\n",
              "      <td>United States</td>\n",
              "      <td>US</td>\n",
              "      <td>Virginia</td>\n",
              "      <td>16000</td>\n",
              "      <td>Cherry Hill</td>\n",
              "      <td>3.40765</td>\n",
              "      <td>...</td>\n",
              "      <td>(38.600900000000003, -77.268199999999993)</td>\n",
              "      <td>Landslide</td>\n",
              "      <td>Landslide</td>\n",
              "      <td>Small</td>\n",
              "      <td>Rain</td>\n",
              "      <td>NaN</td>\n",
              "      <td>NaN</td>\n",
              "      <td>NaN</td>\n",
              "      <td>NBC 4 news</td>\n",
              "      <td>http://www.nbc4.com/news/11186871/detail.html</td>\n",
              "    </tr>\n",
              "  </tbody>\n",
              "</table>\n",
              "<p>1 rows × 23 columns</p>\n",
              "</div>\n",
              "    <div class=\"colab-df-buttons\">\n",
              "\n",
              "  <div class=\"colab-df-container\">\n",
              "    <button class=\"colab-df-convert\" onclick=\"convertToInteractive('df-bbfd9447-a4d4-4b24-99ec-3c24f2aec7e2')\"\n",
              "            title=\"Convert this dataframe to an interactive table.\"\n",
              "            style=\"display:none;\">\n",
              "\n",
              "  <svg xmlns=\"http://www.w3.org/2000/svg\" height=\"24px\" viewBox=\"0 -960 960 960\">\n",
              "    <path d=\"M120-120v-720h720v720H120Zm60-500h600v-160H180v160Zm220 220h160v-160H400v160Zm0 220h160v-160H400v160ZM180-400h160v-160H180v160Zm440 0h160v-160H620v160ZM180-180h160v-160H180v160Zm440 0h160v-160H620v160Z\"/>\n",
              "  </svg>\n",
              "    </button>\n",
              "\n",
              "  <style>\n",
              "    .colab-df-container {\n",
              "      display:flex;\n",
              "      gap: 12px;\n",
              "    }\n",
              "\n",
              "    .colab-df-convert {\n",
              "      background-color: #E8F0FE;\n",
              "      border: none;\n",
              "      border-radius: 50%;\n",
              "      cursor: pointer;\n",
              "      display: none;\n",
              "      fill: #1967D2;\n",
              "      height: 32px;\n",
              "      padding: 0 0 0 0;\n",
              "      width: 32px;\n",
              "    }\n",
              "\n",
              "    .colab-df-convert:hover {\n",
              "      background-color: #E2EBFA;\n",
              "      box-shadow: 0px 1px 2px rgba(60, 64, 67, 0.3), 0px 1px 3px 1px rgba(60, 64, 67, 0.15);\n",
              "      fill: #174EA6;\n",
              "    }\n",
              "\n",
              "    .colab-df-buttons div {\n",
              "      margin-bottom: 4px;\n",
              "    }\n",
              "\n",
              "    [theme=dark] .colab-df-convert {\n",
              "      background-color: #3B4455;\n",
              "      fill: #D2E3FC;\n",
              "    }\n",
              "\n",
              "    [theme=dark] .colab-df-convert:hover {\n",
              "      background-color: #434B5C;\n",
              "      box-shadow: 0px 1px 3px 1px rgba(0, 0, 0, 0.15);\n",
              "      filter: drop-shadow(0px 1px 2px rgba(0, 0, 0, 0.3));\n",
              "      fill: #FFFFFF;\n",
              "    }\n",
              "  </style>\n",
              "\n",
              "    <script>\n",
              "      const buttonEl =\n",
              "        document.querySelector('#df-bbfd9447-a4d4-4b24-99ec-3c24f2aec7e2 button.colab-df-convert');\n",
              "      buttonEl.style.display =\n",
              "        google.colab.kernel.accessAllowed ? 'block' : 'none';\n",
              "\n",
              "      async function convertToInteractive(key) {\n",
              "        const element = document.querySelector('#df-bbfd9447-a4d4-4b24-99ec-3c24f2aec7e2');\n",
              "        const dataTable =\n",
              "          await google.colab.kernel.invokeFunction('convertToInteractive',\n",
              "                                                    [key], {});\n",
              "        if (!dataTable) return;\n",
              "\n",
              "        const docLinkHtml = 'Like what you see? Visit the ' +\n",
              "          '<a target=\"_blank\" href=https://colab.research.google.com/notebooks/data_table.ipynb>data table notebook</a>'\n",
              "          + ' to learn more about interactive tables.';\n",
              "        element.innerHTML = '';\n",
              "        dataTable['output_type'] = 'display_data';\n",
              "        await google.colab.output.renderOutput(dataTable, element);\n",
              "        const docLink = document.createElement('div');\n",
              "        docLink.innerHTML = docLinkHtml;\n",
              "        element.appendChild(docLink);\n",
              "      }\n",
              "    </script>\n",
              "  </div>\n",
              "\n",
              "\n",
              "    </div>\n",
              "  </div>\n"
            ],
            "application/vnd.google.colaboratory.intrinsic+json": {
              "type": "dataframe",
              "variable_name": "data"
            }
          },
          "metadata": {},
          "execution_count": 6
        }
      ],
      "source": [
        "# head()\n",
        "data.head(1)"
      ]
    },
    {
      "cell_type": "markdown",
      "id": "40e5e8ed-d833-4d2f-9a57-07abcfec35d7",
      "metadata": {
        "id": "40e5e8ed-d833-4d2f-9a57-07abcfec35d7"
      },
      "source": [
        "## **Ajustes previos**\n",
        "\n",
        "Eliminen las columnas que consideren no relevantes, o bien que no puedan ser sujetas a ajustes de reemplazo:\n",
        "\n"
      ]
    },
    {
      "cell_type": "code",
      "execution_count": 7,
      "id": "f89ee7be-1546-40a6-8c77-c7e07144ad45",
      "metadata": {
        "id": "f89ee7be-1546-40a6-8c77-c7e07144ad45",
        "colab": {
          "base_uri": "https://localhost:8080/",
          "height": 805
        },
        "outputId": "0f081c68-c2a7-41ac-d2e6-2fc2a3c7109c"
      },
      "outputs": [
        {
          "output_type": "execute_result",
          "data": {
            "text/plain": [
              "id                         0\n",
              "date                       3\n",
              "time                    1064\n",
              "continent_code          1529\n",
              "country_name               0\n",
              "country_code               0\n",
              "state/province             1\n",
              "population                 0\n",
              "city/town                  4\n",
              "distance                   1\n",
              "location_description    1142\n",
              "latitude                   1\n",
              "longitude                  1\n",
              "geolocation                1\n",
              "hazard_type                0\n",
              "landslide_type             1\n",
              "landslide_size             1\n",
              "trigger                    2\n",
              "storm_name              1561\n",
              "injuries                1178\n",
              "fatalities               247\n",
              "source_name              821\n",
              "source_link              100\n",
              "dtype: int64"
            ],
            "text/html": [
              "<div>\n",
              "<style scoped>\n",
              "    .dataframe tbody tr th:only-of-type {\n",
              "        vertical-align: middle;\n",
              "    }\n",
              "\n",
              "    .dataframe tbody tr th {\n",
              "        vertical-align: top;\n",
              "    }\n",
              "\n",
              "    .dataframe thead th {\n",
              "        text-align: right;\n",
              "    }\n",
              "</style>\n",
              "<table border=\"1\" class=\"dataframe\">\n",
              "  <thead>\n",
              "    <tr style=\"text-align: right;\">\n",
              "      <th></th>\n",
              "      <th>0</th>\n",
              "    </tr>\n",
              "  </thead>\n",
              "  <tbody>\n",
              "    <tr>\n",
              "      <th>id</th>\n",
              "      <td>0</td>\n",
              "    </tr>\n",
              "    <tr>\n",
              "      <th>date</th>\n",
              "      <td>3</td>\n",
              "    </tr>\n",
              "    <tr>\n",
              "      <th>time</th>\n",
              "      <td>1064</td>\n",
              "    </tr>\n",
              "    <tr>\n",
              "      <th>continent_code</th>\n",
              "      <td>1529</td>\n",
              "    </tr>\n",
              "    <tr>\n",
              "      <th>country_name</th>\n",
              "      <td>0</td>\n",
              "    </tr>\n",
              "    <tr>\n",
              "      <th>country_code</th>\n",
              "      <td>0</td>\n",
              "    </tr>\n",
              "    <tr>\n",
              "      <th>state/province</th>\n",
              "      <td>1</td>\n",
              "    </tr>\n",
              "    <tr>\n",
              "      <th>population</th>\n",
              "      <td>0</td>\n",
              "    </tr>\n",
              "    <tr>\n",
              "      <th>city/town</th>\n",
              "      <td>4</td>\n",
              "    </tr>\n",
              "    <tr>\n",
              "      <th>distance</th>\n",
              "      <td>1</td>\n",
              "    </tr>\n",
              "    <tr>\n",
              "      <th>location_description</th>\n",
              "      <td>1142</td>\n",
              "    </tr>\n",
              "    <tr>\n",
              "      <th>latitude</th>\n",
              "      <td>1</td>\n",
              "    </tr>\n",
              "    <tr>\n",
              "      <th>longitude</th>\n",
              "      <td>1</td>\n",
              "    </tr>\n",
              "    <tr>\n",
              "      <th>geolocation</th>\n",
              "      <td>1</td>\n",
              "    </tr>\n",
              "    <tr>\n",
              "      <th>hazard_type</th>\n",
              "      <td>0</td>\n",
              "    </tr>\n",
              "    <tr>\n",
              "      <th>landslide_type</th>\n",
              "      <td>1</td>\n",
              "    </tr>\n",
              "    <tr>\n",
              "      <th>landslide_size</th>\n",
              "      <td>1</td>\n",
              "    </tr>\n",
              "    <tr>\n",
              "      <th>trigger</th>\n",
              "      <td>2</td>\n",
              "    </tr>\n",
              "    <tr>\n",
              "      <th>storm_name</th>\n",
              "      <td>1561</td>\n",
              "    </tr>\n",
              "    <tr>\n",
              "      <th>injuries</th>\n",
              "      <td>1178</td>\n",
              "    </tr>\n",
              "    <tr>\n",
              "      <th>fatalities</th>\n",
              "      <td>247</td>\n",
              "    </tr>\n",
              "    <tr>\n",
              "      <th>source_name</th>\n",
              "      <td>821</td>\n",
              "    </tr>\n",
              "    <tr>\n",
              "      <th>source_link</th>\n",
              "      <td>100</td>\n",
              "    </tr>\n",
              "  </tbody>\n",
              "</table>\n",
              "</div><br><label><b>dtype:</b> int64</label>"
            ]
          },
          "metadata": {},
          "execution_count": 7
        }
      ],
      "source": [
        "data.isnull().sum()"
      ]
    },
    {
      "cell_type": "code",
      "execution_count": 8,
      "id": "678b1412-56da-4856-b83d-0c179e940f65",
      "metadata": {
        "id": "678b1412-56da-4856-b83d-0c179e940f65"
      },
      "outputs": [],
      "source": [
        "# Seleccionar las columnas a eliminar (menos la de time, la usaremos despues)\n",
        "columnas = ['continent_code','location_description', 'storm_name']"
      ]
    },
    {
      "cell_type": "code",
      "execution_count": 9,
      "id": "d6150193-7910-4728-a5c3-6623605f358a",
      "metadata": {
        "id": "d6150193-7910-4728-a5c3-6623605f358a",
        "colab": {
          "base_uri": "https://localhost:8080/"
        },
        "outputId": "0ce7d033-7ebf-44b2-e837-a067fba7f74b"
      },
      "outputs": [
        {
          "output_type": "stream",
          "name": "stdout",
          "text": [
            "<class 'pandas.core.frame.DataFrame'>\n",
            "RangeIndex: 1693 entries, 0 to 1692\n",
            "Data columns (total 20 columns):\n",
            " #   Column          Non-Null Count  Dtype  \n",
            "---  ------          --------------  -----  \n",
            " 0   id              1693 non-null   int64  \n",
            " 1   date            1690 non-null   object \n",
            " 2   time            629 non-null    object \n",
            " 3   country_name    1693 non-null   object \n",
            " 4   country_code    1693 non-null   object \n",
            " 5   state/province  1692 non-null   object \n",
            " 6   population      1693 non-null   int64  \n",
            " 7   city/town       1689 non-null   object \n",
            " 8   distance        1692 non-null   float64\n",
            " 9   latitude        1692 non-null   float64\n",
            " 10  longitude       1692 non-null   float64\n",
            " 11  geolocation     1692 non-null   object \n",
            " 12  hazard_type     1693 non-null   object \n",
            " 13  landslide_type  1692 non-null   object \n",
            " 14  landslide_size  1692 non-null   object \n",
            " 15  trigger         1691 non-null   object \n",
            " 16  injuries        515 non-null    float64\n",
            " 17  fatalities      1446 non-null   float64\n",
            " 18  source_name     872 non-null    object \n",
            " 19  source_link     1593 non-null   object \n",
            "dtypes: float64(5), int64(2), object(13)\n",
            "memory usage: 264.7+ KB\n"
          ]
        }
      ],
      "source": [
        "# Aplicar la función drop()\n",
        "\n",
        "data.drop(columns = columnas, inplace = True)\n",
        "data.info()"
      ]
    },
    {
      "cell_type": "markdown",
      "id": "2c5cb934-5521-435c-82d0-e4ea06c8b2bb",
      "metadata": {
        "id": "2c5cb934-5521-435c-82d0-e4ea06c8b2bb"
      },
      "source": [
        "## **Fecha y hora**\n",
        "\n",
        "### Fechas\n",
        "Cuando queremos trabajar con fechas, podemos usar la funcion de ```to_datetime()```, lo unico que debemos revisar es el orden en el que se cargaron los datos, es decir si se encuentra:\n",
        "* dd/mm/aaaa\n",
        "* mm-dd-aaaa\n",
        "* aaaa dd mm\n",
        "* etc\n",
        "\n",
        "En el mismo orden y con los mismos caracteres especiales, le especificaremos a la función que queremos convertir y agregaremos el simbolo de $%$.\n",
        "\n",
        "* ```%d/%m/%y``` - ```%d/%m/%Y```\n",
        "* ```%m-%d-%y``` - ```%m-%d-%Y```\n",
        "* ```%Y %d %m```\n",
        "\n",
        "Realicemos el ajuste en la columna ```date```\n",
        "\n",
        "- Impriman un ```head()``` de la columna **date** para ver el formato de la fecha:\n"
      ]
    },
    {
      "cell_type": "code",
      "execution_count": 10,
      "id": "60a5adca-ec8f-4798-9f27-dcac3cf49355",
      "metadata": {
        "id": "60a5adca-ec8f-4798-9f27-dcac3cf49355",
        "colab": {
          "base_uri": "https://localhost:8080/",
          "height": 253
        },
        "outputId": "5442a326-4adf-4a1a-e435-5ae89c09d920"
      },
      "outputs": [
        {
          "output_type": "execute_result",
          "data": {
            "text/plain": [
              "   id     date   time   country_name country_code state/province  population  \\\n",
              "0  34   3/2/07  Night  United States           US       Virginia       16000   \n",
              "1  42  3/22/07    NaN  United States           US           Ohio       17288   \n",
              "\n",
              "          city/town  distance  latitude  longitude  \\\n",
              "0       Cherry Hill   3.40765   38.6009   -77.2682   \n",
              "1  New Philadelphia   3.33522   40.5175   -81.4305   \n",
              "\n",
              "                                 geolocation hazard_type landslide_type  \\\n",
              "0  (38.600900000000003, -77.268199999999993)   Landslide      Landslide   \n",
              "1  (40.517499999999998, -81.430499999999995)   Landslide      Landslide   \n",
              "\n",
              "  landslide_size trigger  injuries  fatalities     source_name  \\\n",
              "0          Small    Rain       NaN         NaN      NBC 4 news   \n",
              "1          Small    Rain       NaN         NaN  Canton Rep.com   \n",
              "\n",
              "                                         source_link  \n",
              "0      http://www.nbc4.com/news/11186871/detail.html  \n",
              "1  http://www.cantonrep.com/index.php?ID=345054&C...  "
            ],
            "text/html": [
              "\n",
              "  <div id=\"df-1ed660cf-5519-41eb-962b-5b404e89517e\" class=\"colab-df-container\">\n",
              "    <div>\n",
              "<style scoped>\n",
              "    .dataframe tbody tr th:only-of-type {\n",
              "        vertical-align: middle;\n",
              "    }\n",
              "\n",
              "    .dataframe tbody tr th {\n",
              "        vertical-align: top;\n",
              "    }\n",
              "\n",
              "    .dataframe thead th {\n",
              "        text-align: right;\n",
              "    }\n",
              "</style>\n",
              "<table border=\"1\" class=\"dataframe\">\n",
              "  <thead>\n",
              "    <tr style=\"text-align: right;\">\n",
              "      <th></th>\n",
              "      <th>id</th>\n",
              "      <th>date</th>\n",
              "      <th>time</th>\n",
              "      <th>country_name</th>\n",
              "      <th>country_code</th>\n",
              "      <th>state/province</th>\n",
              "      <th>population</th>\n",
              "      <th>city/town</th>\n",
              "      <th>distance</th>\n",
              "      <th>latitude</th>\n",
              "      <th>longitude</th>\n",
              "      <th>geolocation</th>\n",
              "      <th>hazard_type</th>\n",
              "      <th>landslide_type</th>\n",
              "      <th>landslide_size</th>\n",
              "      <th>trigger</th>\n",
              "      <th>injuries</th>\n",
              "      <th>fatalities</th>\n",
              "      <th>source_name</th>\n",
              "      <th>source_link</th>\n",
              "    </tr>\n",
              "  </thead>\n",
              "  <tbody>\n",
              "    <tr>\n",
              "      <th>0</th>\n",
              "      <td>34</td>\n",
              "      <td>3/2/07</td>\n",
              "      <td>Night</td>\n",
              "      <td>United States</td>\n",
              "      <td>US</td>\n",
              "      <td>Virginia</td>\n",
              "      <td>16000</td>\n",
              "      <td>Cherry Hill</td>\n",
              "      <td>3.40765</td>\n",
              "      <td>38.6009</td>\n",
              "      <td>-77.2682</td>\n",
              "      <td>(38.600900000000003, -77.268199999999993)</td>\n",
              "      <td>Landslide</td>\n",
              "      <td>Landslide</td>\n",
              "      <td>Small</td>\n",
              "      <td>Rain</td>\n",
              "      <td>NaN</td>\n",
              "      <td>NaN</td>\n",
              "      <td>NBC 4 news</td>\n",
              "      <td>http://www.nbc4.com/news/11186871/detail.html</td>\n",
              "    </tr>\n",
              "    <tr>\n",
              "      <th>1</th>\n",
              "      <td>42</td>\n",
              "      <td>3/22/07</td>\n",
              "      <td>NaN</td>\n",
              "      <td>United States</td>\n",
              "      <td>US</td>\n",
              "      <td>Ohio</td>\n",
              "      <td>17288</td>\n",
              "      <td>New Philadelphia</td>\n",
              "      <td>3.33522</td>\n",
              "      <td>40.5175</td>\n",
              "      <td>-81.4305</td>\n",
              "      <td>(40.517499999999998, -81.430499999999995)</td>\n",
              "      <td>Landslide</td>\n",
              "      <td>Landslide</td>\n",
              "      <td>Small</td>\n",
              "      <td>Rain</td>\n",
              "      <td>NaN</td>\n",
              "      <td>NaN</td>\n",
              "      <td>Canton Rep.com</td>\n",
              "      <td>http://www.cantonrep.com/index.php?ID=345054&amp;C...</td>\n",
              "    </tr>\n",
              "  </tbody>\n",
              "</table>\n",
              "</div>\n",
              "    <div class=\"colab-df-buttons\">\n",
              "\n",
              "  <div class=\"colab-df-container\">\n",
              "    <button class=\"colab-df-convert\" onclick=\"convertToInteractive('df-1ed660cf-5519-41eb-962b-5b404e89517e')\"\n",
              "            title=\"Convert this dataframe to an interactive table.\"\n",
              "            style=\"display:none;\">\n",
              "\n",
              "  <svg xmlns=\"http://www.w3.org/2000/svg\" height=\"24px\" viewBox=\"0 -960 960 960\">\n",
              "    <path d=\"M120-120v-720h720v720H120Zm60-500h600v-160H180v160Zm220 220h160v-160H400v160Zm0 220h160v-160H400v160ZM180-400h160v-160H180v160Zm440 0h160v-160H620v160ZM180-180h160v-160H180v160Zm440 0h160v-160H620v160Z\"/>\n",
              "  </svg>\n",
              "    </button>\n",
              "\n",
              "  <style>\n",
              "    .colab-df-container {\n",
              "      display:flex;\n",
              "      gap: 12px;\n",
              "    }\n",
              "\n",
              "    .colab-df-convert {\n",
              "      background-color: #E8F0FE;\n",
              "      border: none;\n",
              "      border-radius: 50%;\n",
              "      cursor: pointer;\n",
              "      display: none;\n",
              "      fill: #1967D2;\n",
              "      height: 32px;\n",
              "      padding: 0 0 0 0;\n",
              "      width: 32px;\n",
              "    }\n",
              "\n",
              "    .colab-df-convert:hover {\n",
              "      background-color: #E2EBFA;\n",
              "      box-shadow: 0px 1px 2px rgba(60, 64, 67, 0.3), 0px 1px 3px 1px rgba(60, 64, 67, 0.15);\n",
              "      fill: #174EA6;\n",
              "    }\n",
              "\n",
              "    .colab-df-buttons div {\n",
              "      margin-bottom: 4px;\n",
              "    }\n",
              "\n",
              "    [theme=dark] .colab-df-convert {\n",
              "      background-color: #3B4455;\n",
              "      fill: #D2E3FC;\n",
              "    }\n",
              "\n",
              "    [theme=dark] .colab-df-convert:hover {\n",
              "      background-color: #434B5C;\n",
              "      box-shadow: 0px 1px 3px 1px rgba(0, 0, 0, 0.15);\n",
              "      filter: drop-shadow(0px 1px 2px rgba(0, 0, 0, 0.3));\n",
              "      fill: #FFFFFF;\n",
              "    }\n",
              "  </style>\n",
              "\n",
              "    <script>\n",
              "      const buttonEl =\n",
              "        document.querySelector('#df-1ed660cf-5519-41eb-962b-5b404e89517e button.colab-df-convert');\n",
              "      buttonEl.style.display =\n",
              "        google.colab.kernel.accessAllowed ? 'block' : 'none';\n",
              "\n",
              "      async function convertToInteractive(key) {\n",
              "        const element = document.querySelector('#df-1ed660cf-5519-41eb-962b-5b404e89517e');\n",
              "        const dataTable =\n",
              "          await google.colab.kernel.invokeFunction('convertToInteractive',\n",
              "                                                    [key], {});\n",
              "        if (!dataTable) return;\n",
              "\n",
              "        const docLinkHtml = 'Like what you see? Visit the ' +\n",
              "          '<a target=\"_blank\" href=https://colab.research.google.com/notebooks/data_table.ipynb>data table notebook</a>'\n",
              "          + ' to learn more about interactive tables.';\n",
              "        element.innerHTML = '';\n",
              "        dataTable['output_type'] = 'display_data';\n",
              "        await google.colab.output.renderOutput(dataTable, element);\n",
              "        const docLink = document.createElement('div');\n",
              "        docLink.innerHTML = docLinkHtml;\n",
              "        element.appendChild(docLink);\n",
              "      }\n",
              "    </script>\n",
              "  </div>\n",
              "\n",
              "\n",
              "<div id=\"df-6f176463-36f5-46f9-b56f-8d7a0cd122f4\">\n",
              "  <button class=\"colab-df-quickchart\" onclick=\"quickchart('df-6f176463-36f5-46f9-b56f-8d7a0cd122f4')\"\n",
              "            title=\"Suggest charts\"\n",
              "            style=\"display:none;\">\n",
              "\n",
              "<svg xmlns=\"http://www.w3.org/2000/svg\" height=\"24px\"viewBox=\"0 0 24 24\"\n",
              "     width=\"24px\">\n",
              "    <g>\n",
              "        <path d=\"M19 3H5c-1.1 0-2 .9-2 2v14c0 1.1.9 2 2 2h14c1.1 0 2-.9 2-2V5c0-1.1-.9-2-2-2zM9 17H7v-7h2v7zm4 0h-2V7h2v10zm4 0h-2v-4h2v4z\"/>\n",
              "    </g>\n",
              "</svg>\n",
              "  </button>\n",
              "\n",
              "<style>\n",
              "  .colab-df-quickchart {\n",
              "      --bg-color: #E8F0FE;\n",
              "      --fill-color: #1967D2;\n",
              "      --hover-bg-color: #E2EBFA;\n",
              "      --hover-fill-color: #174EA6;\n",
              "      --disabled-fill-color: #AAA;\n",
              "      --disabled-bg-color: #DDD;\n",
              "  }\n",
              "\n",
              "  [theme=dark] .colab-df-quickchart {\n",
              "      --bg-color: #3B4455;\n",
              "      --fill-color: #D2E3FC;\n",
              "      --hover-bg-color: #434B5C;\n",
              "      --hover-fill-color: #FFFFFF;\n",
              "      --disabled-bg-color: #3B4455;\n",
              "      --disabled-fill-color: #666;\n",
              "  }\n",
              "\n",
              "  .colab-df-quickchart {\n",
              "    background-color: var(--bg-color);\n",
              "    border: none;\n",
              "    border-radius: 50%;\n",
              "    cursor: pointer;\n",
              "    display: none;\n",
              "    fill: var(--fill-color);\n",
              "    height: 32px;\n",
              "    padding: 0;\n",
              "    width: 32px;\n",
              "  }\n",
              "\n",
              "  .colab-df-quickchart:hover {\n",
              "    background-color: var(--hover-bg-color);\n",
              "    box-shadow: 0 1px 2px rgba(60, 64, 67, 0.3), 0 1px 3px 1px rgba(60, 64, 67, 0.15);\n",
              "    fill: var(--button-hover-fill-color);\n",
              "  }\n",
              "\n",
              "  .colab-df-quickchart-complete:disabled,\n",
              "  .colab-df-quickchart-complete:disabled:hover {\n",
              "    background-color: var(--disabled-bg-color);\n",
              "    fill: var(--disabled-fill-color);\n",
              "    box-shadow: none;\n",
              "  }\n",
              "\n",
              "  .colab-df-spinner {\n",
              "    border: 2px solid var(--fill-color);\n",
              "    border-color: transparent;\n",
              "    border-bottom-color: var(--fill-color);\n",
              "    animation:\n",
              "      spin 1s steps(1) infinite;\n",
              "  }\n",
              "\n",
              "  @keyframes spin {\n",
              "    0% {\n",
              "      border-color: transparent;\n",
              "      border-bottom-color: var(--fill-color);\n",
              "      border-left-color: var(--fill-color);\n",
              "    }\n",
              "    20% {\n",
              "      border-color: transparent;\n",
              "      border-left-color: var(--fill-color);\n",
              "      border-top-color: var(--fill-color);\n",
              "    }\n",
              "    30% {\n",
              "      border-color: transparent;\n",
              "      border-left-color: var(--fill-color);\n",
              "      border-top-color: var(--fill-color);\n",
              "      border-right-color: var(--fill-color);\n",
              "    }\n",
              "    40% {\n",
              "      border-color: transparent;\n",
              "      border-right-color: var(--fill-color);\n",
              "      border-top-color: var(--fill-color);\n",
              "    }\n",
              "    60% {\n",
              "      border-color: transparent;\n",
              "      border-right-color: var(--fill-color);\n",
              "    }\n",
              "    80% {\n",
              "      border-color: transparent;\n",
              "      border-right-color: var(--fill-color);\n",
              "      border-bottom-color: var(--fill-color);\n",
              "    }\n",
              "    90% {\n",
              "      border-color: transparent;\n",
              "      border-bottom-color: var(--fill-color);\n",
              "    }\n",
              "  }\n",
              "</style>\n",
              "\n",
              "  <script>\n",
              "    async function quickchart(key) {\n",
              "      const quickchartButtonEl =\n",
              "        document.querySelector('#' + key + ' button');\n",
              "      quickchartButtonEl.disabled = true;  // To prevent multiple clicks.\n",
              "      quickchartButtonEl.classList.add('colab-df-spinner');\n",
              "      try {\n",
              "        const charts = await google.colab.kernel.invokeFunction(\n",
              "            'suggestCharts', [key], {});\n",
              "      } catch (error) {\n",
              "        console.error('Error during call to suggestCharts:', error);\n",
              "      }\n",
              "      quickchartButtonEl.classList.remove('colab-df-spinner');\n",
              "      quickchartButtonEl.classList.add('colab-df-quickchart-complete');\n",
              "    }\n",
              "    (() => {\n",
              "      let quickchartButtonEl =\n",
              "        document.querySelector('#df-6f176463-36f5-46f9-b56f-8d7a0cd122f4 button');\n",
              "      quickchartButtonEl.style.display =\n",
              "        google.colab.kernel.accessAllowed ? 'block' : 'none';\n",
              "    })();\n",
              "  </script>\n",
              "</div>\n",
              "\n",
              "    </div>\n",
              "  </div>\n"
            ],
            "application/vnd.google.colaboratory.intrinsic+json": {
              "type": "dataframe",
              "variable_name": "data",
              "summary": "{\n  \"name\": \"data\",\n  \"rows\": 1693,\n  \"fields\": [\n    {\n      \"column\": \"id\",\n      \"properties\": {\n        \"dtype\": \"number\",\n        \"std\": 2236,\n        \"min\": 34,\n        \"max\": 7541,\n        \"num_unique_values\": 1693,\n        \"samples\": [\n          6092,\n          7532,\n          7343\n        ],\n        \"semantic_type\": \"\",\n        \"description\": \"\"\n      }\n    },\n    {\n      \"column\": \"date\",\n      \"properties\": {\n        \"dtype\": \"object\",\n        \"num_unique_values\": 922,\n        \"samples\": [\n          \"12/23/10\",\n          \"5/11/11\",\n          \"5/6/13\"\n        ],\n        \"semantic_type\": \"\",\n        \"description\": \"\"\n      }\n    },\n    {\n      \"column\": \"time\",\n      \"properties\": {\n        \"dtype\": \"category\",\n        \"num_unique_values\": 159,\n        \"samples\": [\n          \"11:50:00\",\n          \"14:00\",\n          \"18:45\"\n        ],\n        \"semantic_type\": \"\",\n        \"description\": \"\"\n      }\n    },\n    {\n      \"column\": \"country_name\",\n      \"properties\": {\n        \"dtype\": \"category\",\n        \"num_unique_values\": 28,\n        \"samples\": [\n          \"Trinidad and Tobago\",\n          \"Grenada\",\n          \"Dominica\"\n        ],\n        \"semantic_type\": \"\",\n        \"description\": \"\"\n      }\n    },\n    {\n      \"column\": \"country_code\",\n      \"properties\": {\n        \"dtype\": \"category\",\n        \"num_unique_values\": 28,\n        \"samples\": [\n          \"TT\",\n          \"GD\",\n          \"DM\"\n        ],\n        \"semantic_type\": \"\",\n        \"description\": \"\"\n      }\n    },\n    {\n      \"column\": \"state/province\",\n      \"properties\": {\n        \"dtype\": \"category\",\n        \"num_unique_values\": 226,\n        \"samples\": [\n          \"Pichincha\",\n          \"Saint John Island\",\n          \"Solol\\u00e1\"\n        ],\n        \"semantic_type\": \"\",\n        \"description\": \"\"\n      }\n    },\n    {\n      \"column\": \"population\",\n      \"properties\": {\n        \"dtype\": \"number\",\n        \"std\": 522601,\n        \"min\": 0,\n        \"max\": 12294193,\n        \"num_unique_values\": 1000,\n        \"samples\": [\n          11265,\n          19908,\n          9720\n        ],\n        \"semantic_type\": \"\",\n        \"description\": \"\"\n      }\n    },\n    {\n      \"column\": \"city/town\",\n      \"properties\": {\n        \"dtype\": \"string\",\n        \"num_unique_values\": 1034,\n        \"samples\": [\n          \"Santa Mar\\u00eda De Jes\\u00fas\",\n          \"Bradford Woods\",\n          \"Saratoga Springs\"\n        ],\n        \"semantic_type\": \"\",\n        \"description\": \"\"\n      }\n    },\n    {\n      \"column\": \"distance\",\n      \"properties\": {\n        \"dtype\": \"number\",\n        \"std\": 9.35825563338341,\n        \"min\": 3e-05,\n        \"max\": 74.46097,\n        \"num_unique_values\": 1675,\n        \"samples\": [\n          2.478,\n          0.29869,\n          38.50248\n        ],\n        \"semantic_type\": \"\",\n        \"description\": \"\"\n      }\n    },\n    {\n      \"column\": \"latitude\",\n      \"properties\": {\n        \"dtype\": \"number\",\n        \"std\": 14.206341394592274,\n        \"min\": -10.1258,\n        \"max\": 45.4257,\n        \"num_unique_values\": 1665,\n        \"samples\": [\n          41.6737,\n          40.6864,\n          41.0266\n        ],\n        \"semantic_type\": \"\",\n        \"description\": \"\"\n      }\n    },\n    {\n      \"column\": \"longitude\",\n      \"properties\": {\n        \"dtype\": \"number\",\n        \"std\": 14.332810864142958,\n        \"min\": -117.3092,\n        \"max\": -45.601,\n        \"num_unique_values\": 1665,\n        \"samples\": [\n          -89.5556,\n          -104.917,\n          -111.8316\n        ],\n        \"semantic_type\": \"\",\n        \"description\": \"\"\n      }\n    },\n    {\n      \"column\": \"geolocation\",\n      \"properties\": {\n        \"dtype\": \"string\",\n        \"num_unique_values\": 1678,\n        \"samples\": [\n          \"(14.6, -88.914400000000001)\",\n          \"(15.5227, -85.265000000000001)\",\n          \"(36.89, -87.659700000000001)\"\n        ],\n        \"semantic_type\": \"\",\n        \"description\": \"\"\n      }\n    },\n    {\n      \"column\": \"hazard_type\",\n      \"properties\": {\n        \"dtype\": \"category\",\n        \"num_unique_values\": 1,\n        \"samples\": [\n          \"Landslide\"\n        ],\n        \"semantic_type\": \"\",\n        \"description\": \"\"\n      }\n    },\n    {\n      \"column\": \"landslide_type\",\n      \"properties\": {\n        \"dtype\": \"category\",\n        \"num_unique_values\": 14,\n        \"samples\": [\n          \"mudslide\"\n        ],\n        \"semantic_type\": \"\",\n        \"description\": \"\"\n      }\n    },\n    {\n      \"column\": \"landslide_size\",\n      \"properties\": {\n        \"dtype\": \"category\",\n        \"num_unique_values\": 7,\n        \"samples\": [\n          \"Small\"\n        ],\n        \"semantic_type\": \"\",\n        \"description\": \"\"\n      }\n    },\n    {\n      \"column\": \"trigger\",\n      \"properties\": {\n        \"dtype\": \"category\",\n        \"num_unique_values\": 16,\n        \"samples\": [\n          \"Rain\"\n        ],\n        \"semantic_type\": \"\",\n        \"description\": \"\"\n      }\n    },\n    {\n      \"column\": \"injuries\",\n      \"properties\": {\n        \"dtype\": \"number\",\n        \"std\": 3.4275140213777333,\n        \"min\": 0.0,\n        \"max\": 45.0,\n        \"num_unique_values\": 15,\n        \"samples\": [\n          4.0\n        ],\n        \"semantic_type\": \"\",\n        \"description\": \"\"\n      }\n    },\n    {\n      \"column\": \"fatalities\",\n      \"properties\": {\n        \"dtype\": \"number\",\n        \"std\": 9.18465293836536,\n        \"min\": 0.0,\n        \"max\": 280.0,\n        \"num_unique_values\": 36,\n        \"samples\": [\n          280.0\n        ],\n        \"semantic_type\": \"\",\n        \"description\": \"\"\n      }\n    },\n    {\n      \"column\": \"source_name\",\n      \"properties\": {\n        \"dtype\": \"category\",\n        \"num_unique_values\": 552,\n        \"samples\": [\n          \"Durango Herald\"\n        ],\n        \"semantic_type\": \"\",\n        \"description\": \"\"\n      }\n    },\n    {\n      \"column\": \"source_link\",\n      \"properties\": {\n        \"dtype\": \"string\",\n        \"num_unique_values\": 1325,\n        \"samples\": [\n          \"http://county10.com/2013/10/10/rock-slide-pinnacles-occurred-west-dubois-tuesday/\"\n        ],\n        \"semantic_type\": \"\",\n        \"description\": \"\"\n      }\n    }\n  ]\n}"
            }
          },
          "metadata": {},
          "execution_count": 10
        }
      ],
      "source": [
        "# head()\n",
        "data.head(2)"
      ]
    },
    {
      "cell_type": "code",
      "execution_count": 12,
      "id": "146e1fbf-b12d-41ef-9bee-1044519f872d",
      "metadata": {
        "id": "146e1fbf-b12d-41ef-9bee-1044519f872d"
      },
      "outputs": [],
      "source": [
        "data['date'] = pd.to_datetime(data['date'], format= '%m/%d/%y')"
      ]
    },
    {
      "cell_type": "code",
      "execution_count": 13,
      "id": "1ff5e348-d768-44a3-b267-d8a0a25c8754",
      "metadata": {
        "id": "1ff5e348-d768-44a3-b267-d8a0a25c8754",
        "colab": {
          "base_uri": "https://localhost:8080/"
        },
        "outputId": "4c9cbb84-188a-4367-9efa-6c097ba52e65"
      },
      "outputs": [
        {
          "output_type": "stream",
          "name": "stdout",
          "text": [
            "<class 'pandas.core.frame.DataFrame'>\n",
            "RangeIndex: 1693 entries, 0 to 1692\n",
            "Data columns (total 20 columns):\n",
            " #   Column          Non-Null Count  Dtype         \n",
            "---  ------          --------------  -----         \n",
            " 0   id              1693 non-null   int64         \n",
            " 1   date            1690 non-null   datetime64[ns]\n",
            " 2   time            629 non-null    object        \n",
            " 3   country_name    1693 non-null   object        \n",
            " 4   country_code    1693 non-null   object        \n",
            " 5   state/province  1692 non-null   object        \n",
            " 6   population      1693 non-null   int64         \n",
            " 7   city/town       1689 non-null   object        \n",
            " 8   distance        1692 non-null   float64       \n",
            " 9   latitude        1692 non-null   float64       \n",
            " 10  longitude       1692 non-null   float64       \n",
            " 11  geolocation     1692 non-null   object        \n",
            " 12  hazard_type     1693 non-null   object        \n",
            " 13  landslide_type  1692 non-null   object        \n",
            " 14  landslide_size  1692 non-null   object        \n",
            " 15  trigger         1691 non-null   object        \n",
            " 16  injuries        515 non-null    float64       \n",
            " 17  fatalities      1446 non-null   float64       \n",
            " 18  source_name     872 non-null    object        \n",
            " 19  source_link     1593 non-null   object        \n",
            "dtypes: datetime64[ns](1), float64(5), int64(2), object(12)\n",
            "memory usage: 264.7+ KB\n"
          ]
        }
      ],
      "source": [
        "#info()\n",
        "#¿qué tipo de dato es nuestra columna date ahora?\n",
        "data.info()"
      ]
    },
    {
      "cell_type": "markdown",
      "id": "684c258f-eae0-4126-8f1e-67b70755bc6f",
      "metadata": {
        "id": "684c258f-eae0-4126-8f1e-67b70755bc6f"
      },
      "source": [
        "### Horas\n",
        "\n",
        "Ahora realizaremos el ajuste en la columna de ```time```.\n"
      ]
    },
    {
      "cell_type": "code",
      "execution_count": 14,
      "id": "62702890-917f-4455-8640-a7cdff6e4668",
      "metadata": {
        "id": "62702890-917f-4455-8640-a7cdff6e4668",
        "colab": {
          "base_uri": "https://localhost:8080/"
        },
        "outputId": "2cfc36e2-2385-46b7-ba5a-5713342473d8"
      },
      "outputs": [
        {
          "output_type": "execute_result",
          "data": {
            "text/plain": [
              "array(['Night', nan, '19:30:00', 'Early morning', '1:41:00', 'Afternoon',\n",
              "       '11:30:00', 'Morning', '23:25:00', '18:00:00', '22:00:00',\n",
              "       '17:36:00', 'Overnight', '16:30:00', '13:40:00', '15:00:00',\n",
              "       '7:00:00', '19:00:00', '22:00', '0:00:00', '12:00', '6:45:00',\n",
              "       '18:15:00', '2:00:00', 'Late morning', '23:30:00', '11:00:00',\n",
              "       '7:19:00', 'Evening', '21:00:00', '5:00:00', '10:00:00',\n",
              "       '17:00:00', '1:30:00', '12:00:00', '5:30:00', '6:00:00',\n",
              "       'Late evening', '8:00:00', '14:30:00', '15:45:00', '9:30:00',\n",
              "       '18:46:00', '2:30:00', '15:30:00', '13:45:00', '15:40:00',\n",
              "       '14:10:00', '4:30:00', '18:53:00', '11:45:00', 'Late night',\n",
              "       '23:00:00', '13:00:00', '3:00:00', '4:00:00', '20:00:00', '13:00',\n",
              "       '0:15:00', '0:30:00', '10:30:00', 'Before dawn', '9:00:00',\n",
              "       '7:30:00', '14:00:00', '1:00:00', '12:30:00', '21:30:00', '12:15',\n",
              "       '1:52:00', 'Late afternoon', '9:50:00', '5:45:00', '3:30:00',\n",
              "       '21:40:00', '20:40:00', '15:00', '17:45:00', ' ', '11:50:00',\n",
              "       '15:32', '9:40:00', '1:13', '3:20:00', '20:45:00', '15:15:00',\n",
              "       '13:30:00', '15:25:00', '16:00:00', '19:45:00', '4:55:00',\n",
              "       '6:15:00', '17:15:00', '16:58:00', '20:20:00', '0:05:00',\n",
              "       '20:30:00', 'evening', '18:30:00', '0:13:00', '16:45:00',\n",
              "       '6:40:00', '14:25:00', '15:30', '17:30:00', '16:15:00', '****',\n",
              "       '8:30:00', '8:30', '14:20:00', '2:15', '18:00', '16:30', '6:00',\n",
              "       '19:33', '3:00', '1:23', '0:15', '2:00', '3:23', 'Unknown', '1:00',\n",
              "       '17:15', '18:44', '20:30', '19:00', '21:30', '22:30', '5:45',\n",
              "       '18:45', '0:34', '14:30', '11:30', '10:00', '7:40', '4:30',\n",
              "       '23:00', '10:05', '21:00', '5:00', '23:59', '11:50', '4:00',\n",
              "       '13:30', '6:45', '7:30', '12:20', '17:00', 'overnight', '9:00',\n",
              "       '15:20', '13:50', '13:32', '1:11', '8:00', '23:30', '14:00',\n",
              "       '9:45', '0:00', '21:06'], dtype=object)"
            ]
          },
          "metadata": {},
          "execution_count": 14
        }
      ],
      "source": [
        "#unique()\n",
        "data.time.unique()"
      ]
    },
    {
      "cell_type": "markdown",
      "id": "427b7a9e-e4ec-4815-808a-d1f594d9ad3e",
      "metadata": {
        "id": "427b7a9e-e4ec-4815-808a-d1f594d9ad3e"
      },
      "source": [
        "Estos son los valores que requerían un reemplazo.\n",
        "\n",
        "Los números fueron colocados sin un criterio en especifico, pueden ajustarlos si lo desean."
      ]
    },
    {
      "cell_type": "code",
      "execution_count": 15,
      "id": "da57aebf-c4a0-46e8-9a7a-96bb13a1f5c1",
      "metadata": {
        "id": "da57aebf-c4a0-46e8-9a7a-96bb13a1f5c1"
      },
      "outputs": [],
      "source": [
        "data['time'].replace({'Night': '22:00','Early morning': '07:00', 'Afternoon':'13:00','Late morning': '10:00',\n",
        "                    'Before dawn':'18:00', 'Late afternoon': '16:00', 'evening':'21:00', '****':0 , 'Unknown': 0, 'overnight':'23:00',\n",
        "                     'Evening':'21:00','Overnight':'01:00', 'Morning':'08:00', ' ':0, 'Late evening': '21:00', 'Late night': '23:00'}, inplace = True)"
      ]
    },
    {
      "cell_type": "code",
      "execution_count": 16,
      "id": "2e19880e-f2e9-47de-b2c1-b2e5d31868ae",
      "metadata": {
        "id": "2e19880e-f2e9-47de-b2c1-b2e5d31868ae",
        "colab": {
          "base_uri": "https://localhost:8080/"
        },
        "outputId": "ee018746-d596-4b16-bb69-1c9d8d85960d"
      },
      "outputs": [
        {
          "output_type": "execute_result",
          "data": {
            "text/plain": [
              "array(['22:00', nan, '19:30:00', '07:00', '1:41:00', '13:00', '11:30:00',\n",
              "       '08:00', '23:25:00', '18:00:00', '22:00:00', '17:36:00', '01:00',\n",
              "       '16:30:00', '13:40:00', '15:00:00', '7:00:00', '19:00:00',\n",
              "       '0:00:00', '12:00', '6:45:00', '18:15:00', '2:00:00', '10:00',\n",
              "       '23:30:00', '11:00:00', '7:19:00', '21:00', '21:00:00', '5:00:00',\n",
              "       '10:00:00', '17:00:00', '1:30:00', '12:00:00', '5:30:00',\n",
              "       '6:00:00', '8:00:00', '14:30:00', '15:45:00', '9:30:00',\n",
              "       '18:46:00', '2:30:00', '15:30:00', '13:45:00', '15:40:00',\n",
              "       '14:10:00', '4:30:00', '18:53:00', '11:45:00', '23:00', '23:00:00',\n",
              "       '13:00:00', '3:00:00', '4:00:00', '20:00:00', '0:15:00', '0:30:00',\n",
              "       '10:30:00', '18:00', '9:00:00', '7:30:00', '14:00:00', '1:00:00',\n",
              "       '12:30:00', '21:30:00', '12:15', '1:52:00', '16:00', '9:50:00',\n",
              "       '5:45:00', '3:30:00', '21:40:00', '20:40:00', '15:00', '17:45:00',\n",
              "       0, '11:50:00', '15:32', '9:40:00', '1:13', '3:20:00', '20:45:00',\n",
              "       '15:15:00', '13:30:00', '15:25:00', '16:00:00', '19:45:00',\n",
              "       '4:55:00', '6:15:00', '17:15:00', '16:58:00', '20:20:00',\n",
              "       '0:05:00', '20:30:00', '18:30:00', '0:13:00', '16:45:00',\n",
              "       '6:40:00', '14:25:00', '15:30', '17:30:00', '16:15:00', '8:30:00',\n",
              "       '8:30', '14:20:00', '2:15', '16:30', '6:00', '19:33', '3:00',\n",
              "       '1:23', '0:15', '2:00', '3:23', '1:00', '17:15', '18:44', '20:30',\n",
              "       '19:00', '21:30', '22:30', '5:45', '18:45', '0:34', '14:30',\n",
              "       '11:30', '7:40', '4:30', '10:05', '5:00', '23:59', '11:50', '4:00',\n",
              "       '13:30', '6:45', '7:30', '12:20', '17:00', '9:00', '15:20',\n",
              "       '13:50', '13:32', '1:11', '8:00', '23:30', '14:00', '9:45', '0:00',\n",
              "       '21:06'], dtype=object)"
            ]
          },
          "metadata": {},
          "execution_count": 16
        }
      ],
      "source": [
        "# unique()\n",
        "data.time.unique()"
      ]
    },
    {
      "cell_type": "markdown",
      "id": "bfeb5582-4993-4c39-9376-db4339b7ebcf",
      "metadata": {
        "id": "bfeb5582-4993-4c39-9376-db4339b7ebcf"
      },
      "source": [
        "Como pudieron notar, no existe un formato de **time** en esta ocasión.\n",
        "\n",
        "Lo bueno es que dentro de ```pd.to_datetime()``` existe una opción llamada **mixed** que infiere el estilo y acomoda la hora.\n"
      ]
    },
    {
      "cell_type": "code",
      "execution_count": 17,
      "id": "a1f85498-d5fa-4ebb-adc6-d7c14729d87e",
      "metadata": {
        "id": "a1f85498-d5fa-4ebb-adc6-d7c14729d87e"
      },
      "outputs": [],
      "source": [
        "data['time'] = pd.to_datetime(data['time'], format='mixed')"
      ]
    },
    {
      "cell_type": "code",
      "execution_count": 18,
      "id": "7b7830cc-c4b6-4a15-a6d7-4f463035b9f0",
      "metadata": {
        "id": "7b7830cc-c4b6-4a15-a6d7-4f463035b9f0",
        "colab": {
          "base_uri": "https://localhost:8080/",
          "height": 458
        },
        "outputId": "b461e179-ff3a-4dce-eb2b-08751d7833e1"
      },
      "outputs": [
        {
          "output_type": "execute_result",
          "data": {
            "text/plain": [
              "0      2024-09-24 22:00:00\n",
              "1                      NaT\n",
              "2                      NaT\n",
              "3                      NaT\n",
              "4                      NaT\n",
              "               ...        \n",
              "1688                   NaT\n",
              "1689   2024-09-24 00:00:00\n",
              "1690                   NaT\n",
              "1691   2024-09-24 21:06:00\n",
              "1692   2024-09-24 08:00:00\n",
              "Name: time, Length: 1693, dtype: datetime64[ns]"
            ],
            "text/html": [
              "<div>\n",
              "<style scoped>\n",
              "    .dataframe tbody tr th:only-of-type {\n",
              "        vertical-align: middle;\n",
              "    }\n",
              "\n",
              "    .dataframe tbody tr th {\n",
              "        vertical-align: top;\n",
              "    }\n",
              "\n",
              "    .dataframe thead th {\n",
              "        text-align: right;\n",
              "    }\n",
              "</style>\n",
              "<table border=\"1\" class=\"dataframe\">\n",
              "  <thead>\n",
              "    <tr style=\"text-align: right;\">\n",
              "      <th></th>\n",
              "      <th>time</th>\n",
              "    </tr>\n",
              "  </thead>\n",
              "  <tbody>\n",
              "    <tr>\n",
              "      <th>0</th>\n",
              "      <td>2024-09-24 22:00:00</td>\n",
              "    </tr>\n",
              "    <tr>\n",
              "      <th>1</th>\n",
              "      <td>NaT</td>\n",
              "    </tr>\n",
              "    <tr>\n",
              "      <th>2</th>\n",
              "      <td>NaT</td>\n",
              "    </tr>\n",
              "    <tr>\n",
              "      <th>3</th>\n",
              "      <td>NaT</td>\n",
              "    </tr>\n",
              "    <tr>\n",
              "      <th>4</th>\n",
              "      <td>NaT</td>\n",
              "    </tr>\n",
              "    <tr>\n",
              "      <th>...</th>\n",
              "      <td>...</td>\n",
              "    </tr>\n",
              "    <tr>\n",
              "      <th>1688</th>\n",
              "      <td>NaT</td>\n",
              "    </tr>\n",
              "    <tr>\n",
              "      <th>1689</th>\n",
              "      <td>2024-09-24 00:00:00</td>\n",
              "    </tr>\n",
              "    <tr>\n",
              "      <th>1690</th>\n",
              "      <td>NaT</td>\n",
              "    </tr>\n",
              "    <tr>\n",
              "      <th>1691</th>\n",
              "      <td>2024-09-24 21:06:00</td>\n",
              "    </tr>\n",
              "    <tr>\n",
              "      <th>1692</th>\n",
              "      <td>2024-09-24 08:00:00</td>\n",
              "    </tr>\n",
              "  </tbody>\n",
              "</table>\n",
              "<p>1693 rows × 1 columns</p>\n",
              "</div><br><label><b>dtype:</b> datetime64[ns]</label>"
            ]
          },
          "metadata": {},
          "execution_count": 18
        }
      ],
      "source": [
        "# imrpimir la columna time\n",
        "data.time"
      ]
    },
    {
      "cell_type": "markdown",
      "id": "063dc2f5-0d1d-458f-aa5b-15ca17a51fd2",
      "metadata": {
        "id": "063dc2f5-0d1d-458f-aa5b-15ca17a51fd2"
      },
      "source": [
        "Ahora, con la función ```isnull()``` veamos cuantos valores faltantes tenemos:"
      ]
    },
    {
      "cell_type": "code",
      "execution_count": 19,
      "id": "2b4c1ff3-affe-4b88-b8e5-d461797cbeb7",
      "metadata": {
        "id": "2b4c1ff3-affe-4b88-b8e5-d461797cbeb7",
        "colab": {
          "base_uri": "https://localhost:8080/",
          "height": 711
        },
        "outputId": "823200a3-d940-42a6-c714-26b87922ed41"
      },
      "outputs": [
        {
          "output_type": "execute_result",
          "data": {
            "text/plain": [
              "id                   0\n",
              "date                 3\n",
              "time              1064\n",
              "country_name         0\n",
              "country_code         0\n",
              "state/province       1\n",
              "population           0\n",
              "city/town            4\n",
              "distance             1\n",
              "latitude             1\n",
              "longitude            1\n",
              "geolocation          1\n",
              "hazard_type          0\n",
              "landslide_type       1\n",
              "landslide_size       1\n",
              "trigger              2\n",
              "injuries          1178\n",
              "fatalities         247\n",
              "source_name        821\n",
              "source_link        100\n",
              "dtype: int64"
            ],
            "text/html": [
              "<div>\n",
              "<style scoped>\n",
              "    .dataframe tbody tr th:only-of-type {\n",
              "        vertical-align: middle;\n",
              "    }\n",
              "\n",
              "    .dataframe tbody tr th {\n",
              "        vertical-align: top;\n",
              "    }\n",
              "\n",
              "    .dataframe thead th {\n",
              "        text-align: right;\n",
              "    }\n",
              "</style>\n",
              "<table border=\"1\" class=\"dataframe\">\n",
              "  <thead>\n",
              "    <tr style=\"text-align: right;\">\n",
              "      <th></th>\n",
              "      <th>0</th>\n",
              "    </tr>\n",
              "  </thead>\n",
              "  <tbody>\n",
              "    <tr>\n",
              "      <th>id</th>\n",
              "      <td>0</td>\n",
              "    </tr>\n",
              "    <tr>\n",
              "      <th>date</th>\n",
              "      <td>3</td>\n",
              "    </tr>\n",
              "    <tr>\n",
              "      <th>time</th>\n",
              "      <td>1064</td>\n",
              "    </tr>\n",
              "    <tr>\n",
              "      <th>country_name</th>\n",
              "      <td>0</td>\n",
              "    </tr>\n",
              "    <tr>\n",
              "      <th>country_code</th>\n",
              "      <td>0</td>\n",
              "    </tr>\n",
              "    <tr>\n",
              "      <th>state/province</th>\n",
              "      <td>1</td>\n",
              "    </tr>\n",
              "    <tr>\n",
              "      <th>population</th>\n",
              "      <td>0</td>\n",
              "    </tr>\n",
              "    <tr>\n",
              "      <th>city/town</th>\n",
              "      <td>4</td>\n",
              "    </tr>\n",
              "    <tr>\n",
              "      <th>distance</th>\n",
              "      <td>1</td>\n",
              "    </tr>\n",
              "    <tr>\n",
              "      <th>latitude</th>\n",
              "      <td>1</td>\n",
              "    </tr>\n",
              "    <tr>\n",
              "      <th>longitude</th>\n",
              "      <td>1</td>\n",
              "    </tr>\n",
              "    <tr>\n",
              "      <th>geolocation</th>\n",
              "      <td>1</td>\n",
              "    </tr>\n",
              "    <tr>\n",
              "      <th>hazard_type</th>\n",
              "      <td>0</td>\n",
              "    </tr>\n",
              "    <tr>\n",
              "      <th>landslide_type</th>\n",
              "      <td>1</td>\n",
              "    </tr>\n",
              "    <tr>\n",
              "      <th>landslide_size</th>\n",
              "      <td>1</td>\n",
              "    </tr>\n",
              "    <tr>\n",
              "      <th>trigger</th>\n",
              "      <td>2</td>\n",
              "    </tr>\n",
              "    <tr>\n",
              "      <th>injuries</th>\n",
              "      <td>1178</td>\n",
              "    </tr>\n",
              "    <tr>\n",
              "      <th>fatalities</th>\n",
              "      <td>247</td>\n",
              "    </tr>\n",
              "    <tr>\n",
              "      <th>source_name</th>\n",
              "      <td>821</td>\n",
              "    </tr>\n",
              "    <tr>\n",
              "      <th>source_link</th>\n",
              "      <td>100</td>\n",
              "    </tr>\n",
              "  </tbody>\n",
              "</table>\n",
              "</div><br><label><b>dtype:</b> int64</label>"
            ]
          },
          "metadata": {},
          "execution_count": 19
        }
      ],
      "source": [
        "# isnull()\n",
        "data.isnull().sum()"
      ]
    },
    {
      "cell_type": "markdown",
      "id": "2aa282e8-457e-42d2-94fe-50b0b50a6b4c",
      "metadata": {
        "id": "2aa282e8-457e-42d2-94fe-50b0b50a6b4c"
      },
      "source": [
        "Considerando esta situación, ¿que tipo de reemplazo consideran apropiado? ¿cuál debería ser la lógica?\n",
        "\n",
        "Hagamos los pasos necesarios para construir una función. Revisemos cuál es la horá más frecuente:"
      ]
    },
    {
      "cell_type": "code",
      "execution_count": 20,
      "id": "4e17fb08-2b2f-41d7-b9fd-4b76f0f12951",
      "metadata": {
        "id": "4e17fb08-2b2f-41d7-b9fd-4b76f0f12951",
        "colab": {
          "base_uri": "https://localhost:8080/",
          "height": 490
        },
        "outputId": "58c3abb9-454e-4cba-99d7-5f0a98ab3400"
      },
      "outputs": [
        {
          "output_type": "execute_result",
          "data": {
            "text/plain": [
              "time\n",
              "2024-09-24 22:00:00    100\n",
              "2024-09-24 08:00:00     95\n",
              "2024-09-24 13:00:00     65\n",
              "2024-09-24 07:00:00     38\n",
              "2024-09-24 21:00:00     27\n",
              "                      ... \n",
              "2024-09-24 15:45:00      1\n",
              "2024-09-24 16:58:00      1\n",
              "2024-09-24 20:20:00      1\n",
              "2024-09-24 01:30:00      1\n",
              "2024-09-24 21:06:00      1\n",
              "Name: count, Length: 108, dtype: int64"
            ],
            "text/html": [
              "<div>\n",
              "<style scoped>\n",
              "    .dataframe tbody tr th:only-of-type {\n",
              "        vertical-align: middle;\n",
              "    }\n",
              "\n",
              "    .dataframe tbody tr th {\n",
              "        vertical-align: top;\n",
              "    }\n",
              "\n",
              "    .dataframe thead th {\n",
              "        text-align: right;\n",
              "    }\n",
              "</style>\n",
              "<table border=\"1\" class=\"dataframe\">\n",
              "  <thead>\n",
              "    <tr style=\"text-align: right;\">\n",
              "      <th></th>\n",
              "      <th>count</th>\n",
              "    </tr>\n",
              "    <tr>\n",
              "      <th>time</th>\n",
              "      <th></th>\n",
              "    </tr>\n",
              "  </thead>\n",
              "  <tbody>\n",
              "    <tr>\n",
              "      <th>2024-09-24 22:00:00</th>\n",
              "      <td>100</td>\n",
              "    </tr>\n",
              "    <tr>\n",
              "      <th>2024-09-24 08:00:00</th>\n",
              "      <td>95</td>\n",
              "    </tr>\n",
              "    <tr>\n",
              "      <th>2024-09-24 13:00:00</th>\n",
              "      <td>65</td>\n",
              "    </tr>\n",
              "    <tr>\n",
              "      <th>2024-09-24 07:00:00</th>\n",
              "      <td>38</td>\n",
              "    </tr>\n",
              "    <tr>\n",
              "      <th>2024-09-24 21:00:00</th>\n",
              "      <td>27</td>\n",
              "    </tr>\n",
              "    <tr>\n",
              "      <th>...</th>\n",
              "      <td>...</td>\n",
              "    </tr>\n",
              "    <tr>\n",
              "      <th>2024-09-24 15:45:00</th>\n",
              "      <td>1</td>\n",
              "    </tr>\n",
              "    <tr>\n",
              "      <th>2024-09-24 16:58:00</th>\n",
              "      <td>1</td>\n",
              "    </tr>\n",
              "    <tr>\n",
              "      <th>2024-09-24 20:20:00</th>\n",
              "      <td>1</td>\n",
              "    </tr>\n",
              "    <tr>\n",
              "      <th>2024-09-24 01:30:00</th>\n",
              "      <td>1</td>\n",
              "    </tr>\n",
              "    <tr>\n",
              "      <th>2024-09-24 21:06:00</th>\n",
              "      <td>1</td>\n",
              "    </tr>\n",
              "  </tbody>\n",
              "</table>\n",
              "<p>108 rows × 1 columns</p>\n",
              "</div><br><label><b>dtype:</b> int64</label>"
            ]
          },
          "metadata": {},
          "execution_count": 20
        }
      ],
      "source": [
        "data.time.value_counts()"
      ]
    },
    {
      "cell_type": "markdown",
      "id": "34cd7d29-c647-430c-a7b7-be12e0b27670",
      "metadata": {
        "id": "34cd7d29-c647-430c-a7b7-be12e0b27670"
      },
      "source": [
        "Debido a que no hay una **tendencia** significativa, utilizaremos otra técnica:\n",
        "\n",
        "### ```groupby()```\n",
        "\n",
        "Esta función de pandas nos permite agrupar los datos respecto a un conjunto de categorías, donde a su vez les aplicamos una función adicional (media, mediana, moda, etc.)\n",
        "\n",
        "1. Obtener las modas por país"
      ]
    },
    {
      "cell_type": "code",
      "execution_count": 21,
      "id": "0b6b26b5-0c50-44b5-a8c5-d123cd18a9db",
      "metadata": {
        "id": "0b6b26b5-0c50-44b5-a8c5-d123cd18a9db",
        "colab": {
          "base_uri": "https://localhost:8080/"
        },
        "outputId": "012ab92c-6eec-42f9-f233-6c8647f7ae5a"
      },
      "outputs": [
        {
          "output_type": "stream",
          "name": "stdout",
          "text": [
            "country_name\n",
            "Barbados                                           NaT\n",
            "Belize                             2024-09-24 10:00:00\n",
            "Bermuda                            2024-09-24 06:45:00\n",
            "Brazil                             2024-09-24 00:30:00\n",
            "Canada                             2024-09-24 06:00:00\n",
            "Colombia                           2024-09-24 22:00:00\n",
            "Costa Rica                         2024-09-24 13:00:00\n",
            "Cuba                                               NaT\n",
            "Dominica                           2024-09-24 02:00:00\n",
            "Dominican Republic                 2024-09-24 22:00:00\n",
            "Ecuador                            2024-09-24 22:00:00\n",
            "El Salvador                        2024-09-24 22:00:00\n",
            "Grenada                            2024-09-24 03:00:00\n",
            "Guatemala                          2024-09-24 22:00:00\n",
            "Haiti                              1970-01-01 00:00:00\n",
            "Honduras                           2024-09-24 08:00:00\n",
            "Jamaica                            2024-09-24 00:15:00\n",
            "Mexico                             2024-09-24 08:00:00\n",
            "Nicaragua                          2024-09-24 22:00:00\n",
            "Panama                             2024-09-24 08:00:00\n",
            "Peru                               2024-09-24 07:00:00\n",
            "Puerto Rico                        2024-09-24 03:00:00\n",
            "Saint Lucia                        2024-09-24 22:00:00\n",
            "Saint Vincent and the Grenadines   2024-09-24 22:00:00\n",
            "Trinidad and Tobago                2024-09-24 08:00:00\n",
            "U.S. Virgin Islands                                NaT\n",
            "United States                      2024-09-24 08:00:00\n",
            "Venezuela                          2024-09-24 22:00:00\n",
            "Name: time, dtype: datetime64[ns]\n"
          ]
        }
      ],
      "source": [
        "#Veamos cuales es la moda respecto a la hora en que ocurrieron los eventos por país\n",
        "\n",
        "modas = data.groupby('country_name')['time'].agg(\n",
        "    lambda x: x.mode()[0] if not x.mode().empty else None\n",
        ")\n",
        "print(modas)"
      ]
    },
    {
      "cell_type": "markdown",
      "id": "204ab2cc-f3a0-480f-8179-9e035f89710a",
      "metadata": {
        "id": "204ab2cc-f3a0-480f-8179-9e035f89710a"
      },
      "source": [
        "2. Reemplzar los valores tipo NaT por una de las modas más recurrentes: ```2024-01-01 10:00:00```"
      ]
    },
    {
      "cell_type": "code",
      "execution_count": 23,
      "id": "e37eec27-57b2-40ec-8865-3ef56201ca8e",
      "metadata": {
        "id": "e37eec27-57b2-40ec-8865-3ef56201ca8e",
        "colab": {
          "base_uri": "https://localhost:8080/",
          "height": 993
        },
        "outputId": "231e28f0-a879-4836-cf28-b1a38139898c"
      },
      "outputs": [
        {
          "output_type": "execute_result",
          "data": {
            "text/plain": [
              "country_name\n",
              "Barbados                           2024-01-01 10:00:00\n",
              "Belize                             2024-09-24 10:00:00\n",
              "Bermuda                            2024-09-24 06:45:00\n",
              "Brazil                             2024-09-24 00:30:00\n",
              "Canada                             2024-09-24 06:00:00\n",
              "Colombia                           2024-09-24 22:00:00\n",
              "Costa Rica                         2024-09-24 13:00:00\n",
              "Cuba                               2024-01-01 10:00:00\n",
              "Dominica                           2024-09-24 02:00:00\n",
              "Dominican Republic                 2024-09-24 22:00:00\n",
              "Ecuador                            2024-09-24 22:00:00\n",
              "El Salvador                        2024-09-24 22:00:00\n",
              "Grenada                            2024-09-24 03:00:00\n",
              "Guatemala                          2024-09-24 22:00:00\n",
              "Haiti                              1970-01-01 00:00:00\n",
              "Honduras                           2024-09-24 08:00:00\n",
              "Jamaica                            2024-09-24 00:15:00\n",
              "Mexico                             2024-09-24 08:00:00\n",
              "Nicaragua                          2024-09-24 22:00:00\n",
              "Panama                             2024-09-24 08:00:00\n",
              "Peru                               2024-09-24 07:00:00\n",
              "Puerto Rico                        2024-09-24 03:00:00\n",
              "Saint Lucia                        2024-09-24 22:00:00\n",
              "Saint Vincent and the Grenadines   2024-09-24 22:00:00\n",
              "Trinidad and Tobago                2024-09-24 08:00:00\n",
              "U.S. Virgin Islands                2024-01-01 10:00:00\n",
              "United States                      2024-09-24 08:00:00\n",
              "Venezuela                          2024-09-24 22:00:00\n",
              "Name: time, dtype: datetime64[ns]"
            ],
            "text/html": [
              "<div>\n",
              "<style scoped>\n",
              "    .dataframe tbody tr th:only-of-type {\n",
              "        vertical-align: middle;\n",
              "    }\n",
              "\n",
              "    .dataframe tbody tr th {\n",
              "        vertical-align: top;\n",
              "    }\n",
              "\n",
              "    .dataframe thead th {\n",
              "        text-align: right;\n",
              "    }\n",
              "</style>\n",
              "<table border=\"1\" class=\"dataframe\">\n",
              "  <thead>\n",
              "    <tr style=\"text-align: right;\">\n",
              "      <th></th>\n",
              "      <th>time</th>\n",
              "    </tr>\n",
              "    <tr>\n",
              "      <th>country_name</th>\n",
              "      <th></th>\n",
              "    </tr>\n",
              "  </thead>\n",
              "  <tbody>\n",
              "    <tr>\n",
              "      <th>Barbados</th>\n",
              "      <td>2024-01-01 10:00:00</td>\n",
              "    </tr>\n",
              "    <tr>\n",
              "      <th>Belize</th>\n",
              "      <td>2024-09-24 10:00:00</td>\n",
              "    </tr>\n",
              "    <tr>\n",
              "      <th>Bermuda</th>\n",
              "      <td>2024-09-24 06:45:00</td>\n",
              "    </tr>\n",
              "    <tr>\n",
              "      <th>Brazil</th>\n",
              "      <td>2024-09-24 00:30:00</td>\n",
              "    </tr>\n",
              "    <tr>\n",
              "      <th>Canada</th>\n",
              "      <td>2024-09-24 06:00:00</td>\n",
              "    </tr>\n",
              "    <tr>\n",
              "      <th>Colombia</th>\n",
              "      <td>2024-09-24 22:00:00</td>\n",
              "    </tr>\n",
              "    <tr>\n",
              "      <th>Costa Rica</th>\n",
              "      <td>2024-09-24 13:00:00</td>\n",
              "    </tr>\n",
              "    <tr>\n",
              "      <th>Cuba</th>\n",
              "      <td>2024-01-01 10:00:00</td>\n",
              "    </tr>\n",
              "    <tr>\n",
              "      <th>Dominica</th>\n",
              "      <td>2024-09-24 02:00:00</td>\n",
              "    </tr>\n",
              "    <tr>\n",
              "      <th>Dominican Republic</th>\n",
              "      <td>2024-09-24 22:00:00</td>\n",
              "    </tr>\n",
              "    <tr>\n",
              "      <th>Ecuador</th>\n",
              "      <td>2024-09-24 22:00:00</td>\n",
              "    </tr>\n",
              "    <tr>\n",
              "      <th>El Salvador</th>\n",
              "      <td>2024-09-24 22:00:00</td>\n",
              "    </tr>\n",
              "    <tr>\n",
              "      <th>Grenada</th>\n",
              "      <td>2024-09-24 03:00:00</td>\n",
              "    </tr>\n",
              "    <tr>\n",
              "      <th>Guatemala</th>\n",
              "      <td>2024-09-24 22:00:00</td>\n",
              "    </tr>\n",
              "    <tr>\n",
              "      <th>Haiti</th>\n",
              "      <td>1970-01-01 00:00:00</td>\n",
              "    </tr>\n",
              "    <tr>\n",
              "      <th>Honduras</th>\n",
              "      <td>2024-09-24 08:00:00</td>\n",
              "    </tr>\n",
              "    <tr>\n",
              "      <th>Jamaica</th>\n",
              "      <td>2024-09-24 00:15:00</td>\n",
              "    </tr>\n",
              "    <tr>\n",
              "      <th>Mexico</th>\n",
              "      <td>2024-09-24 08:00:00</td>\n",
              "    </tr>\n",
              "    <tr>\n",
              "      <th>Nicaragua</th>\n",
              "      <td>2024-09-24 22:00:00</td>\n",
              "    </tr>\n",
              "    <tr>\n",
              "      <th>Panama</th>\n",
              "      <td>2024-09-24 08:00:00</td>\n",
              "    </tr>\n",
              "    <tr>\n",
              "      <th>Peru</th>\n",
              "      <td>2024-09-24 07:00:00</td>\n",
              "    </tr>\n",
              "    <tr>\n",
              "      <th>Puerto Rico</th>\n",
              "      <td>2024-09-24 03:00:00</td>\n",
              "    </tr>\n",
              "    <tr>\n",
              "      <th>Saint Lucia</th>\n",
              "      <td>2024-09-24 22:00:00</td>\n",
              "    </tr>\n",
              "    <tr>\n",
              "      <th>Saint Vincent and the Grenadines</th>\n",
              "      <td>2024-09-24 22:00:00</td>\n",
              "    </tr>\n",
              "    <tr>\n",
              "      <th>Trinidad and Tobago</th>\n",
              "      <td>2024-09-24 08:00:00</td>\n",
              "    </tr>\n",
              "    <tr>\n",
              "      <th>U.S. Virgin Islands</th>\n",
              "      <td>2024-01-01 10:00:00</td>\n",
              "    </tr>\n",
              "    <tr>\n",
              "      <th>United States</th>\n",
              "      <td>2024-09-24 08:00:00</td>\n",
              "    </tr>\n",
              "    <tr>\n",
              "      <th>Venezuela</th>\n",
              "      <td>2024-09-24 22:00:00</td>\n",
              "    </tr>\n",
              "  </tbody>\n",
              "</table>\n",
              "</div><br><label><b>dtype:</b> datetime64[ns]</label>"
            ]
          },
          "metadata": {},
          "execution_count": 23
        }
      ],
      "source": [
        "modas = modas.fillna(pd.Timestamp('2024-01-01 10:00:00'))\n",
        "modas"
      ]
    },
    {
      "cell_type": "markdown",
      "id": "15bbeaa5-4fd0-4347-bed2-97a5b710c3f4",
      "metadata": {
        "id": "15bbeaa5-4fd0-4347-bed2-97a5b710c3f4"
      },
      "source": [
        "3. Crear una función de reemplzo"
      ]
    },
    {
      "cell_type": "code",
      "execution_count": 24,
      "id": "900f7229-942e-4984-9db4-7023416d0ae4",
      "metadata": {
        "id": "900f7229-942e-4984-9db4-7023416d0ae4"
      },
      "outputs": [],
      "source": [
        "def calcular_moda_y_reemplazar_nan(df, col_x, col_y, hora):\n",
        "    # 1. Agrupar por la columna y calcular la moda de la columna x\n",
        "    modas = df.groupby(col_y)[col_x].agg(\n",
        "        lambda x: x.mode()[0] if not x.mode().empty else None\n",
        "    )\n",
        "\n",
        "    # 2. Reemplazar cualquier NaT que no se haya reemplazado con un valor específico\n",
        "    df[col_x] = df[col_x].fillna(pd.Timestamp(hora))\n",
        "\n",
        "    # 3. Reemplazar los NaT en el DataFrame original con las modas\n",
        "    for valor, moda in modas.items():\n",
        "        df.loc[(df[col_y] == valor) & (df[col_x].isna()), col_x] = moda\n",
        "\n",
        "\n",
        "\n",
        "    return df\n",
        "\n",
        "\n",
        "\n",
        "df = calcular_moda_y_reemplazar_nan(data, 'time', 'country_name', '2024-09-20 10:00:00')"
      ]
    },
    {
      "cell_type": "markdown",
      "id": "758fc5a5-1d1c-4cef-87b6-49c6902afd6d",
      "metadata": {
        "id": "758fc5a5-1d1c-4cef-87b6-49c6902afd6d"
      },
      "source": [
        "1) ```df.groupby(col_y)```: Agrupa el DataFrame por la columna ```col_y```, es decir, por los nombres de los países.\n",
        "2) ```[col_x]```: Selecciona la columna ```col_x``` (donde se encuentran los valores que queremos reemplazar).\n",
        "3) ```.agg(...)```: Aplica una función de agregación a cada grupo.\n",
        "\n",
        " ```lambda x: x.mode()[0] if not x.mode().empty else None:```\n",
        "\n",
        "- Calcula la moda de los valores en cada grupo.\n",
        "- ```x.mode()``` devuelve una Serie con los valores más frecuentes.\n",
        "\n",
        "Si hay una moda, toma el primer valor ([0]), y si no hay moda, devuelve None.\n",
        "\n",
        "-----------------------------------------------------------------------------------------------------------------------------------------------------------\n",
        "\n",
        "Ahora, impriman un ```value_counts()``` de la columna **time** para ver como quedo:"
      ]
    },
    {
      "cell_type": "code",
      "execution_count": 25,
      "id": "72f22c75-5619-4a2d-b152-c1590fd88018",
      "metadata": {
        "id": "72f22c75-5619-4a2d-b152-c1590fd88018",
        "colab": {
          "base_uri": "https://localhost:8080/",
          "height": 490
        },
        "outputId": "91724e69-1e00-4930-e760-66a6e132dd54"
      },
      "outputs": [
        {
          "output_type": "execute_result",
          "data": {
            "text/plain": [
              "time\n",
              "2024-09-20 10:00:00    1064\n",
              "2024-09-24 22:00:00     100\n",
              "2024-09-24 08:00:00      95\n",
              "2024-09-24 13:00:00      65\n",
              "2024-09-24 07:00:00      38\n",
              "                       ... \n",
              "2024-09-24 15:15:00       1\n",
              "2024-09-24 19:45:00       1\n",
              "2024-09-24 04:55:00       1\n",
              "2024-09-24 06:15:00       1\n",
              "2024-09-24 21:06:00       1\n",
              "Name: count, Length: 109, dtype: int64"
            ],
            "text/html": [
              "<div>\n",
              "<style scoped>\n",
              "    .dataframe tbody tr th:only-of-type {\n",
              "        vertical-align: middle;\n",
              "    }\n",
              "\n",
              "    .dataframe tbody tr th {\n",
              "        vertical-align: top;\n",
              "    }\n",
              "\n",
              "    .dataframe thead th {\n",
              "        text-align: right;\n",
              "    }\n",
              "</style>\n",
              "<table border=\"1\" class=\"dataframe\">\n",
              "  <thead>\n",
              "    <tr style=\"text-align: right;\">\n",
              "      <th></th>\n",
              "      <th>count</th>\n",
              "    </tr>\n",
              "    <tr>\n",
              "      <th>time</th>\n",
              "      <th></th>\n",
              "    </tr>\n",
              "  </thead>\n",
              "  <tbody>\n",
              "    <tr>\n",
              "      <th>2024-09-20 10:00:00</th>\n",
              "      <td>1064</td>\n",
              "    </tr>\n",
              "    <tr>\n",
              "      <th>2024-09-24 22:00:00</th>\n",
              "      <td>100</td>\n",
              "    </tr>\n",
              "    <tr>\n",
              "      <th>2024-09-24 08:00:00</th>\n",
              "      <td>95</td>\n",
              "    </tr>\n",
              "    <tr>\n",
              "      <th>2024-09-24 13:00:00</th>\n",
              "      <td>65</td>\n",
              "    </tr>\n",
              "    <tr>\n",
              "      <th>2024-09-24 07:00:00</th>\n",
              "      <td>38</td>\n",
              "    </tr>\n",
              "    <tr>\n",
              "      <th>...</th>\n",
              "      <td>...</td>\n",
              "    </tr>\n",
              "    <tr>\n",
              "      <th>2024-09-24 15:15:00</th>\n",
              "      <td>1</td>\n",
              "    </tr>\n",
              "    <tr>\n",
              "      <th>2024-09-24 19:45:00</th>\n",
              "      <td>1</td>\n",
              "    </tr>\n",
              "    <tr>\n",
              "      <th>2024-09-24 04:55:00</th>\n",
              "      <td>1</td>\n",
              "    </tr>\n",
              "    <tr>\n",
              "      <th>2024-09-24 06:15:00</th>\n",
              "      <td>1</td>\n",
              "    </tr>\n",
              "    <tr>\n",
              "      <th>2024-09-24 21:06:00</th>\n",
              "      <td>1</td>\n",
              "    </tr>\n",
              "  </tbody>\n",
              "</table>\n",
              "<p>109 rows × 1 columns</p>\n",
              "</div><br><label><b>dtype:</b> int64</label>"
            ]
          },
          "metadata": {},
          "execution_count": 25
        }
      ],
      "source": [
        "# value_counts()\n",
        "data.time.value_counts()"
      ]
    },
    {
      "cell_type": "markdown",
      "id": "e93eadeb-6175-4c2b-9fc9-c34f2f404995",
      "metadata": {
        "id": "e93eadeb-6175-4c2b-9fc9-c34f2f404995"
      },
      "source": [
        "Ahora hagamos un ```dropna()``` en toda la base de datos:"
      ]
    },
    {
      "cell_type": "code",
      "execution_count": 26,
      "id": "5f0637ea-fd7d-4520-818b-e1abdf32fe6d",
      "metadata": {
        "id": "5f0637ea-fd7d-4520-818b-e1abdf32fe6d",
        "colab": {
          "base_uri": "https://localhost:8080/"
        },
        "outputId": "acad26e0-6121-4b85-a8e4-0a2f219c6f35"
      },
      "outputs": [
        {
          "output_type": "execute_result",
          "data": {
            "text/plain": [
              "(486, 20)"
            ]
          },
          "metadata": {},
          "execution_count": 26
        }
      ],
      "source": [
        "df.dropna(inplace = True)\n",
        "df.shape"
      ]
    },
    {
      "cell_type": "markdown",
      "id": "e008a7a7-4772-4b42-9a16-ebba01e9c87e",
      "metadata": {
        "id": "e008a7a7-4772-4b42-9a16-ebba01e9c87e"
      },
      "source": [
        "## **Análisis**\n",
        "\n",
        "Vamos a extraer la información de las columnas de **date** y **time** para responder algunas preguntas de análisis:\n",
        "\n",
        "### Més"
      ]
    },
    {
      "cell_type": "code",
      "execution_count": 27,
      "id": "b1d8edbe-38da-47d3-9840-5ea6d96b3783",
      "metadata": {
        "id": "b1d8edbe-38da-47d3-9840-5ea6d96b3783"
      },
      "outputs": [],
      "source": [
        "# creamos la columna mes\n",
        "df['month'] = df['date'].dt.month"
      ]
    },
    {
      "cell_type": "markdown",
      "id": "acc4d9fe-ac9f-4128-aa37-8f6bd7054541",
      "metadata": {
        "id": "acc4d9fe-ac9f-4128-aa37-8f6bd7054541"
      },
      "source": [
        "### Año"
      ]
    },
    {
      "cell_type": "code",
      "execution_count": 28,
      "id": "2e26f65a-1db4-4d60-b81b-38710cb4eeee",
      "metadata": {
        "id": "2e26f65a-1db4-4d60-b81b-38710cb4eeee"
      },
      "outputs": [],
      "source": [
        "df['year'] = df['date'].dt.year"
      ]
    },
    {
      "cell_type": "code",
      "source": [
        "df.year"
      ],
      "metadata": {
        "colab": {
          "base_uri": "https://localhost:8080/",
          "height": 458
        },
        "id": "khbZILh2yrry",
        "outputId": "3aaf16de-add1-4fb4-f7b1-266499ea21ca"
      },
      "id": "khbZILh2yrry",
      "execution_count": 30,
      "outputs": [
        {
          "output_type": "execute_result",
          "data": {
            "text/plain": [
              "168     2008\n",
              "217     2009\n",
              "252     2010\n",
              "346     2010\n",
              "520     2010\n",
              "        ... \n",
              "1687    2015\n",
              "1689    2016\n",
              "1690    2016\n",
              "1691    2016\n",
              "1692    2016\n",
              "Name: year, Length: 486, dtype: int32"
            ],
            "text/html": [
              "<div>\n",
              "<style scoped>\n",
              "    .dataframe tbody tr th:only-of-type {\n",
              "        vertical-align: middle;\n",
              "    }\n",
              "\n",
              "    .dataframe tbody tr th {\n",
              "        vertical-align: top;\n",
              "    }\n",
              "\n",
              "    .dataframe thead th {\n",
              "        text-align: right;\n",
              "    }\n",
              "</style>\n",
              "<table border=\"1\" class=\"dataframe\">\n",
              "  <thead>\n",
              "    <tr style=\"text-align: right;\">\n",
              "      <th></th>\n",
              "      <th>year</th>\n",
              "    </tr>\n",
              "  </thead>\n",
              "  <tbody>\n",
              "    <tr>\n",
              "      <th>168</th>\n",
              "      <td>2008</td>\n",
              "    </tr>\n",
              "    <tr>\n",
              "      <th>217</th>\n",
              "      <td>2009</td>\n",
              "    </tr>\n",
              "    <tr>\n",
              "      <th>252</th>\n",
              "      <td>2010</td>\n",
              "    </tr>\n",
              "    <tr>\n",
              "      <th>346</th>\n",
              "      <td>2010</td>\n",
              "    </tr>\n",
              "    <tr>\n",
              "      <th>520</th>\n",
              "      <td>2010</td>\n",
              "    </tr>\n",
              "    <tr>\n",
              "      <th>...</th>\n",
              "      <td>...</td>\n",
              "    </tr>\n",
              "    <tr>\n",
              "      <th>1687</th>\n",
              "      <td>2015</td>\n",
              "    </tr>\n",
              "    <tr>\n",
              "      <th>1689</th>\n",
              "      <td>2016</td>\n",
              "    </tr>\n",
              "    <tr>\n",
              "      <th>1690</th>\n",
              "      <td>2016</td>\n",
              "    </tr>\n",
              "    <tr>\n",
              "      <th>1691</th>\n",
              "      <td>2016</td>\n",
              "    </tr>\n",
              "    <tr>\n",
              "      <th>1692</th>\n",
              "      <td>2016</td>\n",
              "    </tr>\n",
              "  </tbody>\n",
              "</table>\n",
              "<p>486 rows × 1 columns</p>\n",
              "</div><br><label><b>dtype:</b> int32</label>"
            ]
          },
          "metadata": {},
          "execution_count": 30
        }
      ]
    },
    {
      "cell_type": "markdown",
      "id": "4ba313e3-32f0-45f9-8194-2298f3342ae0",
      "metadata": {
        "id": "4ba313e3-32f0-45f9-8194-2298f3342ae0"
      },
      "source": [
        "*Las siguientes preguntas aparecerán en su actividad 2.2*\n",
        "\n",
        "a) ¿En que mes se detectaron más avalanchas? (pueden utilizar: ```.value_counts(normalize = True)```)\n",
        "\n",
        "b) ¿En que país se detectaron más muertes promedio? (pueden utilizar: ```groupby()[].agg['mean']```).\n",
        "\n",
        "c) Considerando solo Estados Unidos, ¿en que estado las avalanchas fueron más largas (*distance*) en promedio)?\n",
        "\n",
        "Pueden consultar el siguiente <a href=\"https://www.weforum.org/agenda/2016/04/does-this-explain-why-some-landslides-travel-much-further-than-others/\">artículo</a> para complementar su respuesta.\n",
        "\n"
      ]
    },
    {
      "cell_type": "code",
      "execution_count": null,
      "id": "cfa9f16d-26ce-471a-aa87-e225b07feef5",
      "metadata": {
        "id": "cfa9f16d-26ce-471a-aa87-e225b07feef5"
      },
      "outputs": [],
      "source": [
        "# a)"
      ]
    },
    {
      "cell_type": "code",
      "execution_count": null,
      "id": "a70a154d-58a5-4ddc-a6ad-90610aef5051",
      "metadata": {
        "id": "a70a154d-58a5-4ddc-a6ad-90610aef5051"
      },
      "outputs": [],
      "source": [
        "# b)"
      ]
    },
    {
      "cell_type": "code",
      "execution_count": null,
      "id": "3d22d926-cc25-40f4-8b0d-6a29ad40ccfc",
      "metadata": {
        "id": "3d22d926-cc25-40f4-8b0d-6a29ad40ccfc"
      },
      "outputs": [],
      "source": [
        "# c)"
      ]
    }
  ],
  "metadata": {
    "kernelspec": {
      "display_name": "Python 3 (ipykernel)",
      "language": "python",
      "name": "python3"
    },
    "language_info": {
      "codemirror_mode": {
        "name": "ipython",
        "version": 3
      },
      "file_extension": ".py",
      "mimetype": "text/x-python",
      "name": "python",
      "nbconvert_exporter": "python",
      "pygments_lexer": "ipython3",
      "version": "3.11.7"
    },
    "colab": {
      "provenance": []
    }
  },
  "nbformat": 4,
  "nbformat_minor": 5
}