{
 "cells": [
  {
   "cell_type": "markdown",
   "id": "31b0807a-ece6-4d43-824c-fd83700754da",
   "metadata": {},
   "source": [
    "# Módulo 2\n",
    "**Desarrollo de proyectos de análisis de datos  IN1002B**\n",
    "\n",
    "### Tipos de datos, indexación y datos perdidos. \n",
    "\n",
    "**Librerías**\n",
    "\n",
    "Dependiendo de lo que se requiera (manejo de datos, visualización, modelos), debemos importar las librerías necesarias. \n"
   ]
  },
  {
   "cell_type": "code",
   "execution_count": 2,
   "id": "1a56fe72-078a-4f48-bd39-647500e775a5",
   "metadata": {},
   "outputs": [],
   "source": [
    "import pandas as pd\n",
    "import numpy as np"
   ]
  },
  {
   "cell_type": "markdown",
   "id": "1d215933-6de7-430f-a8c1-98e69e91e9c0",
   "metadata": {},
   "source": [
    "**Cargar los datos**\n",
    "\n",
    "Hay diversas formas de llamar a una base de datos,para este curso utilizaremos la función de ``` pd.read_csv('')``` o bien la de ``` pd.read_excel('')``` de pandas.\n",
    "\n",
    "Solo deben de tener la precaución de tener su base de datos dentro de la carpeta donde se este haciendo el notebook."
   ]
  },
  {
   "cell_type": "code",
   "execution_count": 2,
   "id": "5e9025b9-5bc9-4e4f-a5b9-8ff731394995",
   "metadata": {},
   "outputs": [],
   "source": [
    "data = pd.read_csv(\"Data/retail.csv\")"
   ]
  },
  {
   "cell_type": "markdown",
   "id": "335ccd9d-97f0-410d-80f7-cfce7200631c",
   "metadata": {},
   "source": [
    "**Información general de los datos**\n",
    "\n",
    "Una parte fundamental es saber como esta estructurada nuestra base de datos, es decir, saber:\n",
    "* ¿Cuántas columnas tiene?\n",
    "* ¿Cuántas filas?\n",
    "* ¿Qué tipo de datos son?\n",
    "* ¿Hay caractéres especiales?\n",
    "* ¿Tenemos faltantes?\n",
    "\n",
    "```info()```\n",
    "\n",
    "Nos da respuesta a gran parte de las preguntas anteriores, podemos ver las dimensiones de la base y tipos de datos."
   ]
  },
  {
   "cell_type": "code",
   "execution_count": 3,
   "id": "f3ca68f0-c09b-43ba-b04a-00c3f5c31eca",
   "metadata": {},
   "outputs": [
    {
     "name": "stdout",
     "output_type": "stream",
     "text": [
      "<class 'pandas.core.frame.DataFrame'>\n",
      "RangeIndex: 1000 entries, 0 to 999\n",
      "Data columns (total 12 columns):\n",
      " #   Column                 Non-Null Count  Dtype  \n",
      "---  ------                 --------------  -----  \n",
      " 0   Unnamed: 0             1000 non-null   int64  \n",
      " 1   Store ID               1000 non-null   object \n",
      " 2   Product ID             1000 non-null   int64  \n",
      " 3   Date                   1000 non-null   object \n",
      " 4   Units Sold             1000 non-null   int64  \n",
      " 5   Sales Revenue (USD)    1000 non-null   float64\n",
      " 6   Discount Percentage    1000 non-null   int64  \n",
      " 7   Marketing Spend (USD)  1000 non-null   int64  \n",
      " 8   Store Location         1000 non-null   object \n",
      " 9   Product Category       1000 non-null   object \n",
      " 10  Day of the Week        1000 non-null   object \n",
      " 11  Holiday Effect         1000 non-null   bool   \n",
      "dtypes: bool(1), float64(1), int64(5), object(5)\n",
      "memory usage: 87.0+ KB\n"
     ]
    }
   ],
   "source": [
    "data.info()"
   ]
  },
  {
   "cell_type": "markdown",
   "id": "2d0b04bf-cf41-4dd7-8eef-6dc0e9fb7b30",
   "metadata": {},
   "source": [
    "object = texto \n",
    "\n",
    "```head()```\n",
    "\n",
    "Como dice su nombre, esta función nos permite las primeras filas de la base, es muy importante para saber como estan capturados los registros que tenemos."
   ]
  },
  {
   "cell_type": "code",
   "execution_count": 4,
   "id": "8088e37c-7037-44a4-b9de-67c27db1e42d",
   "metadata": {},
   "outputs": [
    {
     "data": {
      "text/html": [
       "<div>\n",
       "<style scoped>\n",
       "    .dataframe tbody tr th:only-of-type {\n",
       "        vertical-align: middle;\n",
       "    }\n",
       "\n",
       "    .dataframe tbody tr th {\n",
       "        vertical-align: top;\n",
       "    }\n",
       "\n",
       "    .dataframe thead th {\n",
       "        text-align: right;\n",
       "    }\n",
       "</style>\n",
       "<table border=\"1\" class=\"dataframe\">\n",
       "  <thead>\n",
       "    <tr style=\"text-align: right;\">\n",
       "      <th></th>\n",
       "      <th>Unnamed: 0</th>\n",
       "      <th>Store ID</th>\n",
       "      <th>Product ID</th>\n",
       "      <th>Date</th>\n",
       "      <th>Units Sold</th>\n",
       "      <th>Sales Revenue (USD)</th>\n",
       "      <th>Discount Percentage</th>\n",
       "      <th>Marketing Spend (USD)</th>\n",
       "      <th>Store Location</th>\n",
       "      <th>Product Category</th>\n",
       "      <th>Day of the Week</th>\n",
       "      <th>Holiday Effect</th>\n",
       "    </tr>\n",
       "  </thead>\n",
       "  <tbody>\n",
       "    <tr>\n",
       "      <th>0</th>\n",
       "      <td>20339</td>\n",
       "      <td>Spearsland</td>\n",
       "      <td>93691949</td>\n",
       "      <td>2023-08-26</td>\n",
       "      <td>4</td>\n",
       "      <td>2076.36</td>\n",
       "      <td>0</td>\n",
       "      <td>112</td>\n",
       "      <td>Turkey</td>\n",
       "      <td>Clothing</td>\n",
       "      <td>Saturday</td>\n",
       "      <td>False</td>\n",
       "    </tr>\n",
       "    <tr>\n",
       "      <th>1</th>\n",
       "      <td>21879</td>\n",
       "      <td>Spearsland</td>\n",
       "      <td>56655933</td>\n",
       "      <td>2023-11-12</td>\n",
       "      <td>3</td>\n",
       "      <td>167.97</td>\n",
       "      <td>0</td>\n",
       "      <td>121</td>\n",
       "      <td>Malaysia</td>\n",
       "      <td>Furniture</td>\n",
       "      <td>Sunday</td>\n",
       "      <td>False</td>\n",
       "    </tr>\n",
       "    <tr>\n",
       "      <th>2</th>\n",
       "      <td>3900</td>\n",
       "      <td>Spearsland</td>\n",
       "      <td>34892534</td>\n",
       "      <td>2022-09-03</td>\n",
       "      <td>10</td>\n",
       "      <td>1644.30</td>\n",
       "      <td>0</td>\n",
       "      <td>9</td>\n",
       "      <td>Togo</td>\n",
       "      <td>Furniture</td>\n",
       "      <td>Saturday</td>\n",
       "      <td>False</td>\n",
       "    </tr>\n",
       "    <tr>\n",
       "      <th>3</th>\n",
       "      <td>27620</td>\n",
       "      <td>Spearsland</td>\n",
       "      <td>22571670</td>\n",
       "      <td>2023-07-28</td>\n",
       "      <td>10</td>\n",
       "      <td>1067.00</td>\n",
       "      <td>0</td>\n",
       "      <td>98</td>\n",
       "      <td>Mozambique</td>\n",
       "      <td>Electronics</td>\n",
       "      <td>Friday</td>\n",
       "      <td>False</td>\n",
       "    </tr>\n",
       "    <tr>\n",
       "      <th>4</th>\n",
       "      <td>8282</td>\n",
       "      <td>Spearsland</td>\n",
       "      <td>30776388</td>\n",
       "      <td>2022-08-30</td>\n",
       "      <td>6</td>\n",
       "      <td>5821.26</td>\n",
       "      <td>0</td>\n",
       "      <td>127</td>\n",
       "      <td>Nauru</td>\n",
       "      <td>Electronics</td>\n",
       "      <td>Tuesday</td>\n",
       "      <td>False</td>\n",
       "    </tr>\n",
       "  </tbody>\n",
       "</table>\n",
       "</div>"
      ],
      "text/plain": [
       "   Unnamed: 0    Store ID  Product ID        Date  Units Sold  \\\n",
       "0       20339  Spearsland    93691949  2023-08-26           4   \n",
       "1       21879  Spearsland    56655933  2023-11-12           3   \n",
       "2        3900  Spearsland    34892534  2022-09-03          10   \n",
       "3       27620  Spearsland    22571670  2023-07-28          10   \n",
       "4        8282  Spearsland    30776388  2022-08-30           6   \n",
       "\n",
       "   Sales Revenue (USD)  Discount Percentage  Marketing Spend (USD)  \\\n",
       "0              2076.36                    0                    112   \n",
       "1               167.97                    0                    121   \n",
       "2              1644.30                    0                      9   \n",
       "3              1067.00                    0                     98   \n",
       "4              5821.26                    0                    127   \n",
       "\n",
       "  Store Location Product Category Day of the Week  Holiday Effect  \n",
       "0         Turkey         Clothing        Saturday           False  \n",
       "1       Malaysia        Furniture          Sunday           False  \n",
       "2           Togo        Furniture        Saturday           False  \n",
       "3     Mozambique      Electronics          Friday           False  \n",
       "4          Nauru      Electronics         Tuesday           False  "
      ]
     },
     "execution_count": 4,
     "metadata": {},
     "output_type": "execute_result"
    }
   ],
   "source": [
    "data.head()"
   ]
  },
  {
   "cell_type": "markdown",
   "id": "1417d88b-e759-43a7-b87b-432643e7c367",
   "metadata": {},
   "source": [
    "```isnull()```\n",
    "\n",
    "Esta función nos ayuda a detectar los faltantes, en conjunto con ```sum()``` la podemos aplicar a la base de datos para ver cuántos valores nos faltan por columna."
   ]
  },
  {
   "cell_type": "code",
   "execution_count": 5,
   "id": "1a663ebe-78b1-4bce-bb44-042102e401fa",
   "metadata": {},
   "outputs": [
    {
     "data": {
      "text/plain": [
       "Unnamed: 0               0\n",
       "Store ID                 0\n",
       "Product ID               0\n",
       "Date                     0\n",
       "Units Sold               0\n",
       "Sales Revenue (USD)      0\n",
       "Discount Percentage      0\n",
       "Marketing Spend (USD)    0\n",
       "Store Location           0\n",
       "Product Category         0\n",
       "Day of the Week          0\n",
       "Holiday Effect           0\n",
       "dtype: int64"
      ]
     },
     "execution_count": 5,
     "metadata": {},
     "output_type": "execute_result"
    }
   ],
   "source": [
    "data.isnull().sum()"
   ]
  },
  {
   "cell_type": "markdown",
   "id": "9ba0b71e-67dc-4530-bfde-8bc82d8e7631",
   "metadata": {},
   "source": [
    "## **Indexación**  \n",
    "Cuando necesitamos acceder a los elementos de una columna, podemos acerlo de varias formas:\n",
    "\n",
    "### **Columnas**"
   ]
  },
  {
   "cell_type": "code",
   "execution_count": 6,
   "id": "92342dac-d6fe-4244-a298-b5b61fc2da78",
   "metadata": {},
   "outputs": [
    {
     "data": {
      "text/plain": [
       "0      2023-08-26\n",
       "1      2023-11-12\n",
       "2      2022-09-03\n",
       "3      2023-07-28\n",
       "4      2022-08-30\n",
       "          ...    \n",
       "995    2023-04-19\n",
       "996    2022-01-11\n",
       "997    2022-09-12\n",
       "998    2022-04-24\n",
       "999    2022-06-23\n",
       "Name: Date, Length: 1000, dtype: object"
      ]
     },
     "execution_count": 6,
     "metadata": {},
     "output_type": "execute_result"
    }
   ],
   "source": [
    "data.Date  "
   ]
  },
  {
   "cell_type": "code",
   "execution_count": 7,
   "id": "79f86569-320e-470d-8923-d951370d9d11",
   "metadata": {},
   "outputs": [
    {
     "data": {
      "text/plain": [
       "0      Spearsland\n",
       "1      Spearsland\n",
       "2      Spearsland\n",
       "3      Spearsland\n",
       "4      Spearsland\n",
       "          ...    \n",
       "995    Spearsland\n",
       "996    Spearsland\n",
       "997    Spearsland\n",
       "998    Spearsland\n",
       "999    Spearsland\n",
       "Name: Store ID, Length: 1000, dtype: object"
      ]
     },
     "execution_count": 7,
     "metadata": {},
     "output_type": "execute_result"
    }
   ],
   "source": [
    "data['Store ID']"
   ]
  },
  {
   "cell_type": "code",
   "execution_count": 8,
   "id": "c2862e70-c7f3-4463-a8f6-e8faf94bd15a",
   "metadata": {},
   "outputs": [
    {
     "data": {
      "text/plain": [
       "0      2023-08-26\n",
       "1      2023-11-12\n",
       "2      2022-09-03\n",
       "3      2023-07-28\n",
       "4      2022-08-30\n",
       "          ...    \n",
       "995    2023-04-19\n",
       "996    2022-01-11\n",
       "997    2022-09-12\n",
       "998    2022-04-24\n",
       "999    2022-06-23\n",
       "Name: Date, Length: 1000, dtype: object"
      ]
     },
     "execution_count": 8,
     "metadata": {},
     "output_type": "execute_result"
    }
   ],
   "source": [
    "#elementos de la columna 3\n",
    "data.iloc[:, 3]"
   ]
  },
  {
   "cell_type": "code",
   "execution_count": 11,
   "id": "a2be56fa-976d-4278-9110-c98a27714319",
   "metadata": {},
   "outputs": [
    {
     "data": {
      "text/html": [
       "<div>\n",
       "<style scoped>\n",
       "    .dataframe tbody tr th:only-of-type {\n",
       "        vertical-align: middle;\n",
       "    }\n",
       "\n",
       "    .dataframe tbody tr th {\n",
       "        vertical-align: top;\n",
       "    }\n",
       "\n",
       "    .dataframe thead th {\n",
       "        text-align: right;\n",
       "    }\n",
       "</style>\n",
       "<table border=\"1\" class=\"dataframe\">\n",
       "  <thead>\n",
       "    <tr style=\"text-align: right;\">\n",
       "      <th></th>\n",
       "      <th>Units Sold</th>\n",
       "      <th>Sales Revenue (USD)</th>\n",
       "      <th>Discount Percentage</th>\n",
       "      <th>Marketing Spend (USD)</th>\n",
       "    </tr>\n",
       "  </thead>\n",
       "  <tbody>\n",
       "    <tr>\n",
       "      <th>0</th>\n",
       "      <td>4</td>\n",
       "      <td>2076.36</td>\n",
       "      <td>0</td>\n",
       "      <td>112</td>\n",
       "    </tr>\n",
       "    <tr>\n",
       "      <th>1</th>\n",
       "      <td>3</td>\n",
       "      <td>167.97</td>\n",
       "      <td>0</td>\n",
       "      <td>121</td>\n",
       "    </tr>\n",
       "    <tr>\n",
       "      <th>2</th>\n",
       "      <td>10</td>\n",
       "      <td>1644.30</td>\n",
       "      <td>0</td>\n",
       "      <td>9</td>\n",
       "    </tr>\n",
       "    <tr>\n",
       "      <th>3</th>\n",
       "      <td>10</td>\n",
       "      <td>1067.00</td>\n",
       "      <td>0</td>\n",
       "      <td>98</td>\n",
       "    </tr>\n",
       "    <tr>\n",
       "      <th>4</th>\n",
       "      <td>6</td>\n",
       "      <td>5821.26</td>\n",
       "      <td>0</td>\n",
       "      <td>127</td>\n",
       "    </tr>\n",
       "    <tr>\n",
       "      <th>5</th>\n",
       "      <td>6</td>\n",
       "      <td>1149.42</td>\n",
       "      <td>0</td>\n",
       "      <td>85</td>\n",
       "    </tr>\n",
       "    <tr>\n",
       "      <th>6</th>\n",
       "      <td>5</td>\n",
       "      <td>533.50</td>\n",
       "      <td>0</td>\n",
       "      <td>0</td>\n",
       "    </tr>\n",
       "    <tr>\n",
       "      <th>7</th>\n",
       "      <td>10</td>\n",
       "      <td>6186.51</td>\n",
       "      <td>10</td>\n",
       "      <td>0</td>\n",
       "    </tr>\n",
       "    <tr>\n",
       "      <th>8</th>\n",
       "      <td>9</td>\n",
       "      <td>4011.75</td>\n",
       "      <td>0</td>\n",
       "      <td>27</td>\n",
       "    </tr>\n",
       "    <tr>\n",
       "      <th>9</th>\n",
       "      <td>6</td>\n",
       "      <td>5696.40</td>\n",
       "      <td>0</td>\n",
       "      <td>133</td>\n",
       "    </tr>\n",
       "  </tbody>\n",
       "</table>\n",
       "</div>"
      ],
      "text/plain": [
       "   Units Sold  Sales Revenue (USD)  Discount Percentage  Marketing Spend (USD)\n",
       "0           4              2076.36                    0                    112\n",
       "1           3               167.97                    0                    121\n",
       "2          10              1644.30                    0                      9\n",
       "3          10              1067.00                    0                     98\n",
       "4           6              5821.26                    0                    127\n",
       "5           6              1149.42                    0                     85\n",
       "6           5               533.50                    0                      0\n",
       "7          10              6186.51                   10                      0\n",
       "8           9              4011.75                    0                     27\n",
       "9           6              5696.40                    0                    133"
      ]
     },
     "execution_count": 11,
     "metadata": {},
     "output_type": "execute_result"
    }
   ],
   "source": [
    "# Columnas 4 a la 8\n",
    "data.iloc[0:10, 4:8]"
   ]
  },
  {
   "cell_type": "markdown",
   "id": "bf1a724b-75e7-4e2f-977b-53443d1962f8",
   "metadata": {},
   "source": [
    "### **Filas**"
   ]
  },
  {
   "cell_type": "code",
   "execution_count": 10,
   "id": "5418b2c3-8749-4dcc-b79b-259b113efd47",
   "metadata": {},
   "outputs": [
    {
     "data": {
      "text/html": [
       "<div>\n",
       "<style scoped>\n",
       "    .dataframe tbody tr th:only-of-type {\n",
       "        vertical-align: middle;\n",
       "    }\n",
       "\n",
       "    .dataframe tbody tr th {\n",
       "        vertical-align: top;\n",
       "    }\n",
       "\n",
       "    .dataframe thead th {\n",
       "        text-align: right;\n",
       "    }\n",
       "</style>\n",
       "<table border=\"1\" class=\"dataframe\">\n",
       "  <thead>\n",
       "    <tr style=\"text-align: right;\">\n",
       "      <th></th>\n",
       "      <th>Unnamed: 0</th>\n",
       "      <th>Store ID</th>\n",
       "      <th>Product ID</th>\n",
       "      <th>Date</th>\n",
       "      <th>Units Sold</th>\n",
       "      <th>Sales Revenue (USD)</th>\n",
       "      <th>Discount Percentage</th>\n",
       "      <th>Marketing Spend (USD)</th>\n",
       "      <th>Store Location</th>\n",
       "      <th>Product Category</th>\n",
       "      <th>Day of the Week</th>\n",
       "      <th>Holiday Effect</th>\n",
       "    </tr>\n",
       "  </thead>\n",
       "  <tbody>\n",
       "    <tr>\n",
       "      <th>0</th>\n",
       "      <td>20339</td>\n",
       "      <td>Spearsland</td>\n",
       "      <td>93691949</td>\n",
       "      <td>2023-08-26</td>\n",
       "      <td>4</td>\n",
       "      <td>2076.36</td>\n",
       "      <td>0</td>\n",
       "      <td>112</td>\n",
       "      <td>Turkey</td>\n",
       "      <td>Clothing</td>\n",
       "      <td>Saturday</td>\n",
       "      <td>False</td>\n",
       "    </tr>\n",
       "    <tr>\n",
       "      <th>1</th>\n",
       "      <td>21879</td>\n",
       "      <td>Spearsland</td>\n",
       "      <td>56655933</td>\n",
       "      <td>2023-11-12</td>\n",
       "      <td>3</td>\n",
       "      <td>167.97</td>\n",
       "      <td>0</td>\n",
       "      <td>121</td>\n",
       "      <td>Malaysia</td>\n",
       "      <td>Furniture</td>\n",
       "      <td>Sunday</td>\n",
       "      <td>False</td>\n",
       "    </tr>\n",
       "    <tr>\n",
       "      <th>2</th>\n",
       "      <td>3900</td>\n",
       "      <td>Spearsland</td>\n",
       "      <td>34892534</td>\n",
       "      <td>2022-09-03</td>\n",
       "      <td>10</td>\n",
       "      <td>1644.30</td>\n",
       "      <td>0</td>\n",
       "      <td>9</td>\n",
       "      <td>Togo</td>\n",
       "      <td>Furniture</td>\n",
       "      <td>Saturday</td>\n",
       "      <td>False</td>\n",
       "    </tr>\n",
       "    <tr>\n",
       "      <th>3</th>\n",
       "      <td>27620</td>\n",
       "      <td>Spearsland</td>\n",
       "      <td>22571670</td>\n",
       "      <td>2023-07-28</td>\n",
       "      <td>10</td>\n",
       "      <td>1067.00</td>\n",
       "      <td>0</td>\n",
       "      <td>98</td>\n",
       "      <td>Mozambique</td>\n",
       "      <td>Electronics</td>\n",
       "      <td>Friday</td>\n",
       "      <td>False</td>\n",
       "    </tr>\n",
       "    <tr>\n",
       "      <th>4</th>\n",
       "      <td>8282</td>\n",
       "      <td>Spearsland</td>\n",
       "      <td>30776388</td>\n",
       "      <td>2022-08-30</td>\n",
       "      <td>6</td>\n",
       "      <td>5821.26</td>\n",
       "      <td>0</td>\n",
       "      <td>127</td>\n",
       "      <td>Nauru</td>\n",
       "      <td>Electronics</td>\n",
       "      <td>Tuesday</td>\n",
       "      <td>False</td>\n",
       "    </tr>\n",
       "    <tr>\n",
       "      <th>5</th>\n",
       "      <td>11501</td>\n",
       "      <td>Spearsland</td>\n",
       "      <td>65593523</td>\n",
       "      <td>2023-06-21</td>\n",
       "      <td>6</td>\n",
       "      <td>1149.42</td>\n",
       "      <td>0</td>\n",
       "      <td>85</td>\n",
       "      <td>Cyprus</td>\n",
       "      <td>Groceries</td>\n",
       "      <td>Wednesday</td>\n",
       "      <td>False</td>\n",
       "    </tr>\n",
       "    <tr>\n",
       "      <th>6</th>\n",
       "      <td>27173</td>\n",
       "      <td>Spearsland</td>\n",
       "      <td>22571670</td>\n",
       "      <td>2022-05-07</td>\n",
       "      <td>5</td>\n",
       "      <td>533.50</td>\n",
       "      <td>0</td>\n",
       "      <td>0</td>\n",
       "      <td>Guinea-Bissau</td>\n",
       "      <td>Electronics</td>\n",
       "      <td>Saturday</td>\n",
       "      <td>False</td>\n",
       "    </tr>\n",
       "    <tr>\n",
       "      <th>7</th>\n",
       "      <td>27929</td>\n",
       "      <td>Spearsland</td>\n",
       "      <td>18794205</td>\n",
       "      <td>2022-06-01</td>\n",
       "      <td>10</td>\n",
       "      <td>6186.51</td>\n",
       "      <td>10</td>\n",
       "      <td>0</td>\n",
       "      <td>Comoros</td>\n",
       "      <td>Clothing</td>\n",
       "      <td>Wednesday</td>\n",
       "      <td>False</td>\n",
       "    </tr>\n",
       "    <tr>\n",
       "      <th>8</th>\n",
       "      <td>29013</td>\n",
       "      <td>Spearsland</td>\n",
       "      <td>47345331</td>\n",
       "      <td>2023-05-20</td>\n",
       "      <td>9</td>\n",
       "      <td>4011.75</td>\n",
       "      <td>0</td>\n",
       "      <td>27</td>\n",
       "      <td>North Macedonia</td>\n",
       "      <td>Electronics</td>\n",
       "      <td>Saturday</td>\n",
       "      <td>False</td>\n",
       "    </tr>\n",
       "    <tr>\n",
       "      <th>9</th>\n",
       "      <td>24682</td>\n",
       "      <td>Spearsland</td>\n",
       "      <td>24102292</td>\n",
       "      <td>2023-07-14</td>\n",
       "      <td>6</td>\n",
       "      <td>5696.40</td>\n",
       "      <td>0</td>\n",
       "      <td>133</td>\n",
       "      <td>Sri Lanka</td>\n",
       "      <td>Clothing</td>\n",
       "      <td>Friday</td>\n",
       "      <td>False</td>\n",
       "    </tr>\n",
       "  </tbody>\n",
       "</table>\n",
       "</div>"
      ],
      "text/plain": [
       "   Unnamed: 0    Store ID  Product ID        Date  Units Sold  \\\n",
       "0       20339  Spearsland    93691949  2023-08-26           4   \n",
       "1       21879  Spearsland    56655933  2023-11-12           3   \n",
       "2        3900  Spearsland    34892534  2022-09-03          10   \n",
       "3       27620  Spearsland    22571670  2023-07-28          10   \n",
       "4        8282  Spearsland    30776388  2022-08-30           6   \n",
       "5       11501  Spearsland    65593523  2023-06-21           6   \n",
       "6       27173  Spearsland    22571670  2022-05-07           5   \n",
       "7       27929  Spearsland    18794205  2022-06-01          10   \n",
       "8       29013  Spearsland    47345331  2023-05-20           9   \n",
       "9       24682  Spearsland    24102292  2023-07-14           6   \n",
       "\n",
       "   Sales Revenue (USD)  Discount Percentage  Marketing Spend (USD)  \\\n",
       "0              2076.36                    0                    112   \n",
       "1               167.97                    0                    121   \n",
       "2              1644.30                    0                      9   \n",
       "3              1067.00                    0                     98   \n",
       "4              5821.26                    0                    127   \n",
       "5              1149.42                    0                     85   \n",
       "6               533.50                    0                      0   \n",
       "7              6186.51                   10                      0   \n",
       "8              4011.75                    0                     27   \n",
       "9              5696.40                    0                    133   \n",
       "\n",
       "    Store Location Product Category Day of the Week  Holiday Effect  \n",
       "0           Turkey         Clothing        Saturday           False  \n",
       "1         Malaysia        Furniture          Sunday           False  \n",
       "2             Togo        Furniture        Saturday           False  \n",
       "3       Mozambique      Electronics          Friday           False  \n",
       "4            Nauru      Electronics         Tuesday           False  \n",
       "5           Cyprus        Groceries       Wednesday           False  \n",
       "6    Guinea-Bissau      Electronics        Saturday           False  \n",
       "7          Comoros         Clothing       Wednesday           False  \n",
       "8  North Macedonia      Electronics        Saturday           False  \n",
       "9        Sri Lanka         Clothing          Friday           False  "
      ]
     },
     "execution_count": 10,
     "metadata": {},
     "output_type": "execute_result"
    }
   ],
   "source": [
    "data[0:10]"
   ]
  },
  {
   "cell_type": "markdown",
   "id": "07360eda-4a2b-4689-8d17-72336f3c5b68",
   "metadata": {},
   "source": [
    "Si necesitan un conjunto de datos más específico, es de utilidad  ```loc```.\n",
    "<br>\n",
    "En el siguiente ejemplo le pedimos que nos muestre los valores de la fila 0 a la 15 de las columnas \"CASE_STATUS\" y \"CASE_RECEIVED_DATE\"."
   ]
  },
  {
   "cell_type": "code",
   "execution_count": 12,
   "id": "dea1d113-79a4-48f2-a71e-4d9d3a4049fb",
   "metadata": {},
   "outputs": [
    {
     "data": {
      "text/html": [
       "<div>\n",
       "<style scoped>\n",
       "    .dataframe tbody tr th:only-of-type {\n",
       "        vertical-align: middle;\n",
       "    }\n",
       "\n",
       "    .dataframe tbody tr th {\n",
       "        vertical-align: top;\n",
       "    }\n",
       "\n",
       "    .dataframe thead th {\n",
       "        text-align: right;\n",
       "    }\n",
       "</style>\n",
       "<table border=\"1\" class=\"dataframe\">\n",
       "  <thead>\n",
       "    <tr style=\"text-align: right;\">\n",
       "      <th></th>\n",
       "      <th>Store ID</th>\n",
       "      <th>Date</th>\n",
       "    </tr>\n",
       "  </thead>\n",
       "  <tbody>\n",
       "    <tr>\n",
       "      <th>0</th>\n",
       "      <td>Spearsland</td>\n",
       "      <td>2023-08-26</td>\n",
       "    </tr>\n",
       "    <tr>\n",
       "      <th>1</th>\n",
       "      <td>Spearsland</td>\n",
       "      <td>2023-11-12</td>\n",
       "    </tr>\n",
       "    <tr>\n",
       "      <th>2</th>\n",
       "      <td>Spearsland</td>\n",
       "      <td>2022-09-03</td>\n",
       "    </tr>\n",
       "    <tr>\n",
       "      <th>3</th>\n",
       "      <td>Spearsland</td>\n",
       "      <td>2023-07-28</td>\n",
       "    </tr>\n",
       "    <tr>\n",
       "      <th>4</th>\n",
       "      <td>Spearsland</td>\n",
       "      <td>2022-08-30</td>\n",
       "    </tr>\n",
       "    <tr>\n",
       "      <th>5</th>\n",
       "      <td>Spearsland</td>\n",
       "      <td>2023-06-21</td>\n",
       "    </tr>\n",
       "    <tr>\n",
       "      <th>6</th>\n",
       "      <td>Spearsland</td>\n",
       "      <td>2022-05-07</td>\n",
       "    </tr>\n",
       "    <tr>\n",
       "      <th>7</th>\n",
       "      <td>Spearsland</td>\n",
       "      <td>2022-06-01</td>\n",
       "    </tr>\n",
       "    <tr>\n",
       "      <th>8</th>\n",
       "      <td>Spearsland</td>\n",
       "      <td>2023-05-20</td>\n",
       "    </tr>\n",
       "    <tr>\n",
       "      <th>9</th>\n",
       "      <td>Spearsland</td>\n",
       "      <td>2023-07-14</td>\n",
       "    </tr>\n",
       "    <tr>\n",
       "      <th>10</th>\n",
       "      <td>Spearsland</td>\n",
       "      <td>2023-03-09</td>\n",
       "    </tr>\n",
       "    <tr>\n",
       "      <th>11</th>\n",
       "      <td>Spearsland</td>\n",
       "      <td>2022-06-12</td>\n",
       "    </tr>\n",
       "    <tr>\n",
       "      <th>12</th>\n",
       "      <td>Spearsland</td>\n",
       "      <td>2022-03-23</td>\n",
       "    </tr>\n",
       "    <tr>\n",
       "      <th>13</th>\n",
       "      <td>Spearsland</td>\n",
       "      <td>2023-04-11</td>\n",
       "    </tr>\n",
       "    <tr>\n",
       "      <th>14</th>\n",
       "      <td>Spearsland</td>\n",
       "      <td>2023-05-26</td>\n",
       "    </tr>\n",
       "  </tbody>\n",
       "</table>\n",
       "</div>"
      ],
      "text/plain": [
       "      Store ID        Date\n",
       "0   Spearsland  2023-08-26\n",
       "1   Spearsland  2023-11-12\n",
       "2   Spearsland  2022-09-03\n",
       "3   Spearsland  2023-07-28\n",
       "4   Spearsland  2022-08-30\n",
       "5   Spearsland  2023-06-21\n",
       "6   Spearsland  2022-05-07\n",
       "7   Spearsland  2022-06-01\n",
       "8   Spearsland  2023-05-20\n",
       "9   Spearsland  2023-07-14\n",
       "10  Spearsland  2023-03-09\n",
       "11  Spearsland  2022-06-12\n",
       "12  Spearsland  2022-03-23\n",
       "13  Spearsland  2023-04-11\n",
       "14  Spearsland  2023-05-26"
      ]
     },
     "execution_count": 12,
     "metadata": {},
     "output_type": "execute_result"
    }
   ],
   "source": [
    "# Filas de la 0 a la 14 y dos columnas\n",
    "data.loc[0:14, [\"Store ID\", \"Date\"]]"
   ]
  },
  {
   "cell_type": "code",
   "execution_count": 13,
   "id": "db4b02b5-edfb-46ab-bde2-687b99801cc3",
   "metadata": {},
   "outputs": [
    {
     "data": {
      "text/html": [
       "<div>\n",
       "<style scoped>\n",
       "    .dataframe tbody tr th:only-of-type {\n",
       "        vertical-align: middle;\n",
       "    }\n",
       "\n",
       "    .dataframe tbody tr th {\n",
       "        vertical-align: top;\n",
       "    }\n",
       "\n",
       "    .dataframe thead th {\n",
       "        text-align: right;\n",
       "    }\n",
       "</style>\n",
       "<table border=\"1\" class=\"dataframe\">\n",
       "  <thead>\n",
       "    <tr style=\"text-align: right;\">\n",
       "      <th></th>\n",
       "      <th>Product ID</th>\n",
       "      <th>Date</th>\n",
       "      <th>Units Sold</th>\n",
       "      <th>Sales Revenue (USD)</th>\n",
       "      <th>Discount Percentage</th>\n",
       "      <th>Marketing Spend (USD)</th>\n",
       "    </tr>\n",
       "  </thead>\n",
       "  <tbody>\n",
       "    <tr>\n",
       "      <th>1</th>\n",
       "      <td>56655933</td>\n",
       "      <td>2023-11-12</td>\n",
       "      <td>3</td>\n",
       "      <td>167.97</td>\n",
       "      <td>0</td>\n",
       "      <td>121</td>\n",
       "    </tr>\n",
       "    <tr>\n",
       "      <th>2</th>\n",
       "      <td>34892534</td>\n",
       "      <td>2022-09-03</td>\n",
       "      <td>10</td>\n",
       "      <td>1644.30</td>\n",
       "      <td>0</td>\n",
       "      <td>9</td>\n",
       "    </tr>\n",
       "    <tr>\n",
       "      <th>3</th>\n",
       "      <td>22571670</td>\n",
       "      <td>2023-07-28</td>\n",
       "      <td>10</td>\n",
       "      <td>1067.00</td>\n",
       "      <td>0</td>\n",
       "      <td>98</td>\n",
       "    </tr>\n",
       "    <tr>\n",
       "      <th>4</th>\n",
       "      <td>30776388</td>\n",
       "      <td>2022-08-30</td>\n",
       "      <td>6</td>\n",
       "      <td>5821.26</td>\n",
       "      <td>0</td>\n",
       "      <td>127</td>\n",
       "    </tr>\n",
       "    <tr>\n",
       "      <th>5</th>\n",
       "      <td>65593523</td>\n",
       "      <td>2023-06-21</td>\n",
       "      <td>6</td>\n",
       "      <td>1149.42</td>\n",
       "      <td>0</td>\n",
       "      <td>85</td>\n",
       "    </tr>\n",
       "  </tbody>\n",
       "</table>\n",
       "</div>"
      ],
      "text/plain": [
       "   Product ID        Date  Units Sold  Sales Revenue (USD)  \\\n",
       "1    56655933  2023-11-12           3               167.97   \n",
       "2    34892534  2022-09-03          10              1644.30   \n",
       "3    22571670  2023-07-28          10              1067.00   \n",
       "4    30776388  2022-08-30           6              5821.26   \n",
       "5    65593523  2023-06-21           6              1149.42   \n",
       "\n",
       "   Discount Percentage  Marketing Spend (USD)  \n",
       "1                    0                    121  \n",
       "2                    0                      9  \n",
       "3                    0                     98  \n",
       "4                    0                    127  \n",
       "5                    0                     85  "
      ]
     },
     "execution_count": 13,
     "metadata": {},
     "output_type": "execute_result"
    }
   ],
   "source": [
    "# o por rangos\n",
    "data.loc[1:5,'Product ID': 'Marketing Spend (USD)']"
   ]
  },
  {
   "cell_type": "markdown",
   "id": "d6e71e5a-b2da-40fc-81ac-9d4a1a6e7106",
   "metadata": {},
   "source": [
    "## **Tipos de datos**\n",
    "\n",
    "En python tenemos diferentes tipos de datos, los pueden ver en la función `info()`, algunos de ellos son:\n",
    "\n",
    "    Object\n",
    "    float\n",
    "    int \n",
    "    bool \n",
    "    category\n",
    "\n",
    "Podemos tener más clases de objetos, incluso podemos crear, pero para fines de esta clase trabajaremos solo con estos. \n",
    "\n",
    "Si desean verlos de manera individual, podemos usar \"dtype()\"\n",
    "\n",
    "### **Datos cualitativos**\n",
    "\n",
    "* Explicación de este tipo de datos\n",
    "\n",
    "Con la estrucutura de base de datos de pandas, podemos identificar este tipo de valores como `object` o `category`. \n",
    "Es importante hacer una impresión de los datos antes, solo para estar completamente seguros.\n",
    "\n",
    "Unas funciones que nos ayudan mucho en este tipo de datos son: `value_counts()` y `unique()`\n",
    "\n",
    "```unique()``` : Nos ayuda a identificar los valores únicos en la columna \n",
    "\n",
    "```value_counts()```: Nos ayuda a identificar las veces que se repite cada categoría\n"
   ]
  },
  {
   "cell_type": "code",
   "execution_count": 15,
   "id": "17dd6ad6-8e89-419d-993d-bb3408b6377c",
   "metadata": {},
   "outputs": [
    {
     "data": {
      "text/plain": [
       "Store Location\n",
       "North Macedonia             10\n",
       "Finland                     10\n",
       "Tokelau                      9\n",
       "United Arab Emirates         9\n",
       "Mayotte                      9\n",
       "                            ..\n",
       "Moldova                      1\n",
       "Northern Mariana Islands     1\n",
       "Gambia                       1\n",
       "France                       1\n",
       "British Virgin Islands       1\n",
       "Name: count, Length: 239, dtype: int64"
      ]
     },
     "execution_count": 15,
     "metadata": {},
     "output_type": "execute_result"
    }
   ],
   "source": [
    "data['Store Location'].value_counts()"
   ]
  },
  {
   "cell_type": "code",
   "execution_count": 17,
   "id": "394a40d4-0874-48bc-88e6-f77b7b5720ac",
   "metadata": {},
   "outputs": [
    {
     "data": {
      "text/plain": [
       "Store Location\n",
       "North Macedonia             0.010\n",
       "Finland                     0.010\n",
       "Tokelau                     0.009\n",
       "United Arab Emirates        0.009\n",
       "Mayotte                     0.009\n",
       "                            ...  \n",
       "Moldova                     0.001\n",
       "Northern Mariana Islands    0.001\n",
       "Gambia                      0.001\n",
       "France                      0.001\n",
       "British Virgin Islands      0.001\n",
       "Name: proportion, Length: 239, dtype: float64"
      ]
     },
     "execution_count": 17,
     "metadata": {},
     "output_type": "execute_result"
    }
   ],
   "source": [
    "#normalize\n",
    "data['Store Location'].value_counts(normalize = True)"
   ]
  },
  {
   "cell_type": "code",
   "execution_count": 18,
   "id": "330bce9c-8d95-4ab9-9350-6133217d05d6",
   "metadata": {},
   "outputs": [
    {
     "data": {
      "text/plain": [
       "array(['Turkey', 'Malaysia', 'Togo', 'Mozambique', 'Nauru', 'Cyprus',\n",
       "       'Guinea-Bissau', 'Comoros', 'North Macedonia', 'Sri Lanka',\n",
       "       'Guinea', 'Bahrain', 'Namibia', 'New Caledonia', 'Bermuda',\n",
       "       'Netherlands Antilles', 'Albania', 'Ghana', 'Timor-Leste',\n",
       "       'Syrian Arab Republic', 'Falkland Islands (Malvinas)',\n",
       "       'Saint Pierre and Miquelon', 'Congo', 'Western Sahara',\n",
       "       'Australia', 'Guadeloupe', 'Cape Verde', 'Marshall Islands',\n",
       "       'Seychelles', 'Tokelau', 'Iraq',\n",
       "       'Antarctica (the territory South of 60 deg S)',\n",
       "       'Antigua and Barbuda', 'Romania', 'Canada', 'Mongolia', 'Botswana',\n",
       "       'Saint Helena', 'Burkina Faso', 'United Arab Emirates',\n",
       "       'Christmas Island', 'Saint Vincent and the Grenadines',\n",
       "       'Luxembourg', 'Greece', 'Faroe Islands', 'Poland', 'Algeria',\n",
       "       'Cocos (Keeling) Islands', 'Greenland', 'Guyana', 'United Kingdom',\n",
       "       'Bhutan', 'Mauritania', 'United States Minor Outlying Islands',\n",
       "       'Montenegro', 'Fiji', 'Paraguay', 'South Africa', 'China',\n",
       "       'Kyrgyz Republic', 'Libyan Arab Jamahiriya', 'Barbados', 'Grenada',\n",
       "       'Sao Tome and Principe', 'Saudi Arabia', 'Estonia',\n",
       "       \"Lao People's Democratic Republic\", 'Kiribati', 'Mayotte',\n",
       "       'Gibraltar', 'Netherlands', 'Saint Barthelemy', 'Guam', 'Lesotho',\n",
       "       'Maldives', 'Madagascar', 'Jersey', 'Saint Martin', 'Ecuador',\n",
       "       'Denmark', 'Sierra Leone', 'Portugal',\n",
       "       'South Georgia and the South Sandwich Islands', 'Myanmar',\n",
       "       'Latvia', 'Equatorial Guinea', 'Haiti',\n",
       "       'Bouvet Island (Bouvetoya)', 'American Samoa', 'Benin',\n",
       "       'Dominican Republic', 'Nicaragua', 'Turks and Caicos Islands',\n",
       "       'Trinidad and Tobago', \"Cote d'Ivoire\", 'Czech Republic',\n",
       "       'Hong Kong', 'Samoa', 'Ireland', 'Germany', 'Bolivia', 'Monaco',\n",
       "       'Japan', 'Aruba', 'French Guiana', 'Egypt', 'Somalia', 'Peru',\n",
       "       'Norway', 'Nigeria', 'Montserrat', 'Ethiopia', 'Uruguay',\n",
       "       'Costa Rica', 'Serbia', 'Holy See (Vatican City State)',\n",
       "       'Lithuania', 'India', 'Yemen', 'Morocco', 'Honduras', 'Sudan',\n",
       "       'Liberia', 'Swaziland', 'Mauritius', 'El Salvador', 'Guernsey',\n",
       "       'Macao', 'Philippines', 'Spain', 'Switzerland', 'Hungary',\n",
       "       'Reunion', 'Korea', 'Vietnam', 'Puerto Rico',\n",
       "       'Bosnia and Herzegovina', 'Cayman Islands', 'French Polynesia',\n",
       "       'Heard Island and McDonald Islands', 'Lebanon', 'Rwanda',\n",
       "       'Jamaica', 'Qatar', 'Slovakia (Slovak Republic)', 'Mali', 'Gabon',\n",
       "       'Cook Islands', 'Palau', 'Slovenia', 'Tanzania', 'Dominica',\n",
       "       'Zambia', 'Pakistan', 'Kazakhstan', 'Norfolk Island', 'Finland',\n",
       "       'Martinique', 'Austria', 'Croatia', 'Palestinian Territory',\n",
       "       'Afghanistan', 'Bahamas', 'Angola', 'Brazil', 'Russian Federation',\n",
       "       'Azerbaijan', 'Chile', 'Niue', 'Bangladesh', 'Kuwait', 'Sweden',\n",
       "       'Israel', 'Venezuela', 'Djibouti', 'Saint Kitts and Nevis',\n",
       "       'Solomon Islands', 'Indonesia', 'United States of America',\n",
       "       'Tunisia', 'Guatemala', 'Anguilla', 'Chad', 'Taiwan', 'Micronesia',\n",
       "       'Kenya', 'Saint Lucia', 'Singapore', 'Brunei Darussalam',\n",
       "       'Cameroon', 'Jordan', 'New Zealand', 'Central African Republic',\n",
       "       'Eritrea', 'Belgium', 'Panama', 'Belize', 'Pitcairn Islands',\n",
       "       'Tajikistan', 'Uzbekistan', 'Cuba', 'Malawi', 'Burundi', 'Vanuatu',\n",
       "       'Nepal', 'Armenia', 'Turkmenistan', 'Wallis and Futuna',\n",
       "       'Thailand', 'Tonga', 'Argentina', 'Malta', 'Iran', 'Niger',\n",
       "       'Suriname', 'Colombia', 'Iceland', 'Zimbabwe',\n",
       "       'French Southern Territories', 'Tuvalu', 'San Marino', 'Bulgaria',\n",
       "       'Georgia', 'United States Virgin Islands', 'Mexico', 'Senegal',\n",
       "       'Liechtenstein', 'Ukraine', 'Belarus', 'Uganda',\n",
       "       'Papua New Guinea', 'Italy', 'Cambodia', 'Isle of Man', 'Moldova',\n",
       "       'Northern Mariana Islands', 'Gambia', 'France',\n",
       "       'British Virgin Islands'], dtype=object)"
      ]
     },
     "execution_count": 18,
     "metadata": {},
     "output_type": "execute_result"
    }
   ],
   "source": [
    "#unique\n",
    "data['Store Location'].unique()"
   ]
  },
  {
   "cell_type": "markdown",
   "id": "162793ee-9c01-4f8d-b8e6-775775bce7e8",
   "metadata": {},
   "source": [
    "### **Datos cuantitativos**\n",
    "\n",
    "* Explicación de este tipo de datos\n",
    "\n",
    "En comparación con los datos cualitativos, los cuantitativos se reconocen debido a que son del tipo `int` o float`. \n",
    "\n",
    "**Discretos vs Contínuos**\n",
    "\n",
    "Para este tipo de datos nos ayuda la función de `describe()` si los datos son de tipo contínuo. En el caso de que sean discretos nos podemos seguir apoyando de `value_counts()`."
   ]
  },
  {
   "cell_type": "code",
   "execution_count": 19,
   "id": "acfc521e-eae9-4c4c-a26e-8fd4c61b1075",
   "metadata": {},
   "outputs": [
    {
     "data": {
      "text/plain": [
       "count     1000.000000\n",
       "mean      2639.458240\n",
       "std       2486.036212\n",
       "min          0.000000\n",
       "25%        888.600000\n",
       "50%       1808.010000\n",
       "75%       3692.655000\n",
       "max      18353.620000\n",
       "Name: Sales Revenue (USD), dtype: float64"
      ]
     },
     "execution_count": 19,
     "metadata": {},
     "output_type": "execute_result"
    }
   ],
   "source": [
    "# contínuos\n",
    "data['Sales Revenue (USD)'].describe()"
   ]
  },
  {
   "cell_type": "code",
   "execution_count": 21,
   "id": "be6cca17-8913-4b93-8686-7f8f28d36248",
   "metadata": {},
   "outputs": [
    {
     "data": {
      "text/plain": [
       "Units Sold\n",
       "7     135\n",
       "4     131\n",
       "6     130\n",
       "5     123\n",
       "3     107\n",
       "9      82\n",
       "2      63\n",
       "10     53\n",
       "8      52\n",
       "1      36\n",
       "12     25\n",
       "11     14\n",
       "14     11\n",
       "13     10\n",
       "15     10\n",
       "16      5\n",
       "0       5\n",
       "18      3\n",
       "17      2\n",
       "28      1\n",
       "19      1\n",
       "21      1\n",
       "Name: count, dtype: int64"
      ]
     },
     "execution_count": 21,
     "metadata": {},
     "output_type": "execute_result"
    }
   ],
   "source": [
    "# discretos\n",
    "data['Units Sold'].value_counts()"
   ]
  },
  {
   "cell_type": "markdown",
   "id": "84a28f35-5852-495c-b046-50b47624ebd6",
   "metadata": {},
   "source": [
    "## **Datos perdidos**\n",
    "\n",
    "El trabajo de datos perdidos depende de cada base de datos, por lo que no tenemos una guía que aplique a todo. \n",
    "<br>\n",
    "Antes de remplazar algun valor primero debemos revisar:\n",
    "* ¿Es posible remplazar ese valor con otro?\n",
    "  \n",
    "1. La tienda abre de 1 a 9\n",
    "2. La tienda no abre\n",
    "3. NaN\n",
    "\n",
    "* ¿Cuántos faltantes tenemos?\n",
    "1. Base de datos de 1,000,000 con 56,000 faltantes\n",
    "2. Base de datos de 100 con 30 faltantes. \n",
    "\n",
    "* ¿Qué lógica deberá de seguir el remplazo?\n",
    "\n",
    "\n",
    "En caso de que si puedas hacer un remplazo, la pregunta más importante será la tercera. \n",
    "\n",
    "Para estos ejemplos trabajaremos con la base de datos de `bike_buyers.csv`"
   ]
  },
  {
   "cell_type": "code",
   "execution_count": 3,
   "id": "45a0b867-a451-4973-804c-923625949bbd",
   "metadata": {},
   "outputs": [],
   "source": [
    "bike = pd.read_csv('Data/bike_buyers.csv')"
   ]
  },
  {
   "cell_type": "code",
   "execution_count": 4,
   "id": "3aeb953e-7847-4260-a89a-b15193a413fb",
   "metadata": {},
   "outputs": [
    {
     "name": "stdout",
     "output_type": "stream",
     "text": [
      "<class 'pandas.core.frame.DataFrame'>\n",
      "RangeIndex: 1000 entries, 0 to 999\n",
      "Data columns (total 13 columns):\n",
      " #   Column            Non-Null Count  Dtype  \n",
      "---  ------            --------------  -----  \n",
      " 0   ID                1000 non-null   int64  \n",
      " 1   Marital Status    993 non-null    object \n",
      " 2   Gender            989 non-null    object \n",
      " 3   Income            994 non-null    float64\n",
      " 4   Children          992 non-null    float64\n",
      " 5   Education         1000 non-null   object \n",
      " 6   Occupation        1000 non-null   object \n",
      " 7   Home Owner        996 non-null    object \n",
      " 8   Cars              991 non-null    float64\n",
      " 9   Commute Distance  1000 non-null   object \n",
      " 10  Region            1000 non-null   object \n",
      " 11  Age               992 non-null    float64\n",
      " 12  Purchased Bike    1000 non-null   object \n",
      "dtypes: float64(4), int64(1), object(8)\n",
      "memory usage: 101.7+ KB\n"
     ]
    }
   ],
   "source": [
    "# info()\n",
    "bike.info()"
   ]
  },
  {
   "cell_type": "code",
   "execution_count": 5,
   "id": "3cede785-1855-4516-891a-e5351898814f",
   "metadata": {},
   "outputs": [
    {
     "data": {
      "text/plain": [
       "ID                   0\n",
       "Marital Status       7\n",
       "Gender              11\n",
       "Income               6\n",
       "Children             8\n",
       "Education            0\n",
       "Occupation           0\n",
       "Home Owner           4\n",
       "Cars                 9\n",
       "Commute Distance     0\n",
       "Region               0\n",
       "Age                  8\n",
       "Purchased Bike       0\n",
       "dtype: int64"
      ]
     },
     "execution_count": 5,
     "metadata": {},
     "output_type": "execute_result"
    }
   ],
   "source": [
    "# isnull()\n",
    "\n",
    "bike.isnull().sum()"
   ]
  },
  {
   "cell_type": "markdown",
   "id": "b228f62c-a084-4177-83b2-4d86d4a79a6b",
   "metadata": {},
   "source": [
    "Vamos a hacer una copia de respaldo, para tener los valores originales a la mano en caso de ser necesario. "
   ]
  },
  {
   "cell_type": "code",
   "execution_count": 6,
   "id": "186e7711-d71b-439b-8dad-bad23d3f7d64",
   "metadata": {},
   "outputs": [],
   "source": [
    "respaldo = pd.read_csv('Data/bike_buyers.csv')"
   ]
  },
  {
   "cell_type": "markdown",
   "id": "0f3bb4e5-ab65-475d-ab4a-57d09cc95554",
   "metadata": {},
   "source": [
    "Ahora continuemos con la base de `bike`.\n",
    "<br>\n",
    "Nor iremos por orden, la primera columna es `Marital Status`:"
   ]
  },
  {
   "cell_type": "code",
   "execution_count": 7,
   "id": "2ea3bee6-3487-4b0d-9215-a02a9b628018",
   "metadata": {},
   "outputs": [
    {
     "data": {
      "text/plain": [
       "Marital Status\n",
       "Married    535\n",
       "Single     458\n",
       "Name: count, dtype: int64"
      ]
     },
     "execution_count": 7,
     "metadata": {},
     "output_type": "execute_result"
    }
   ],
   "source": [
    "#value_counts()\n",
    "bike['Marital Status'].value_counts()"
   ]
  },
  {
   "cell_type": "markdown",
   "id": "48f72729-bb86-4249-bec0-98480a5524e5",
   "metadata": {},
   "source": [
    "`fillna()`\n",
    "\n",
    "Esta función buscará todos los faltantes del conjunto de datos que señales. Solo necesitas declarar como argumento de entrada `()` con que valor remplazaras los faltantes. El valor puede ser **numérico** o tipo **texto**\n",
    "\n",
    "Vamos a remplazar con la leyenda:\n",
    "    \n",
    "    'Sin registro'"
   ]
  },
  {
   "cell_type": "code",
   "execution_count": 8,
   "id": "8ab72cff-8f19-4bba-9f1f-94d313c2c6cf",
   "metadata": {},
   "outputs": [],
   "source": [
    "bike['Marital Status'].fillna('Sin registro', inplace = True)\n",
    "\n",
    "#inplace evita esto:\n",
    "# bike['Marital Status'] = bike['Marital Status'].fillna('Sin registro')"
   ]
  },
  {
   "cell_type": "code",
   "execution_count": 9,
   "id": "50eaa404-8c1e-4971-8648-3525493a05f8",
   "metadata": {},
   "outputs": [
    {
     "data": {
      "text/plain": [
       "Marital Status\n",
       "Married         535\n",
       "Single          458\n",
       "Sin registro      7\n",
       "Name: count, dtype: int64"
      ]
     },
     "execution_count": 9,
     "metadata": {},
     "output_type": "execute_result"
    }
   ],
   "source": [
    "#value_counts() / unique()\n",
    "bike['Marital Status'].value_counts()"
   ]
  },
  {
   "cell_type": "markdown",
   "id": "333cece1-e43a-4af3-b9f2-f62054af2cd0",
   "metadata": {},
   "source": [
    "`replace`\n",
    "\n",
    "La lógica es la misma que `fillna`, solo que `replace` no se enfoca solo a los datos faltantes.\n",
    "\n",
    "Vamos a recuperar la columna original de `Marital Status`:"
   ]
  },
  {
   "cell_type": "code",
   "execution_count": 11,
   "id": "b991509f-f1e9-4597-9e02-1554d93cee63",
   "metadata": {},
   "outputs": [
    {
     "data": {
      "text/plain": [
       "array(['Married', 'Single', nan], dtype=object)"
      ]
     },
     "execution_count": 11,
     "metadata": {},
     "output_type": "execute_result"
    }
   ],
   "source": [
    "bike['Marital Status'] = respaldo['Marital Status'] \n",
    "#unique()\n",
    "bike['Marital Status'].unique()"
   ]
  },
  {
   "cell_type": "markdown",
   "id": "e00f235a-1e61-4b3e-8b0d-b16748e73913",
   "metadata": {},
   "source": [
    "Lo que vamos a hacer es apoyarnos de numpy con `np.nan`."
   ]
  },
  {
   "cell_type": "code",
   "execution_count": 12,
   "id": "7b570243-e363-4bea-9937-0344ea6906f2",
   "metadata": {},
   "outputs": [],
   "source": [
    "bike['Marital Status'].replace(np.nan,'Sin registro', inplace = True)"
   ]
  },
  {
   "cell_type": "code",
   "execution_count": 13,
   "id": "3fb78df5-017e-4c94-9b22-d914bf3e4c6e",
   "metadata": {},
   "outputs": [
    {
     "data": {
      "text/plain": [
       "array(['Married', 'Single', 'Sin registro'], dtype=object)"
      ]
     },
     "execution_count": 13,
     "metadata": {},
     "output_type": "execute_result"
    }
   ],
   "source": [
    "#value_counts()\n",
    "bike['Marital Status'].unique()"
   ]
  },
  {
   "cell_type": "markdown",
   "id": "9ee8edd4-1f0c-4609-ba51-e7ebedd2d999",
   "metadata": {},
   "source": [
    "***loc() - iloc()***\n",
    "\n",
    "`loc` = Acceder a los valores por medio del nombre: CASE_STATUS\n",
    "\n",
    "\n",
    "`iloc` = Acceder a los valores por la ubicación de los valores $data[3]$ "
   ]
  },
  {
   "cell_type": "markdown",
   "id": "aa39b66a-eccb-4e0f-a06f-40bb86502094",
   "metadata": {},
   "source": [
    "`ffill`\n",
    "\n",
    "Este es un método de **propagación** de valores de la función `fillna()` por medio del argumento `method`\n",
    "<br>\n",
    "Lo que hace es tomar el valor inmediato anterior y colocarlo donde hay un faltante:\n",
    "\n",
    "A\n",
    "B\n",
    "C\n",
    "nan\n",
    "\n",
    "\n",
    "A\n",
    "B\n",
    "C\n",
    "C"
   ]
  },
  {
   "cell_type": "code",
   "execution_count": 14,
   "id": "80feb58a-1bfe-404d-b278-0a892651d2d2",
   "metadata": {},
   "outputs": [],
   "source": [
    "# Vamos a colocar los datos originales\n",
    "bike['Marital Status'] = respaldo['Marital Status'] "
   ]
  },
  {
   "cell_type": "code",
   "execution_count": 15,
   "id": "a093d552-5140-4a47-9b6f-62a86058ef44",
   "metadata": {},
   "outputs": [
    {
     "data": {
      "text/plain": [
       "array(['Married', 'Single', nan], dtype=object)"
      ]
     },
     "execution_count": 15,
     "metadata": {},
     "output_type": "execute_result"
    }
   ],
   "source": [
    "#unique()\n",
    "bike['Marital Status'].unique()"
   ]
  },
  {
   "cell_type": "code",
   "execution_count": 16,
   "id": "e76c6245-ccc2-4be3-a05a-df2f7f5a4263",
   "metadata": {},
   "outputs": [
    {
     "data": {
      "text/plain": [
       "0    Married\n",
       "1    Married\n",
       "2    Married\n",
       "3     Single\n",
       "4     Single\n",
       "5    Married\n",
       "6     Single\n",
       "7    Married\n",
       "8        NaN\n",
       "9    Married\n",
       "Name: Marital Status, dtype: object"
      ]
     },
     "execution_count": 16,
     "metadata": {},
     "output_type": "execute_result"
    }
   ],
   "source": [
    "#head(10)\n",
    "bike['Marital Status'].head(10)"
   ]
  },
  {
   "cell_type": "code",
   "execution_count": 17,
   "id": "895cc836-9c1b-4d17-845f-3c4497bf914a",
   "metadata": {},
   "outputs": [
    {
     "name": "stderr",
     "output_type": "stream",
     "text": [
      "/tmp/ipykernel_632/1689592096.py:2: FutureWarning: Series.fillna with 'method' is deprecated and will raise in a future version. Use obj.ffill() or obj.bfill() instead.\n",
      "  bike['Marital Status'].fillna(method = 'ffill', inplace = True)\n"
     ]
    }
   ],
   "source": [
    "#ffill\n",
    "bike['Marital Status'].fillna(method = 'ffill', inplace = True)"
   ]
  },
  {
   "cell_type": "code",
   "execution_count": 18,
   "id": "638bbf91-f27d-4c76-9d1c-9c9d0e455b2f",
   "metadata": {},
   "outputs": [
    {
     "data": {
      "text/plain": [
       "0    Married\n",
       "1    Married\n",
       "2    Married\n",
       "3     Single\n",
       "4     Single\n",
       "5    Married\n",
       "6     Single\n",
       "7    Married\n",
       "8    Married\n",
       "9    Married\n",
       "Name: Marital Status, dtype: object"
      ]
     },
     "execution_count": 18,
     "metadata": {},
     "output_type": "execute_result"
    }
   ],
   "source": [
    "bike['Marital Status'].head(10)"
   ]
  },
  {
   "cell_type": "markdown",
   "id": "168f1e6c-afba-4aea-8d90-80b012e32986",
   "metadata": {},
   "source": [
    "**Moda**\n",
    "\n",
    "Por el tipo de dato que tenemos también podemos aplicar la moda, para esto vamos a seguir apoyandonos de la función `fillna()` y tambien de `mode()`"
   ]
  },
  {
   "cell_type": "code",
   "execution_count": null,
   "id": "62c1fed8-d58f-42ba-a8c2-e84417e04b08",
   "metadata": {},
   "outputs": [],
   "source": [
    "# Vamos a colocar los datos originales\n",
    "\n",
    "bike['Marital Status'] = respaldo['Marital Status'] "
   ]
  },
  {
   "cell_type": "code",
   "execution_count": null,
   "id": "6a33e44c-5fc0-41c2-b838-bf38e1188a99",
   "metadata": {},
   "outputs": [],
   "source": [
    "#moda\n",
    "moda = bike['Marital Status'].mode()[0]\n",
    "moda"
   ]
  },
  {
   "cell_type": "markdown",
   "id": "e2627b2d-a8bc-4126-b860-575c4bc07afd",
   "metadata": {},
   "source": [
    "Para obtener el valor de moda directamente, necesitas acceder al primer elemento con [0] porque mode() devuelve una Series"
   ]
  },
  {
   "cell_type": "code",
   "execution_count": null,
   "id": "5a3f5225-a3a4-4892-b549-cb74e9cd97ba",
   "metadata": {},
   "outputs": [],
   "source": [
    "# fillna\n",
    "\n",
    "# head()\n",
    "\n"
   ]
  },
  {
   "cell_type": "markdown",
   "id": "93544039-1a6f-4f6f-ad36-7a83aaa38149",
   "metadata": {},
   "source": [
    "**dropna()**\n",
    "\n",
    "En caso de que no pueda realizarse algun remplazo, se recomienda eliminar los faltantes, esto también lo podemos hacer especificando la columna que estamos analizando:"
   ]
  },
  {
   "cell_type": "code",
   "execution_count": null,
   "id": "242dc785-6dcc-4ff0-8a6c-8299bb7ad6db",
   "metadata": {},
   "outputs": [],
   "source": [
    "bike.shape"
   ]
  },
  {
   "cell_type": "markdown",
   "id": "db42e3cc-c73f-4032-8877-aabec9491f44",
   "metadata": {},
   "source": [
    "Podemos hacer una eliminación **general** de los faltantes."
   ]
  },
  {
   "cell_type": "code",
   "execution_count": null,
   "id": "f11c6785-8cd7-4cce-9d59-609102846571",
   "metadata": {},
   "outputs": [],
   "source": [
    "bike.dropna(inplace = True)"
   ]
  },
  {
   "cell_type": "code",
   "execution_count": null,
   "id": "0ec37fc9-8ee5-4a8a-9634-f1a973851884",
   "metadata": {},
   "outputs": [],
   "source": [
    "bike.shape"
   ]
  },
  {
   "cell_type": "markdown",
   "id": "0a806cf0-eeed-418d-aa68-ca552581ae69",
   "metadata": {},
   "source": [
    "Usemos la copia que teniamos generada"
   ]
  },
  {
   "cell_type": "code",
   "execution_count": null,
   "id": "5cf7dab1-f61e-4beb-8915-cf14fda2e311",
   "metadata": {},
   "outputs": [],
   "source": [
    "bike = respaldo \n",
    "bike.info()"
   ]
  },
  {
   "cell_type": "markdown",
   "id": "713de305-9a31-4355-8e44-78baf81f096e",
   "metadata": {},
   "source": [
    "O bien especificar a que columnas deseamos aplicar la función:"
   ]
  },
  {
   "cell_type": "code",
   "execution_count": null,
   "id": "7b8de277-d4a5-47ce-a31b-aed736264dfc",
   "metadata": {},
   "outputs": [],
   "source": [
    "#bike.dropna(subset = ['Age', 'Cars'], inplace = True)\n",
    "bike.dropna(subset = ['Home Owner', 'Income'], inplace = True)"
   ]
  },
  {
   "cell_type": "code",
   "execution_count": null,
   "id": "12030f00-eaf3-499a-9e3f-3e53511ead0e",
   "metadata": {},
   "outputs": [],
   "source": [
    "bike.shape"
   ]
  },
  {
   "cell_type": "code",
   "execution_count": null,
   "id": "84f6ca3d-2f35-49f4-ad53-94d86ed2849b",
   "metadata": {},
   "outputs": [],
   "source": [
    "#isnull()\n",
    "bike.isnull().sum()"
   ]
  },
  {
   "cell_type": "markdown",
   "id": "269fb366-e767-4619-8ac6-1e7d0dfce72b",
   "metadata": {},
   "source": [
    "* ¿Cuál consideran que es la mejor opción para la columna de estatus marital?\n",
    "\n",
    "* ¿Las técnicas que empleamos anteriormente son igualmente aplicables a `Income`, `Children` y `Age`?"
   ]
  },
  {
   "cell_type": "markdown",
   "id": "37c5272b-d63f-447c-b4b2-fc7b56788ece",
   "metadata": {},
   "source": [
    "**Media**\n",
    "\n",
    "Es una de las formas más utilizadas para hacer el remplazo de valores, la forma en que se aplica es similar a la de la moda (`mode()`).\n",
    "\n",
    "En este ejemplo vamos a trabajar con `Income`:"
   ]
  },
  {
   "cell_type": "code",
   "execution_count": null,
   "id": "ae8811ca-da97-47d7-8d44-7cfa0575e455",
   "metadata": {},
   "outputs": [],
   "source": [
    "mean = bike.Income.mean()\n",
    "mean"
   ]
  },
  {
   "cell_type": "code",
   "execution_count": null,
   "id": "16554e18-2d85-46e1-901a-29b4e0a91b6b",
   "metadata": {},
   "outputs": [],
   "source": [
    "#o bien -> describe()\n",
    "bike.Income.describe()"
   ]
  },
  {
   "cell_type": "code",
   "execution_count": null,
   "id": "86153f46-7115-48c5-9390-baededd8b1af",
   "metadata": {},
   "outputs": [],
   "source": [
    "mean = \n",
    "\n",
    "bike['Income'].fillna(mean, inplace = True)"
   ]
  },
  {
   "cell_type": "markdown",
   "id": "9449ea59-589c-4852-824d-e02559e3272b",
   "metadata": {},
   "source": [
    "También podrían hacer lo siguiente:\n",
    "    \n",
    "    bike['Income'].fillna(bike['Income'].mean(), inplace= True)\n",
    "    \n",
    "Pero ¿que pasaría si intentan aplicar esa misma lógica a la columna de `Children`?"
   ]
  },
  {
   "cell_type": "code",
   "execution_count": null,
   "id": "055057f2-1933-45ce-82ca-ff1f2fab2042",
   "metadata": {},
   "outputs": [],
   "source": [
    "mean2 = bike.Children.mean()\n",
    "mean2"
   ]
  },
  {
   "cell_type": "markdown",
   "id": "8aafbe7d-ebf5-4125-95c4-1953605fbe47",
   "metadata": {},
   "source": [
    "¿Es correcto?\n",
    "\n",
    "Cuando tenemos variables tipo **discretas** no debemos hacer divisiones que nos arrojen valores tipo *float*.\n",
    "<br>\n",
    "En caso de que tengan este tipo de valores y requieran aplicar la media, solo necesitan hacer el siguiente ajuste:"
   ]
  },
  {
   "cell_type": "code",
   "execution_count": null,
   "id": "a0a6d740-153d-4bd5-9d01-3a74604d2520",
   "metadata": {},
   "outputs": [],
   "source": [
    "mean2 = round(mean2)\n",
    "mean2"
   ]
  },
  {
   "cell_type": "code",
   "execution_count": null,
   "id": "9d1244d7-f8c5-4cc7-836f-35faf78be74c",
   "metadata": {},
   "outputs": [],
   "source": [
    "bike['Children'].fillna(mean2, inplace = True)"
   ]
  },
  {
   "cell_type": "markdown",
   "id": "6222c067-90af-478b-867a-4f14b3ba7cef",
   "metadata": {},
   "source": [
    "En caso de que requieran analizar la mediana, la lógica permanece igual:\n",
    "\n",
    "    mediana = bike['Children'].median()\n",
    "\n",
    "Solo asegurense de imprimir el valor con el que estarán haciendo el remplazo para ver que tenga sentido con: formato, valor y estructura de la columna. "
   ]
  },
  {
   "cell_type": "markdown",
   "id": "1c63ac0b-43e6-4e95-bc19-564f6f32d622",
   "metadata": {},
   "source": [
    "## **Tipo de dato**\n",
    "\n",
    "En esta últia sección, vamos a eliminar los faltantes de toda la base de datos como primer paso:"
   ]
  },
  {
   "cell_type": "code",
   "execution_count": null,
   "id": "6bdf3998-d26c-485c-9f3c-a019931f6b78",
   "metadata": {},
   "outputs": [],
   "source": [
    "df = pd.read_csv(\"bike_buyers.csv\")\n",
    "df.info()"
   ]
  },
  {
   "cell_type": "code",
   "execution_count": null,
   "id": "6aed01c9-7c18-4a75-a044-c7369bbfa7d8",
   "metadata": {},
   "outputs": [],
   "source": [
    "#isnull\n",
    "\n",
    "df.isnull().sum()"
   ]
  },
  {
   "cell_type": "code",
   "execution_count": null,
   "id": "9ca457eb-f68d-403a-a2d5-f0b692c46129",
   "metadata": {},
   "outputs": [],
   "source": [
    "df.dropna(inplace=True)\n",
    "df.shape"
   ]
  },
  {
   "cell_type": "code",
   "execution_count": null,
   "id": "031ee7c6-b2a5-4d50-b2f8-1fad4303afa8",
   "metadata": {},
   "outputs": [],
   "source": [
    "df.head()"
   ]
  },
  {
   "cell_type": "markdown",
   "id": "d4f85b8b-880a-47e2-8a1c-0d64e10f82df",
   "metadata": {},
   "source": [
    "### **Cambio de tipo de dato**\n"
   ]
  },
  {
   "cell_type": "code",
   "execution_count": null,
   "id": "9ef72e1c-48b8-47e6-aa2e-c94e18679a70",
   "metadata": {},
   "outputs": [],
   "source": [
    "df.Children = df.Children.astype('int')"
   ]
  },
  {
   "cell_type": "code",
   "execution_count": null,
   "id": "cdc431e1-b241-4d66-914f-dad3cbbf25ca",
   "metadata": {},
   "outputs": [],
   "source": [
    "#head()\n"
   ]
  },
  {
   "cell_type": "markdown",
   "id": "21fa2ff5-435a-4518-bcd6-1bad5f4d7847",
   "metadata": {},
   "source": [
    "**Multiples columnas**"
   ]
  },
  {
   "cell_type": "code",
   "execution_count": null,
   "id": "ebb96d27-22ae-40ab-8009-26c737798348",
   "metadata": {},
   "outputs": [],
   "source": [
    "df = df.astype({'': 'int32', '': 'float64'})"
   ]
  },
  {
   "cell_type": "code",
   "execution_count": null,
   "id": "76b87338-f720-4f12-942f-d3e20cd78494",
   "metadata": {},
   "outputs": [],
   "source": [
    "# head()\n"
   ]
  },
  {
   "cell_type": "markdown",
   "id": "02dc6e33-cf7f-4710-9e84-8266d781c918",
   "metadata": {},
   "source": [
    "**Otros casos**\n",
    "\n",
    "En algunas ocasiones, la columa puede tener un dato erroneo o mal capturado.\n",
    "Imaginemos que tenemos la siguiente lista:\n",
    "\n",
    "```Age = [24.0, 25.0. 'treinta', 30.0]```\n",
    "\n",
    "Al aplicar la función, python detectara un error debido a que 'treinta' no es un valor que se pueda convertir directamente a entero.\n",
    "\n",
    "En esos casos podemos aplicar lo siguiente:\n"
   ]
  },
  {
   "cell_type": "code",
   "execution_count": null,
   "id": "fc4fb2b1-6783-4290-8f7b-6d51e5350ae0",
   "metadata": {},
   "outputs": [],
   "source": [
    "Age = [24.0, 25.0, 'treinta', 30.0]\n",
    "Age = pd.Series(Age)\n",
    "\n",
    "Age = pd.to_numeric(Age, errors='coerce').fillna(0).astype(int)\n",
    "\n",
    "print(Age)"
   ]
  },
  {
   "cell_type": "markdown",
   "id": "49081791-b66b-487a-839e-0697448268aa",
   "metadata": {},
   "source": [
    "```to_numeric``` es una función de **inferencia**, la cual determina el mejor tipo númerico para los datos a analizar.\n",
    "\n",
    "En este caso **coerce** pide forzar una conversión a otro tipo de dato que permita continuar con el proceso, de esta forma \"treinta\" se convierte en NaN (Not a number), luego aplicamos ```fillna(0)``` y esos valores son ahora igual a 0.\n"
   ]
  },
  {
   "cell_type": "markdown",
   "id": "8a64df4b-996c-4bb0-9df0-b40339a1c2c6",
   "metadata": {},
   "source": [
    "### **Categorías no utilizadas**\n",
    "\n",
    "En estos casos, utilizaremos ```value_counts()```, despues trabajaremos con funciones que lo hagan más rápido:"
   ]
  },
  {
   "cell_type": "code",
   "execution_count": null,
   "id": "7430f444-8a28-4662-b1e8-18e72a1ec469",
   "metadata": {},
   "outputs": [],
   "source": [
    "# head()"
   ]
  },
  {
   "cell_type": "code",
   "execution_count": null,
   "id": "f2a2b55c-2f30-45ca-a4e2-6656947ebeeb",
   "metadata": {},
   "outputs": [],
   "source": [
    "# 'Marital Status'"
   ]
  },
  {
   "cell_type": "code",
   "execution_count": null,
   "id": "30a7e2fb-841b-44ca-9af5-48077d5fc286",
   "metadata": {},
   "outputs": [],
   "source": [
    "# 'Education'\n"
   ]
  },
  {
   "cell_type": "markdown",
   "id": "dd09f262-9aa7-469b-badc-c1429dee3cde",
   "metadata": {},
   "source": [
    "Hay diferentes métodos para eliminar estos valores:\n",
    "\n",
    "1. Se genera una serie boleana donde *\"Partial High School\"* es igual a **False** y el resto de las categorías es igual a **True**, así que \n",
    "lo que pedimos es que solo considere aquellas filas donde el valor sea **True**."
   ]
  },
  {
   "cell_type": "code",
   "execution_count": null,
   "id": "cbf28201-b75f-4af8-b900-a5d49f97faa1",
   "metadata": {},
   "outputs": [],
   "source": [
    "df_cleaned = df[df['Education'] != 'Partial High School']"
   ]
  },
  {
   "cell_type": "markdown",
   "id": "4429e0e2-56f4-46be-9193-2d3701d1e53f",
   "metadata": {},
   "source": [
    "2. Con la función ```drop()``` somos un poco más especificos y pedimos que elimine todos los valores *'Partial High School'¨* de la columa *Education*.\n"
   ]
  },
  {
   "cell_type": "code",
   "execution_count": null,
   "id": "a0e5cb52-1955-432a-88ff-e13d179e8e70",
   "metadata": {},
   "outputs": [],
   "source": [
    "# df.drop(df[df['Education'] == 'Partial High School'].index, inplace=True)"
   ]
  },
  {
   "cell_type": "markdown",
   "id": "7113fb79-d602-44fe-9540-86e6196969ff",
   "metadata": {},
   "source": [
    "Por último, impriman un ```shape```, ```info()``` o ```head()``` y vean su bas de datos final:\n"
   ]
  }
 ],
 "metadata": {
  "kernelspec": {
   "display_name": "Python 3 (ipykernel)",
   "language": "python",
   "name": "python3"
  },
  "language_info": {
   "codemirror_mode": {
    "name": "ipython",
    "version": 3
   },
   "file_extension": ".py",
   "mimetype": "text/x-python",
   "name": "python",
   "nbconvert_exporter": "python",
   "pygments_lexer": "ipython3",
   "version": "3.10.14"
  }
 },
 "nbformat": 4,
 "nbformat_minor": 5
}
